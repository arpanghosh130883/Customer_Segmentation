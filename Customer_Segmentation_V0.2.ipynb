{
 "cells": [
  {
   "cell_type": "code",
   "execution_count": 1,
   "metadata": {},
   "outputs": [],
   "source": [
    "## Data Analysis Phase\n",
    "## MAin aim is to understand more about the data\n",
    "\n",
    "import pandas as pd\n",
    "import numpy as np\n",
    "import matplotlib.pyplot as plt\n",
    "%matplotlib inline\n",
    "import seaborn as sns\n",
    "import scipy.stats as stat\n",
    "import pylab\n",
    "import visuals as vs\n",
    "import visuals_withoutborder as vswb\n",
    "from sklearn.cluster import KMeans\n",
    "from sklearn.preprocessing import MinMaxScaler\n",
    "#from matplotlib.colors import ListedColormap\n",
    "## Display all the columns of the dataframe\n",
    "plt.style.use(\"ggplot\")\n",
    "#plt.style.use(\"fivethirtyeight\")\n",
    "pd.pandas.set_option('display.max_columns',None)\n",
    "pd.pandas.set_option('display.max_rows',None)\n",
    "import warnings\n",
    "warnings.filterwarnings('ignore')\n",
    "import ssl\n",
    "ssl_cert_reqs = ssl.CERT_NONE ##for SSL : CERTIFICATE VERIFY FAILED ISSUE\n",
    "# # Multiple Output display\n",
    "from IPython.core.interactiveshell import InteractiveShell\n",
    "InteractiveShell.ast_node_interactivity = \"all\""
   ]
  },
  {
   "cell_type": "code",
   "execution_count": 62,
   "metadata": {},
   "outputs": [
    {
     "name": "stdout",
     "output_type": "stream",
     "text": [
      "Gkr-\u001b[1;32mMessage\u001b[0m: \u001b[34m14:55:06.881\u001b[0m: couldn't connect to dbus session bus: Failed to connect to socket /run/user/1001/bus: Connection refused\n",
      "Keyring is skipped due to an exception: org.freedesktop.DBus.Error.NoServer: Failed to connect to socket /run/user/1001/bus: Connection refused\n",
      "Defaulting to user installation because normal site-packages is not writeable\n",
      "Collecting vaex\n",
      "  Downloading vaex-4.5.0-py3-none-any.whl (4.6 kB)\n",
      "Collecting vaex-ml<0.15,>=0.14.0\n",
      "  Downloading vaex_ml-0.14.0-py3-none-any.whl (108 kB)\n",
      "\u001b[K     |████████████████████████████████| 108 kB 5.6 MB/s eta 0:00:01\n",
      "\u001b[?25hCollecting vaex-server<0.7,>=0.6.1\n",
      "  Downloading vaex_server-0.6.1-py3-none-any.whl (22 kB)\n",
      "Collecting vaex-hdf5<0.11,>=0.10.0\n",
      "  Downloading vaex_hdf5-0.10.0-py3-none-any.whl (15 kB)\n",
      "Collecting vaex-core<5,>=4.5.0\n",
      "  Downloading vaex_core-4.5.1-cp36-cp36m-manylinux2010_x86_64.whl (3.2 MB)\n",
      "\u001b[K     |████████████████████████████████| 3.2 MB 11.0 MB/s eta 0:00:01\n",
      "\u001b[?25hCollecting vaex-jupyter<0.7,>=0.6.0\n",
      "  Downloading vaex_jupyter-0.6.0-py3-none-any.whl (42 kB)\n",
      "\u001b[K     |████████████████████████████████| 42 kB 673 kB/s  eta 0:00:01\n",
      "\u001b[?25hCollecting vaex-astro<0.10,>=0.9.0\n",
      "  Downloading vaex_astro-0.9.0-py3-none-any.whl (20 kB)\n",
      "Collecting vaex-viz<0.6,>=0.5.0\n",
      "  Downloading vaex_viz-0.5.0-py3-none-any.whl (19 kB)\n",
      "Requirement already satisfied: astropy in /usr/local/lib/python3.6/dist-packages (from vaex-astro<0.10,>=0.9.0->vaex) (4.0)\n",
      "Requirement already satisfied: dask in /home/mvisi/.local/lib/python3.6/site-packages (from vaex-core<5,>=4.5.0->vaex) (2021.3.0)\n",
      "Collecting frozendict\n",
      "  Downloading frozendict-2.0.7-py3-none-any.whl (8.3 kB)\n",
      "Requirement already satisfied: tabulate>=0.8.3 in /home/mvisi/.local/lib/python3.6/site-packages (from vaex-core<5,>=4.5.0->vaex) (0.8.9)\n",
      "Requirement already satisfied: requests in /home/mvisi/.local/lib/python3.6/site-packages (from vaex-core<5,>=4.5.0->vaex) (2.25.1)\n",
      "Collecting aplus\n",
      "  Downloading aplus-0.11.0.tar.gz (3.7 kB)\n",
      "Requirement already satisfied: six in /home/mvisi/.local/lib/python3.6/site-packages (from vaex-core<5,>=4.5.0->vaex) (1.15.0)\n",
      "Collecting nest-asyncio>=1.3.3\n",
      "  Downloading nest_asyncio-1.5.1-py3-none-any.whl (5.0 kB)\n",
      "Requirement already satisfied: future>=0.15.2 in /usr/local/lib/python3.6/dist-packages (from vaex-core<5,>=4.5.0->vaex) (0.18.2)\n",
      "Collecting filelock\n",
      "  Downloading filelock-3.4.0-py3-none-any.whl (9.8 kB)\n",
      "Requirement already satisfied: pandas in /home/mvisi/.local/lib/python3.6/site-packages (from vaex-core<5,>=4.5.0->vaex) (1.1.5)\n",
      "Collecting pyarrow>=3.0\n",
      "  Downloading pyarrow-6.0.0-cp36-cp36m-manylinux_2_17_x86_64.manylinux2014_x86_64.whl (25.5 MB)\n",
      "\u001b[K     |████████████████████████████████| 25.5 MB 11.5 MB/s eta 0:00:01\n",
      "\u001b[?25hCollecting blake3\n",
      "  Downloading blake3-0.2.1-cp36-cp36m-manylinux_2_5_x86_64.manylinux1_x86_64.whl (984 kB)\n",
      "\u001b[K     |████████████████████████████████| 984 kB 15.3 MB/s eta 0:00:01\n",
      "\u001b[?25hRequirement already satisfied: pyyaml in /usr/local/lib/python3.6/dist-packages (from vaex-core<5,>=4.5.0->vaex) (5.2)\n",
      "Requirement already satisfied: numpy>=1.16 in /home/mvisi/.local/lib/python3.6/site-packages (from vaex-core<5,>=4.5.0->vaex) (1.19.5)\n",
      "Requirement already satisfied: cloudpickle in /usr/local/lib/python3.6/dist-packages (from vaex-core<5,>=4.5.0->vaex) (1.2.2)\n",
      "Collecting progressbar2\n",
      "  Downloading progressbar2-3.55.0-py2.py3-none-any.whl (26 kB)\n",
      "Requirement already satisfied: h5py>=2.9 in /usr/local/lib/python3.6/dist-packages (from vaex-hdf5<0.11,>=0.10.0->vaex) (2.10.0)\n",
      "Collecting ipyvuetify<2,>=1.2.2\n",
      "  Downloading ipyvuetify-1.8.1-py2.py3-none-any.whl (11.7 MB)\n",
      "\u001b[K     |████████████████████████████████| 11.7 MB 110 kB/s eta 0:00:01\n",
      "\u001b[?25hCollecting ipyleaflet\n",
      "  Downloading ipyleaflet-0.14.0-py2.py3-none-any.whl (3.3 MB)\n",
      "\u001b[K     |████████████████████████████████| 3.3 MB 437 kB/s eta 0:00:01\n",
      "\u001b[?25hCollecting bqplot>=0.10.1\n",
      "  Downloading bqplot-0.12.31-py2.py3-none-any.whl (1.2 MB)\n",
      "\u001b[K     |████████████████████████████████| 1.2 MB 84 kB/s eta 0:00:011\n",
      "\u001b[?25hCollecting ipympl\n",
      "  Downloading ipympl-0.8.2-py2.py3-none-any.whl (84 kB)\n",
      "\u001b[K     |████████████████████████████████| 84 kB 1.4 MB/s eta 0:00:011\n",
      "\u001b[?25hCollecting ipyvolume>=0.4\n",
      "  Downloading ipyvolume-0.5.2-py2.py3-none-any.whl (2.9 MB)\n",
      "\u001b[K     |████████████████████████████████| 2.9 MB 4.4 MB/s eta 0:00:01\n",
      "\u001b[?25hRequirement already satisfied: xarray in /home/mvisi/.local/lib/python3.6/site-packages (from vaex-jupyter<0.7,>=0.6.0->vaex) (0.16.2)\n",
      "Collecting traittypes>=0.0.6\n",
      "  Downloading traittypes-0.2.1-py2.py3-none-any.whl (8.6 kB)\n",
      "Requirement already satisfied: traitlets>=4.3.0 in /home/mvisi/.local/lib/python3.6/site-packages (from bqplot>=0.10.1->vaex-jupyter<0.7,>=0.6.0->vaex) (4.3.3)\n",
      "Requirement already satisfied: ipywidgets>=7.5.0 in /home/mvisi/.local/lib/python3.6/site-packages (from bqplot>=0.10.1->vaex-jupyter<0.7,>=0.6.0->vaex) (7.6.3)\n",
      "Collecting pythreejs>=1.0.0\n",
      "  Downloading pythreejs-2.3.0-py2.py3-none-any.whl (3.4 MB)\n",
      "\u001b[K     |████████████████████████████████| 3.4 MB 4.5 MB/s eta 0:00:01\n",
      "\u001b[?25hRequirement already satisfied: Pillow in /home/mvisi/.local/lib/python3.6/site-packages (from ipyvolume>=0.4->vaex-jupyter<0.7,>=0.6.0->vaex) (8.1.2)\n",
      "Collecting ipywebrtc\n",
      "  Downloading ipywebrtc-0.6.0-py2.py3-none-any.whl (260 kB)\n",
      "\u001b[K     |████████████████████████████████| 260 kB 15.3 MB/s eta 0:00:01\n",
      "\u001b[?25hCollecting ipyvue<2,>=1.5\n",
      "  Downloading ipyvue-1.7.0-py2.py3-none-any.whl (2.7 MB)\n",
      "\u001b[K     |████████████████████████████████| 2.7 MB 4.4 MB/s eta 0:00:01\n",
      "\u001b[?25hRequirement already satisfied: nbformat>=4.2.0 in /usr/local/lib/python3.6/dist-packages (from ipywidgets>=7.5.0->bqplot>=0.10.1->vaex-jupyter<0.7,>=0.6.0->vaex) (4.4.0)\n",
      "Requirement already satisfied: jupyterlab-widgets>=1.0.0 in /home/mvisi/.local/lib/python3.6/site-packages (from ipywidgets>=7.5.0->bqplot>=0.10.1->vaex-jupyter<0.7,>=0.6.0->vaex) (1.0.0)\n",
      "Requirement already satisfied: ipykernel>=4.5.1 in /home/mvisi/.local/lib/python3.6/site-packages (from ipywidgets>=7.5.0->bqplot>=0.10.1->vaex-jupyter<0.7,>=0.6.0->vaex) (5.5.0)\n",
      "Requirement already satisfied: widgetsnbextension~=3.5.0 in /usr/local/lib/python3.6/dist-packages (from ipywidgets>=7.5.0->bqplot>=0.10.1->vaex-jupyter<0.7,>=0.6.0->vaex) (3.5.0)\n",
      "Requirement already satisfied: ipython>=4.0.0 in /home/mvisi/.local/lib/python3.6/site-packages (from ipywidgets>=7.5.0->bqplot>=0.10.1->vaex-jupyter<0.7,>=0.6.0->vaex) (7.16.1)\n",
      "Requirement already satisfied: tornado>=4.2 in /home/mvisi/.local/lib/python3.6/site-packages (from ipykernel>=4.5.1->ipywidgets>=7.5.0->bqplot>=0.10.1->vaex-jupyter<0.7,>=0.6.0->vaex) (6.1)\n",
      "Requirement already satisfied: jupyter-client in /home/mvisi/.local/lib/python3.6/site-packages (from ipykernel>=4.5.1->ipywidgets>=7.5.0->bqplot>=0.10.1->vaex-jupyter<0.7,>=0.6.0->vaex) (6.1.12)\n",
      "Requirement already satisfied: pygments in /home/mvisi/.local/lib/python3.6/site-packages (from ipython>=4.0.0->ipywidgets>=7.5.0->bqplot>=0.10.1->vaex-jupyter<0.7,>=0.6.0->vaex) (2.8.1)\n",
      "Requirement already satisfied: pickleshare in /home/mvisi/.local/lib/python3.6/site-packages (from ipython>=4.0.0->ipywidgets>=7.5.0->bqplot>=0.10.1->vaex-jupyter<0.7,>=0.6.0->vaex) (0.7.5)\n",
      "Requirement already satisfied: backcall in /home/mvisi/.local/lib/python3.6/site-packages (from ipython>=4.0.0->ipywidgets>=7.5.0->bqplot>=0.10.1->vaex-jupyter<0.7,>=0.6.0->vaex) (0.2.0)\n",
      "Requirement already satisfied: setuptools>=18.5 in /home/mvisi/.local/lib/python3.6/site-packages (from ipython>=4.0.0->ipywidgets>=7.5.0->bqplot>=0.10.1->vaex-jupyter<0.7,>=0.6.0->vaex) (54.1.2)\n",
      "Requirement already satisfied: jedi>=0.10 in /home/mvisi/.local/lib/python3.6/site-packages (from ipython>=4.0.0->ipywidgets>=7.5.0->bqplot>=0.10.1->vaex-jupyter<0.7,>=0.6.0->vaex) (0.18.0)\n",
      "Requirement already satisfied: decorator in /home/mvisi/.local/lib/python3.6/site-packages (from ipython>=4.0.0->ipywidgets>=7.5.0->bqplot>=0.10.1->vaex-jupyter<0.7,>=0.6.0->vaex) (4.4.2)\n",
      "Requirement already satisfied: pexpect in /home/mvisi/.local/lib/python3.6/site-packages (from ipython>=4.0.0->ipywidgets>=7.5.0->bqplot>=0.10.1->vaex-jupyter<0.7,>=0.6.0->vaex) (4.8.0)\n",
      "Requirement already satisfied: prompt-toolkit!=3.0.0,!=3.0.1,<3.1.0,>=2.0.0 in /home/mvisi/.local/lib/python3.6/site-packages (from ipython>=4.0.0->ipywidgets>=7.5.0->bqplot>=0.10.1->vaex-jupyter<0.7,>=0.6.0->vaex) (3.0.17)\n",
      "Requirement already satisfied: parso<0.9.0,>=0.8.0 in /home/mvisi/.local/lib/python3.6/site-packages (from jedi>=0.10->ipython>=4.0.0->ipywidgets>=7.5.0->bqplot>=0.10.1->vaex-jupyter<0.7,>=0.6.0->vaex) (0.8.1)\n",
      "Requirement already satisfied: jupyter-core in /home/mvisi/.local/lib/python3.6/site-packages (from nbformat>=4.2.0->ipywidgets>=7.5.0->bqplot>=0.10.1->vaex-jupyter<0.7,>=0.6.0->vaex) (4.7.1)\n",
      "Requirement already satisfied: jsonschema!=2.5.0,>=2.4 in /usr/local/lib/python3.6/dist-packages (from nbformat>=4.2.0->ipywidgets>=7.5.0->bqplot>=0.10.1->vaex-jupyter<0.7,>=0.6.0->vaex) (3.0.1)\n",
      "Requirement already satisfied: ipython-genutils in /home/mvisi/.local/lib/python3.6/site-packages (from nbformat>=4.2.0->ipywidgets>=7.5.0->bqplot>=0.10.1->vaex-jupyter<0.7,>=0.6.0->vaex) (0.2.0)\n",
      "Requirement already satisfied: attrs>=17.4.0 in /home/mvisi/.local/lib/python3.6/site-packages (from jsonschema!=2.5.0,>=2.4->nbformat>=4.2.0->ipywidgets>=7.5.0->bqplot>=0.10.1->vaex-jupyter<0.7,>=0.6.0->vaex) (20.3.0)\n",
      "Requirement already satisfied: pyrsistent>=0.14.0 in /usr/local/lib/python3.6/dist-packages (from jsonschema!=2.5.0,>=2.4->nbformat>=4.2.0->ipywidgets>=7.5.0->bqplot>=0.10.1->vaex-jupyter<0.7,>=0.6.0->vaex) (0.15.2)\n"
     ]
    },
    {
     "name": "stdout",
     "output_type": "stream",
     "text": [
      "Requirement already satisfied: python-dateutil>=2.7.3 in /home/mvisi/.local/lib/python3.6/site-packages (from pandas->vaex-core<5,>=4.5.0->vaex) (2.8.1)\n",
      "Requirement already satisfied: pytz>=2017.2 in /usr/local/lib/python3.6/dist-packages (from pandas->vaex-core<5,>=4.5.0->vaex) (2019.1)\n",
      "Requirement already satisfied: wcwidth in /home/mvisi/.local/lib/python3.6/site-packages (from prompt-toolkit!=3.0.0,!=3.0.1,<3.1.0,>=2.0.0->ipython>=4.0.0->ipywidgets>=7.5.0->bqplot>=0.10.1->vaex-jupyter<0.7,>=0.6.0->vaex) (0.2.5)\n",
      "Collecting ipydatawidgets>=1.1.1\n",
      "  Downloading ipydatawidgets-4.2.0-py2.py3-none-any.whl (275 kB)\n",
      "\u001b[K     |████████████████████████████████| 275 kB 4.0 MB/s eta 0:00:01\n",
      "\u001b[?25hRequirement already satisfied: numba in /home/mvisi/.local/lib/python3.6/site-packages (from vaex-ml<0.15,>=0.14.0->vaex) (0.51.2)\n",
      "Requirement already satisfied: jinja2 in /home/mvisi/.local/lib/python3.6/site-packages (from vaex-ml<0.15,>=0.14.0->vaex) (2.11.3)\n",
      "Requirement already satisfied: cachetools in /usr/local/lib/python3.6/dist-packages (from vaex-server<0.7,>=0.6.1->vaex) (3.1.1)\n",
      "Collecting fastapi\n",
      "  Downloading fastapi-0.70.0-py3-none-any.whl (51 kB)\n",
      "\u001b[K     |████████████████████████████████| 51 kB 371 kB/s eta 0:00:011\n",
      "\u001b[?25hCollecting uvicorn[standard]\n",
      "  Downloading uvicorn-0.15.0-py3-none-any.whl (54 kB)\n",
      "\u001b[K     |████████████████████████████████| 54 kB 2.9 MB/s  eta 0:00:01\n",
      "\u001b[?25hRequirement already satisfied: matplotlib>=1.3.1 in /home/mvisi/.local/lib/python3.6/site-packages (from vaex-viz<0.6,>=0.5.0->vaex) (3.3.4)\n",
      "Requirement already satisfied: pyparsing!=2.0.4,!=2.1.2,!=2.1.6,>=2.0.3 in /usr/local/lib/python3.6/dist-packages (from matplotlib>=1.3.1->vaex-viz<0.6,>=0.5.0->vaex) (2.4.2)\n",
      "Requirement already satisfied: cycler>=0.10 in /usr/local/lib/python3.6/dist-packages (from matplotlib>=1.3.1->vaex-viz<0.6,>=0.5.0->vaex) (0.10.0)\n",
      "Requirement already satisfied: kiwisolver>=1.0.1 in /usr/local/lib/python3.6/dist-packages (from matplotlib>=1.3.1->vaex-viz<0.6,>=0.5.0->vaex) (1.1.0)\n",
      "Requirement already satisfied: notebook>=4.4.1 in /usr/local/lib/python3.6/dist-packages (from widgetsnbextension~=3.5.0->ipywidgets>=7.5.0->bqplot>=0.10.1->vaex-jupyter<0.7,>=0.6.0->vaex) (5.7.8)\n",
      "Requirement already satisfied: nbconvert in /usr/local/lib/python3.6/dist-packages (from notebook>=4.4.1->widgetsnbextension~=3.5.0->ipywidgets>=7.5.0->bqplot>=0.10.1->vaex-jupyter<0.7,>=0.6.0->vaex) (5.5.0)\n",
      "Requirement already satisfied: pyzmq>=17 in /home/mvisi/.local/lib/python3.6/site-packages (from notebook>=4.4.1->widgetsnbextension~=3.5.0->ipywidgets>=7.5.0->bqplot>=0.10.1->vaex-jupyter<0.7,>=0.6.0->vaex) (22.0.3)\n",
      "Requirement already satisfied: prometheus-client in /usr/local/lib/python3.6/dist-packages (from notebook>=4.4.1->widgetsnbextension~=3.5.0->ipywidgets>=7.5.0->bqplot>=0.10.1->vaex-jupyter<0.7,>=0.6.0->vaex) (0.7.1)\n",
      "Requirement already satisfied: Send2Trash in /usr/local/lib/python3.6/dist-packages (from notebook>=4.4.1->widgetsnbextension~=3.5.0->ipywidgets>=7.5.0->bqplot>=0.10.1->vaex-jupyter<0.7,>=0.6.0->vaex) (1.5.0)\n",
      "Requirement already satisfied: terminado>=0.8.1 in /usr/local/lib/python3.6/dist-packages (from notebook>=4.4.1->widgetsnbextension~=3.5.0->ipywidgets>=7.5.0->bqplot>=0.10.1->vaex-jupyter<0.7,>=0.6.0->vaex) (0.8.2)\n",
      "Requirement already satisfied: ptyprocess in /home/mvisi/.local/lib/python3.6/site-packages (from terminado>=0.8.1->notebook>=4.4.1->widgetsnbextension~=3.5.0->ipywidgets>=7.5.0->bqplot>=0.10.1->vaex-jupyter<0.7,>=0.6.0->vaex) (0.7.0)\n",
      "Collecting pydantic!=1.7,!=1.7.1,!=1.7.2,!=1.7.3,!=1.8,!=1.8.1,<2.0.0,>=1.6.2\n",
      "  Downloading pydantic-1.8.2-cp36-cp36m-manylinux2014_x86_64.whl (10.2 MB)\n",
      "\u001b[K     |████████████████████████████████| 10.2 MB 4.5 MB/s eta 0:00:01    |██████████████████████████████▌ | 9.7 MB 4.5 MB/s eta 0:00:01\n",
      "\u001b[?25hCollecting starlette==0.16.0\n",
      "  Downloading starlette-0.16.0-py3-none-any.whl (61 kB)\n",
      "\u001b[K     |████████████████████████████████| 61 kB 266 kB/s eta 0:00:011\n",
      "\u001b[?25hCollecting typing-extensions\n",
      "  Downloading typing_extensions-4.0.0-py3-none-any.whl (22 kB)\n",
      "Collecting contextlib2>=21.6.0\n",
      "  Downloading contextlib2-21.6.0-py2.py3-none-any.whl (13 kB)\n",
      "Collecting anyio<4,>=3.0.0\n",
      "  Downloading anyio-3.3.4-py3-none-any.whl (78 kB)\n",
      "\u001b[K     |████████████████████████████████| 78 kB 3.0 MB/s eta 0:00:011\n",
      "\u001b[?25hCollecting dataclasses\n",
      "  Downloading dataclasses-0.8-py3-none-any.whl (19 kB)\n",
      "Collecting idna>=2.8\n",
      "  Downloading idna-3.3-py3-none-any.whl (61 kB)\n",
      "\u001b[K     |████████████████████████████████| 61 kB 2.8 MB/s eta 0:00:011\n",
      "\u001b[?25hCollecting sniffio>=1.1\n",
      "  Downloading sniffio-1.2.0-py3-none-any.whl (10 kB)\n",
      "Collecting contextvars>=2.1\n",
      "  Downloading contextvars-2.4.tar.gz (9.6 kB)\n",
      "Collecting immutables>=0.9\n",
      "  Downloading immutables-0.16-cp36-cp36m-manylinux_2_5_x86_64.manylinux1_x86_64.whl (103 kB)\n",
      "\u001b[K     |████████████████████████████████| 103 kB 4.3 MB/s eta 0:00:01\n",
      "\u001b[?25hRequirement already satisfied: MarkupSafe>=0.23 in /usr/local/lib/python3.6/dist-packages (from jinja2->vaex-ml<0.15,>=0.14.0->vaex) (1.1.1)\n",
      "Requirement already satisfied: entrypoints>=0.2.2 in /usr/local/lib/python3.6/dist-packages (from nbconvert->notebook>=4.4.1->widgetsnbextension~=3.5.0->ipywidgets>=7.5.0->bqplot>=0.10.1->vaex-jupyter<0.7,>=0.6.0->vaex) (0.3)\n",
      "Requirement already satisfied: testpath in /usr/local/lib/python3.6/dist-packages (from nbconvert->notebook>=4.4.1->widgetsnbextension~=3.5.0->ipywidgets>=7.5.0->bqplot>=0.10.1->vaex-jupyter<0.7,>=0.6.0->vaex) (0.4.2)\n",
      "Requirement already satisfied: pandocfilters>=1.4.1 in /usr/local/lib/python3.6/dist-packages (from nbconvert->notebook>=4.4.1->widgetsnbextension~=3.5.0->ipywidgets>=7.5.0->bqplot>=0.10.1->vaex-jupyter<0.7,>=0.6.0->vaex) (1.4.2)\n",
      "Requirement already satisfied: defusedxml in /usr/local/lib/python3.6/dist-packages (from nbconvert->notebook>=4.4.1->widgetsnbextension~=3.5.0->ipywidgets>=7.5.0->bqplot>=0.10.1->vaex-jupyter<0.7,>=0.6.0->vaex) (0.6.0)\n",
      "Requirement already satisfied: bleach in /usr/local/lib/python3.6/dist-packages (from nbconvert->notebook>=4.4.1->widgetsnbextension~=3.5.0->ipywidgets>=7.5.0->bqplot>=0.10.1->vaex-jupyter<0.7,>=0.6.0->vaex) (3.1.0)\n",
      "Requirement already satisfied: mistune>=0.8.1 in /usr/local/lib/python3.6/dist-packages (from nbconvert->notebook>=4.4.1->widgetsnbextension~=3.5.0->ipywidgets>=7.5.0->bqplot>=0.10.1->vaex-jupyter<0.7,>=0.6.0->vaex) (0.8.4)\n",
      "Requirement already satisfied: webencodings in /usr/local/lib/python3.6/dist-packages (from bleach->nbconvert->notebook>=4.4.1->widgetsnbextension~=3.5.0->ipywidgets>=7.5.0->bqplot>=0.10.1->vaex-jupyter<0.7,>=0.6.0->vaex) (0.5.1)\n",
      "Requirement already satisfied: llvmlite<0.35,>=0.34.0.dev0 in /home/mvisi/.local/lib/python3.6/site-packages (from numba->vaex-ml<0.15,>=0.14.0->vaex) (0.34.0)\n",
      "Collecting python-utils>=2.3.0\n",
      "  Downloading python_utils-2.5.6-py2.py3-none-any.whl (12 kB)\n",
      "Requirement already satisfied: certifi>=2017.4.17 in /usr/lib/python3/dist-packages (from requests->vaex-core<5,>=4.5.0->vaex) (2018.1.18)\n",
      "Requirement already satisfied: urllib3<1.27,>=1.21.1 in /home/mvisi/.local/lib/python3.6/site-packages (from requests->vaex-core<5,>=4.5.0->vaex) (1.24.3)\n",
      "Requirement already satisfied: chardet<5,>=3.0.2 in /usr/local/lib/python3.6/dist-packages (from requests->vaex-core<5,>=4.5.0->vaex) (3.0.4)\n",
      "Collecting idna>=2.8\n",
      "  Downloading idna-2.10-py2.py3-none-any.whl (58 kB)\n",
      "\u001b[K     |████████████████████████████████| 58 kB 2.0 MB/s eta 0:00:011\n",
      "\u001b[?25hCollecting h11>=0.8\n",
      "  Downloading h11-0.12.0-py3-none-any.whl (54 kB)\n",
      "\u001b[K     |████████████████████████████████| 54 kB 4.3 MB/s  eta 0:00:01\n",
      "\u001b[?25hCollecting asgiref>=3.4.0\n",
      "  Downloading asgiref-3.4.1-py3-none-any.whl (25 kB)\n",
      "Requirement already satisfied: click>=7.0 in /usr/local/lib/python3.6/dist-packages (from uvicorn[standard]->vaex-server<0.7,>=0.6.1->vaex) (7.0)\n",
      "Collecting watchgod>=0.6\n",
      "  Downloading watchgod-0.7-py3-none-any.whl (11 kB)\n",
      "Collecting httptools==0.2.*\n",
      "  Downloading httptools-0.2.0-cp36-cp36m-manylinux1_x86_64.whl (343 kB)\n",
      "\u001b[K     |████████████████████████████████| 343 kB 15.6 MB/s eta 0:00:01\n",
      "\u001b[?25hCollecting uvloop!=0.15.0,!=0.15.1,>=0.14.0\n",
      "  Downloading uvloop-0.14.0-cp36-cp36m-manylinux2010_x86_64.whl (3.9 MB)\n"
     ]
    },
    {
     "name": "stdout",
     "output_type": "stream",
     "text": [
      "\u001b[K     |████████████████████████████████| 3.9 MB 4.5 MB/s eta 0:00:01\n",
      "\u001b[?25hCollecting websockets>=9.1\n",
      "  Downloading websockets-9.1-cp36-cp36m-manylinux2010_x86_64.whl (102 kB)\n",
      "\u001b[K     |████████████████████████████████| 102 kB 3.1 MB/s ta 0:00:011\n",
      "\u001b[?25hCollecting python-dotenv>=0.13\n",
      "  Downloading python_dotenv-0.19.2-py2.py3-none-any.whl (17 kB)\n",
      "Building wheels for collected packages: aplus, contextvars\n",
      "  Building wheel for aplus (setup.py) ... \u001b[?25ldone\n",
      "\u001b[?25h  Created wheel for aplus: filename=aplus-0.11.0-py3-none-any.whl size=4411 sha256=ca3c5414824d6a15712329afd8a0a33503b589c697b98b77b36ebb9971f48977\n",
      "  Stored in directory: /home/mvisi/.cache/pip/wheels/8c/77/db/b10ae52c0d74ee49eaa6a4025cc0faddb4b6318197b17d155e\n",
      "  Building wheel for contextvars (setup.py) ... \u001b[?25ldone\n",
      "\u001b[?25h  Created wheel for contextvars: filename=contextvars-2.4-py3-none-any.whl size=7665 sha256=cc26fbbf709259845835457a8a757eb52b90f352713c101a32808618d7329d5e\n",
      "  Stored in directory: /home/mvisi/.cache/pip/wheels/41/11/53/911724983aa48deb94792432e14e518447212dd6c5477d49d3\n",
      "Successfully built aplus contextvars\n",
      "Installing collected packages: typing-extensions, immutables, contextvars, traittypes, sniffio, python-utils, idna, dataclasses, pyarrow, progressbar2, nest-asyncio, ipydatawidgets, h11, frozendict, filelock, contextlib2, blake3, asgiref, aplus, anyio, websockets, watchgod, vaex-core, uvloop, uvicorn, starlette, pythreejs, python-dotenv, pydantic, ipywebrtc, ipyvue, httptools, vaex-viz, ipyvuetify, ipyvolume, ipympl, ipyleaflet, fastapi, bqplot, vaex-server, vaex-ml, vaex-jupyter, vaex-hdf5, vaex-astro, vaex\n",
      "  Attempting uninstall: idna\n",
      "    Found existing installation: idna 2.7\n",
      "    Uninstalling idna-2.7:\n",
      "      Successfully uninstalled idna-2.7\n",
      "\u001b[33m  WARNING: The script plasma_store is installed in '/home/mvisi/.local/bin' which is not on PATH.\n",
      "  Consider adding this directory to PATH or, if you prefer to suppress this warning, use --no-warn-script-location.\u001b[0m\n",
      "\u001b[33m  WARNING: The script watchgod is installed in '/home/mvisi/.local/bin' which is not on PATH.\n",
      "  Consider adding this directory to PATH or, if you prefer to suppress this warning, use --no-warn-script-location.\u001b[0m\n",
      "\u001b[33m  WARNING: The script vaex is installed in '/home/mvisi/.local/bin' which is not on PATH.\n",
      "  Consider adding this directory to PATH or, if you prefer to suppress this warning, use --no-warn-script-location.\u001b[0m\n",
      "\u001b[33m  WARNING: The script uvicorn is installed in '/home/mvisi/.local/bin' which is not on PATH.\n",
      "  Consider adding this directory to PATH or, if you prefer to suppress this warning, use --no-warn-script-location.\u001b[0m\n",
      "\u001b[33m  WARNING: The script dotenv is installed in '/home/mvisi/.local/bin' which is not on PATH.\n",
      "  Consider adding this directory to PATH or, if you prefer to suppress this warning, use --no-warn-script-location.\u001b[0m\n",
      "\u001b[31mERROR: pip's dependency resolver does not currently take into account all the packages that are installed. This behaviour is the source of the following dependency conflicts.\n",
      "skater 1.1.2 requires Jinja2==2.10, but you have jinja2 2.11.3 which is incompatible.\n",
      "skater 1.1.2 requires joblib==0.11, but you have joblib 0.14.1 which is incompatible.\u001b[0m\n",
      "Successfully installed anyio-3.3.4 aplus-0.11.0 asgiref-3.4.1 blake3-0.2.1 bqplot-0.12.31 contextlib2-21.6.0 contextvars-2.4 dataclasses-0.8 fastapi-0.70.0 filelock-3.4.0 frozendict-2.0.7 h11-0.12.0 httptools-0.2.0 idna-2.10 immutables-0.16 ipydatawidgets-4.2.0 ipyleaflet-0.14.0 ipympl-0.8.2 ipyvolume-0.5.2 ipyvue-1.7.0 ipyvuetify-1.8.1 ipywebrtc-0.6.0 nest-asyncio-1.5.1 progressbar2-3.55.0 pyarrow-6.0.0 pydantic-1.8.2 python-dotenv-0.19.2 python-utils-2.5.6 pythreejs-2.3.0 sniffio-1.2.0 starlette-0.16.0 traittypes-0.2.1 typing-extensions-4.0.0 uvicorn-0.15.0 uvloop-0.14.0 vaex-4.5.0 vaex-astro-0.9.0 vaex-core-4.5.1 vaex-hdf5-0.10.0 vaex-jupyter-0.6.0 vaex-ml-0.14.0 vaex-server-0.6.1 vaex-viz-0.5.0 watchgod-0.7 websockets-9.1\n",
      "\u001b[33mWARNING: You are using pip version 21.1.2; however, version 21.3.1 is available.\n",
      "You should consider upgrading via the '/usr/bin/python3 -m pip install --upgrade pip' command.\u001b[0m\n",
      "Note: you may need to restart the kernel to use updated packages.\n"
     ]
    }
   ],
   "source": [
    "#Vaex library used for memory otimization\n",
    "#pip install --trusted-host pypi.org --trusted-host files.pythonhosted.org vaex"
   ]
  },
  {
   "cell_type": "code",
   "execution_count": 4,
   "metadata": {},
   "outputs": [
    {
     "data": {
      "text/html": [
       "<div>\n",
       "<style scoped>\n",
       "    .dataframe tbody tr th:only-of-type {\n",
       "        vertical-align: middle;\n",
       "    }\n",
       "\n",
       "    .dataframe tbody tr th {\n",
       "        vertical-align: top;\n",
       "    }\n",
       "\n",
       "    .dataframe thead th {\n",
       "        text-align: right;\n",
       "    }\n",
       "</style>\n",
       "<table border=\"1\" class=\"dataframe\">\n",
       "  <thead>\n",
       "    <tr style=\"text-align: right;\">\n",
       "      <th></th>\n",
       "      <th>CRMAccountID</th>\n",
       "      <th>SellingCurrency</th>\n",
       "      <th>BuyingCurrency</th>\n",
       "      <th>BookCurrency</th>\n",
       "      <th>SellingAmount</th>\n",
       "      <th>BuyingAmount</th>\n",
       "      <th>ClientRate</th>\n",
       "      <th>BaseCurrency</th>\n",
       "      <th>BaseSellingAmount</th>\n",
       "      <th>BaseBuyingAmount</th>\n",
       "      <th>NetProfit</th>\n",
       "      <th>FinalProfit</th>\n",
       "      <th>Margin</th>\n",
       "    </tr>\n",
       "  </thead>\n",
       "  <tbody>\n",
       "    <tr>\n",
       "      <th>0</th>\n",
       "      <td>0010O000023BXibQAG</td>\n",
       "      <td>2</td>\n",
       "      <td>16</td>\n",
       "      <td>2</td>\n",
       "      <td>650.00</td>\n",
       "      <td>325.07</td>\n",
       "      <td>0.5001</td>\n",
       "      <td>16</td>\n",
       "      <td>348.01</td>\n",
       "      <td>325.70</td>\n",
       "      <td>22.31</td>\n",
       "      <td>22.31</td>\n",
       "      <td>6.41</td>\n",
       "    </tr>\n",
       "    <tr>\n",
       "      <th>1</th>\n",
       "      <td>0010O00002Hho0eQAB</td>\n",
       "      <td>2</td>\n",
       "      <td>2</td>\n",
       "      <td>2</td>\n",
       "      <td>16486.23</td>\n",
       "      <td>16486.23</td>\n",
       "      <td>1.0000</td>\n",
       "      <td>2</td>\n",
       "      <td>16486.23</td>\n",
       "      <td>16486.23</td>\n",
       "      <td>0.00</td>\n",
       "      <td>0.00</td>\n",
       "      <td>0</td>\n",
       "    </tr>\n",
       "    <tr>\n",
       "      <th>2</th>\n",
       "      <td>0010O00002Hhj8KQAR</td>\n",
       "      <td>23</td>\n",
       "      <td>23</td>\n",
       "      <td>23</td>\n",
       "      <td>1338072.00</td>\n",
       "      <td>1338072.00</td>\n",
       "      <td>1.0000</td>\n",
       "      <td>16</td>\n",
       "      <td>8824.85</td>\n",
       "      <td>8824.85</td>\n",
       "      <td>0.00</td>\n",
       "      <td>0.00</td>\n",
       "      <td>0</td>\n",
       "    </tr>\n",
       "    <tr>\n",
       "      <th>3</th>\n",
       "      <td>0016700005OkMn7AAF</td>\n",
       "      <td>34</td>\n",
       "      <td>34</td>\n",
       "      <td>34</td>\n",
       "      <td>376132.50</td>\n",
       "      <td>376132.50</td>\n",
       "      <td>1.0000</td>\n",
       "      <td>2</td>\n",
       "      <td>363273.43</td>\n",
       "      <td>363273.43</td>\n",
       "      <td>0.00</td>\n",
       "      <td>0.00</td>\n",
       "      <td>0</td>\n",
       "    </tr>\n",
       "    <tr>\n",
       "      <th>4</th>\n",
       "      <td>0016700005911TAAAY</td>\n",
       "      <td>48</td>\n",
       "      <td>2</td>\n",
       "      <td>48</td>\n",
       "      <td>69250.00</td>\n",
       "      <td>92746.53</td>\n",
       "      <td>1.3353</td>\n",
       "      <td>2</td>\n",
       "      <td>94155.86</td>\n",
       "      <td>92927.98</td>\n",
       "      <td>1227.88</td>\n",
       "      <td>1227.88</td>\n",
       "      <td>1.3</td>\n",
       "    </tr>\n",
       "  </tbody>\n",
       "</table>\n",
       "</div>"
      ],
      "text/plain": [
       "         CRMAccountID  SellingCurrency  BuyingCurrency  BookCurrency  \\\n",
       "0  0010O000023BXibQAG                2              16             2   \n",
       "1  0010O00002Hho0eQAB                2               2             2   \n",
       "2  0010O00002Hhj8KQAR               23              23            23   \n",
       "3  0016700005OkMn7AAF               34              34            34   \n",
       "4  0016700005911TAAAY               48               2            48   \n",
       "\n",
       "   SellingAmount  BuyingAmount  ClientRate  BaseCurrency  BaseSellingAmount  \\\n",
       "0         650.00        325.07      0.5001            16             348.01   \n",
       "1       16486.23      16486.23      1.0000             2           16486.23   \n",
       "2     1338072.00    1338072.00      1.0000            16            8824.85   \n",
       "3      376132.50     376132.50      1.0000             2          363273.43   \n",
       "4       69250.00      92746.53      1.3353             2           94155.86   \n",
       "\n",
       "   BaseBuyingAmount  NetProfit  FinalProfit Margin  \n",
       "0            325.70      22.31        22.31   6.41  \n",
       "1          16486.23       0.00         0.00      0  \n",
       "2           8824.85       0.00         0.00      0  \n",
       "3         363273.43       0.00         0.00      0  \n",
       "4          92927.98    1227.88      1227.88    1.3  "
      ]
     },
     "execution_count": 4,
     "metadata": {},
     "output_type": "execute_result"
    }
   ],
   "source": [
    "TITAN_M.head()"
   ]
  },
  {
   "cell_type": "code",
   "execution_count": 2,
   "metadata": {},
   "outputs": [],
   "source": [
    "#NGOP = pd.read_csv('/home/mvisi/Project/DLP/Core/Dynamic_Pricing/Data/NGOP_ma.csv')\n",
    "NGOP_Contact = pd.read_csv('/home/mvisi/Project/DLP/Core/Dynamic_Pricing/Data/NGOP_mac.csv')\n",
    "#TITAN = pd.read_csv('/home/mvisi/Project/DLP/Core/Dynamic_Pricing/Data/titan_m.csv')\n",
    "PE = pd.read_csv('/home/mvisi/Project/DLP/Core/Dynamic_Pricing/Data/Pricing_ma.csv')\n",
    "#SF_ALL = pd.read_csv('/home/mvisi/Project/DLP/Core/Dynamic_Pricing/Data/sf_titan_ngop_pricing_ma.csv')\n",
    "SF_ALL_CONTACT = pd.read_csv('/home/mvisi/Project/DLP/Core/Dynamic_Pricing/Data/sf_titan_ngop_pricing_mac.csv')\n",
    "TITAN_M = pd.read_csv('/home/mvisi/Project/DLP/Core/Dynamic_Pricing/Data/titan_calculated_m.csv')"
   ]
  },
  {
   "cell_type": "code",
   "execution_count": 4,
   "metadata": {},
   "outputs": [
    {
     "data": {
      "text/plain": [
       "dtype('float64')"
      ]
     },
     "execution_count": 4,
     "metadata": {},
     "output_type": "execute_result"
    }
   ],
   "source": [
    "TITAN_M.Margin.dtype"
   ]
  },
  {
   "cell_type": "code",
   "execution_count": 3,
   "metadata": {},
   "outputs": [],
   "source": [
    "#TITAN_REQ = TITAN[['CRMAccountID', 'SellingCurrency_Titan', 'BuyingCurrency_Titan', 'SellingAmount_Titan','BuyingAmount_Titan', 'ClientRate', 'BaseCurrency', 'BaseCurrencyRate',\n",
    "       #'BaseSellingAmount', 'BaseBuyingAmount']]"
   ]
  },
  {
   "cell_type": "code",
   "execution_count": 3,
   "metadata": {},
   "outputs": [],
   "source": [
    "#Renaming of column \n",
    "PE_RN = PE.rename(columns = {'ClientID': 'trade_acc_id'}, inplace =False)"
   ]
  },
  {
   "cell_type": "code",
   "execution_count": 4,
   "metadata": {},
   "outputs": [],
   "source": [
    "PE_RN_REQ = PE_RN[['trade_acc_id',\n",
    "       'QuotedRate', 'PercentageMarkup']]"
   ]
  },
  {
   "cell_type": "code",
   "execution_count": 8,
   "metadata": {},
   "outputs": [
    {
     "data": {
      "text/plain": [
       "Index(['acc_sf_id', 'aza', 'country_of_residence', 'county', 'district',\n",
       "       'gender', 'residential_status', 'trade_acc_id', 'IS_Converted',\n",
       "       'billing_country', 'channel', 'cust_type', 'org_code',\n",
       "       'organization_legal_entity', 'reg_mode', 'selling_currency_SF',\n",
       "       'source', 'source_application', 'source_channel', 'source_of_fund',\n",
       "       'contact_sf_id'],\n",
       "      dtype='object')"
      ]
     },
     "execution_count": 8,
     "metadata": {},
     "output_type": "execute_result"
    }
   ],
   "source": [
    "SF_ALL_CONTACT.columns"
   ]
  },
  {
   "cell_type": "code",
   "execution_count": 5,
   "metadata": {},
   "outputs": [],
   "source": [
    "SF_ALL_CONTACT_REQ = SF_ALL_CONTACT[['acc_sf_id', 'aza', 'trade_acc_id', 'IS_Converted',\n",
    "       'cust_type', 'org_code',\n",
    "       'contact_sf_id']]"
   ]
  },
  {
   "cell_type": "code",
   "execution_count": 6,
   "metadata": {},
   "outputs": [],
   "source": [
    "#Renaming of column \n",
    "SF_ALL_RNC = SF_ALL_CONTACT.rename(columns = {'contact_sf_id': 'CRMContactID'}, inplace =False)\n",
    "SF_ALL_RNC = SF_ALL_RNC.rename(columns = {'acc_sf_id': 'CRMAccountID'}, inplace =False)"
   ]
  },
  {
   "cell_type": "code",
   "execution_count": 7,
   "metadata": {},
   "outputs": [],
   "source": [
    "#Renaming of column \n",
    "SF_ALL_RNCQ = SF_ALL_CONTACT_REQ.rename(columns = {'contact_sf_id': 'CRMContactID'}, inplace =False)\n",
    "SF_ALL_RNCQ = SF_ALL_RNCQ.rename(columns = {'acc_sf_id': 'CRMAccountID'}, inplace =False)"
   ]
  },
  {
   "cell_type": "code",
   "execution_count": 14,
   "metadata": {},
   "outputs": [
    {
     "data": {
      "text/plain": [
       "Index(['CRMAccountID', 'aza', 'trade_acc_id', 'IS_Converted', 'cust_type',\n",
       "       'org_code', 'CRMContactID'],\n",
       "      dtype='object')"
      ]
     },
     "execution_count": 14,
     "metadata": {},
     "output_type": "execute_result"
    }
   ],
   "source": [
    "SF_ALL_RNCQ.columns"
   ]
  },
  {
   "cell_type": "code",
   "execution_count": 16,
   "metadata": {},
   "outputs": [
    {
     "data": {
      "text/plain": [
       "Index(['ComplianceStatus', 'CRMAccountID', 'Status', 'PaymentFlow',\n",
       "       'SellingCurrencyNGOP', 'BuyingCurrencyNGOP', 'IsBuying',\n",
       "       'SellingAmountNGOP', 'BuyingAmountNGOP', 'ModeOfPayment',\n",
       "       'TimeSpent_seconds', 'TimeSpent_minutes', 'TimeSpent_hours',\n",
       "       'FrequencyOfVisit', 'CRMContactID'],\n",
       "      dtype='object')"
      ]
     },
     "execution_count": 16,
     "metadata": {},
     "output_type": "execute_result"
    }
   ],
   "source": [
    "NGOP_Contact.columns"
   ]
  },
  {
   "cell_type": "code",
   "execution_count": 8,
   "metadata": {},
   "outputs": [],
   "source": [
    "NGOPC_REQ = NGOP_Contact[['CRMAccountID', 'CRMContactID',\n",
    "       'TimeSpent_seconds', 'TimeSpent_minutes',\n",
    "       'FrequencyOfVisit']]"
   ]
  },
  {
   "cell_type": "code",
   "execution_count": 9,
   "metadata": {},
   "outputs": [],
   "source": [
    "#Joining NGOP and SalesForce data\n",
    "NGOPC_SF_ALL_CONTACT=NGOPC_REQ.merge(SF_ALL_RNCQ, on='CRMContactID', how='inner')"
   ]
  },
  {
   "cell_type": "code",
   "execution_count": 10,
   "metadata": {},
   "outputs": [],
   "source": [
    "#Joining Pricing Engine Data and NGOP-SalesForce data\n",
    "NGOPC_SF_ALL_PE_CONTACT_RIGHT=PE_RN_REQ.merge(NGOPC_SF_ALL_CONTACT, on='trade_acc_id', how='right')"
   ]
  },
  {
   "cell_type": "code",
   "execution_count": 71,
   "metadata": {},
   "outputs": [
    {
     "data": {
      "text/plain": [
       "(2712150, 13)"
      ]
     },
     "execution_count": 71,
     "metadata": {},
     "output_type": "execute_result"
    }
   ],
   "source": [
    "NGOPC_SF_ALL_PE_CONTACT.shape"
   ]
  },
  {
   "cell_type": "code",
   "execution_count": 15,
   "metadata": {},
   "outputs": [
    {
     "data": {
      "text/plain": [
       "(3299978, 13)"
      ]
     },
     "execution_count": 15,
     "metadata": {},
     "output_type": "execute_result"
    }
   ],
   "source": [
    "NGOPC_SF_ALL_PE_CONTACT_RIGHT.shape"
   ]
  },
  {
   "cell_type": "code",
   "execution_count": 57,
   "metadata": {},
   "outputs": [
    {
     "data": {
      "text/plain": [
       "4"
      ]
     },
     "execution_count": 57,
     "metadata": {},
     "output_type": "execute_result"
    }
   ],
   "source": [
    "NGOPC_SF_ALL_CONTACT.trade_acc_id.nunique()"
   ]
  },
  {
   "cell_type": "code",
   "execution_count": 13,
   "metadata": {},
   "outputs": [
    {
     "data": {
      "text/plain": [
       "5"
      ]
     },
     "execution_count": 13,
     "metadata": {},
     "output_type": "execute_result"
    }
   ],
   "source": [
    "NGOPC_SF_ALL_PE_CONTACT_RIGHT.CRMAccountID_x.nunique()"
   ]
  },
  {
   "cell_type": "code",
   "execution_count": 11,
   "metadata": {},
   "outputs": [],
   "source": [
    "#Joining Titan  Data and Pricing Engine-NGOP-SalesForce data\n",
    "NGOPC_SF_ALL_PE_CONTACT_TITAN_M_REQ=NGOPC_SF_ALL_PE_CONTACT_RIGHT.merge(TITAN_M, left_on='CRMAccountID_x', right_on ='CRMAccountID', how='inner')"
   ]
  },
  {
   "cell_type": "code",
   "execution_count": 15,
   "metadata": {},
   "outputs": [
    {
     "data": {
      "text/plain": [
       "5"
      ]
     },
     "execution_count": 15,
     "metadata": {},
     "output_type": "execute_result"
    }
   ],
   "source": [
    "NGOPC_SF_ALL_PE_CONTACT_TITAN_M_REQ.CRMAccountID_x.nunique()"
   ]
  },
  {
   "cell_type": "code",
   "execution_count": 22,
   "metadata": {},
   "outputs": [
    {
     "data": {
      "text/plain": [
       "Index(['trade_acc_id', 'QuotedRate', 'PercentageMarkup', 'CRMAccountID_x',\n",
       "       'CRMContactID', 'TimeSpent_seconds', 'TimeSpent_minutes',\n",
       "       'FrequencyOfVisit', 'CRMAccountID_y', 'aza', 'IS_Converted',\n",
       "       'cust_type', 'org_code', 'CRMAccountID', 'SellingCurrency',\n",
       "       'BuyingCurrency', 'BookCurrency', 'SellingAmount', 'BuyingAmount',\n",
       "       'ClientRate', 'BaseCurrency', 'BaseSellingAmount', 'BaseBuyingAmount',\n",
       "       'NetProfit', 'FinalProfit', 'Margin'],\n",
       "      dtype='object')"
      ]
     },
     "execution_count": 22,
     "metadata": {},
     "output_type": "execute_result"
    }
   ],
   "source": [
    "NGOPC_SF_ALL_PE_CONTACT_TITAN_M_REQ.columns"
   ]
  },
  {
   "cell_type": "code",
   "execution_count": 12,
   "metadata": {},
   "outputs": [],
   "source": [
    "NGOPC_SF_ALL_PE_CONTACT_TITAN_M_REQF = NGOPC_SF_ALL_PE_CONTACT_TITAN_M_REQ[['QuotedRate', 'PercentageMarkup',\n",
    "       'TimeSpent_seconds', 'TimeSpent_minutes',\n",
    "       'FrequencyOfVisit', 'aza', 'IS_Converted',\n",
    "       'cust_type', 'org_code', 'CRMAccountID', 'SellingCurrency',\n",
    "       'BuyingCurrency', 'SellingAmount', 'BuyingAmount',\n",
    "       'ClientRate', 'BaseCurrency', 'BaseSellingAmount',\n",
    "       'BaseBuyingAmount','NetProfit', 'FinalProfit', 'Margin']]"
   ]
  },
  {
   "cell_type": "code",
   "execution_count": 13,
   "metadata": {},
   "outputs": [],
   "source": [
    "## Drop all data from dataframe due to RAM memory crunch\n",
    "\n",
    "NGOPC_SF_ALL_PE_CONTACT_TITAN_M_REQ.drop(NGOPC_SF_ALL_PE_CONTACT_TITAN_M_REQ.index, inplace =True)"
   ]
  },
  {
   "cell_type": "code",
   "execution_count": 14,
   "metadata": {},
   "outputs": [],
   "source": [
    "## Drop dataframe due to RAM memory crunch\n",
    "\n",
    "NGOPC_SF_ALL_PE_CONTACT_RIGHT.drop(NGOPC_SF_ALL_PE_CONTACT_RIGHT.index, inplace =True)\n",
    "TITAN_M.drop(TITAN_M.index, inplace =True)"
   ]
  },
  {
   "cell_type": "code",
   "execution_count": 14,
   "metadata": {},
   "outputs": [
    {
     "name": "stdout",
     "output_type": "stream",
     "text": [
      "(166613, 18)\n",
      "(129450, 14)\n",
      "(164612, 20)\n",
      "(342849, 11)\n",
      "(2775531, 33)\n",
      "(15860892, 43)\n"
     ]
    }
   ],
   "source": [
    "print(TITAN.shape)\n",
    "print(NGOP.shape)\n",
    "print(SF_ALL_RN.shape)\n",
    "print(PE_RN.shape)\n",
    "print(NGOP_SF_ALL.shape)\n",
    "print(NGOP_SF_ALL_PE.shape)"
   ]
  },
  {
   "cell_type": "code",
   "execution_count": 41,
   "metadata": {},
   "outputs": [
    {
     "name": "stdout",
     "output_type": "stream",
     "text": [
      "(166613, 18)\n",
      "(28752, 15)\n",
      "(164612, 21)\n",
      "(342849, 11)\n",
      "(652403, 35)\n",
      "(92951702, 21)\n"
     ]
    }
   ],
   "source": [
    "print(TITAN.shape)\n",
    "print(NGOP_Contact.shape)\n",
    "print(SF_ALL_RNC.shape)\n",
    "print(PE_RN.shape)\n",
    "print(NGOP_SF_ALL_CONTACT.shape)\n",
    "#print(NGOP_SF_ALL_PE_CONTACT.shape)\n",
    "#print(NGOP_SF_ALL_PE_CONTACT_TITAN_REQ.shape)\n",
    "#print(NGOP_SF_ALL_PE_CONTACT_REQ.shape)\n",
    "print(NGOPC_SF_ALL_PE_CONTACT_TITAN_M_REQF.shape)"
   ]
  },
  {
   "cell_type": "code",
   "execution_count": 24,
   "metadata": {},
   "outputs": [
    {
     "name": "stdout",
     "output_type": "stream",
     "text": [
      "Tue Nov  9 10:11:15 2021       \r\n",
      "+-----------------------------------------------------------------------------+\r\n",
      "| NVIDIA-SMI 435.21       Driver Version: 435.21       CUDA Version: 10.1     |\r\n",
      "|-------------------------------+----------------------+----------------------+\r\n",
      "| GPU  Name        Persistence-M| Bus-Id        Disp.A | Volatile Uncorr. ECC |\r\n",
      "| Fan  Temp  Perf  Pwr:Usage/Cap|         Memory-Usage | GPU-Util  Compute M. |\r\n",
      "|===============================+======================+======================|\r\n",
      "|   0  GeForce GTX 1080    Off  | 00000000:05:00.0 Off |                  N/A |\r\n",
      "|  0%   29C    P8     6W / 180W |   4339MiB /  8118MiB |      0%      Default |\r\n",
      "+-------------------------------+----------------------+----------------------+\r\n",
      "|   1  GeForce GTX 1080    Off  | 00000000:09:00.0 Off |                  N/A |\r\n",
      "|  0%   31C    P8     7W / 180W |     12MiB /  8119MiB |      0%      Default |\r\n",
      "+-------------------------------+----------------------+----------------------+\r\n",
      "                                                                               \r\n",
      "+-----------------------------------------------------------------------------+\r\n",
      "| Processes:                                                       GPU Memory |\r\n",
      "|  GPU       PID   Type   Process name                             Usage      |\r\n",
      "|=============================================================================|\r\n",
      "|    0      1738      G   /usr/lib/xorg/Xorg                             9MiB |\r\n",
      "|    0      1986      G   /usr/bin/gnome-shell                           7MiB |\r\n",
      "|    0      2946      C   /usr/bin/python3                             579MiB |\r\n",
      "|    0      6338      C   /usr/bin/python3                             361MiB |\r\n",
      "|    0     10885      C   /usr/bin/python3                             139MiB |\r\n",
      "|    0     11211      C   /usr/bin/python3                             411MiB |\r\n",
      "|    0     11975      C   /usr/bin/python3                            2565MiB |\r\n",
      "|    0     19550      C   /usr/bin/python3                             251MiB |\r\n",
      "+-----------------------------------------------------------------------------+\r\n"
     ]
    }
   ],
   "source": [
    "!nvidia-smi"
   ]
  },
  {
   "cell_type": "markdown",
   "metadata": {},
   "source": [
    "### Data Analysis"
   ]
  },
  {
   "cell_type": "code",
   "execution_count": 19,
   "metadata": {},
   "outputs": [
    {
     "name": "stdout",
     "output_type": "stream",
     "text": [
      "QuotedRate 0.2122  % missing values\n",
      "PercentageMarkup 0.2122  % missing values\n",
      "cust_type 0.2122  % missing values\n",
      "org_code 0.2122  % missing values\n"
     ]
    }
   ],
   "source": [
    "## Here we will check the percentage of nan values present in each feature\n",
    "## 1 -step make the list of features which has missing values\n",
    "features_with_na=[features for features in NGOPC_SF_ALL_PE_CONTACT_TITAN_M_REQF.columns if NGOPC_SF_ALL_PE_CONTACT_TITAN_M_REQF[features].isnull().sum()>1]\n",
    "## 2- step print the feature name and the percentage of missing values\n",
    "\n",
    "for feature in features_with_na:\n",
    "    print(feature, np.round(NGOPC_SF_ALL_PE_CONTACT_TITAN_M_REQF[feature].isnull().mean(), 4),  ' % missing values')"
   ]
  },
  {
   "cell_type": "code",
   "execution_count": 27,
   "metadata": {},
   "outputs": [
    {
     "name": "stdout",
     "output_type": "stream",
     "text": [
      "Rows     :  92951702\n",
      "Columns  :  21\n",
      "\n",
      "Features : \n",
      " ['QuotedRate', 'PercentageMarkup', 'TimeSpent_seconds', 'TimeSpent_minutes', 'FrequencyOfVisit', 'aza', 'IS_Converted', 'cust_type', 'org_code', 'CRMAccountID', 'SellingCurrency', 'BuyingCurrency', 'SellingAmount', 'BuyingAmount', 'ClientRate', 'BaseCurrency', 'BaseSellingAmount', 'BaseBuyingAmount', 'NetProfit', 'FinalProfit', 'Margin']\n",
      "\n",
      "Missing values :   QuotedRate            True\n",
      "PercentageMarkup      True\n",
      "TimeSpent_seconds    False\n",
      "TimeSpent_minutes    False\n",
      "FrequencyOfVisit     False\n",
      "aza                  False\n",
      "IS_Converted         False\n",
      "cust_type             True\n",
      "org_code              True\n",
      "CRMAccountID         False\n",
      "SellingCurrency      False\n",
      "BuyingCurrency       False\n",
      "SellingAmount        False\n",
      "BuyingAmount         False\n",
      "ClientRate           False\n",
      "BaseCurrency         False\n",
      "BaseSellingAmount    False\n",
      "BaseBuyingAmount     False\n",
      "NetProfit            False\n",
      "FinalProfit          False\n",
      "Margin               False\n",
      "dtype: bool\n",
      "\n",
      "Unique values :  \n",
      " QuotedRate             4\n",
      "PercentageMarkup       3\n",
      "TimeSpent_seconds    235\n",
      "TimeSpent_minutes     46\n",
      "FrequencyOfVisit      15\n",
      "aza                   12\n",
      "IS_Converted           2\n",
      "cust_type              1\n",
      "org_code               1\n",
      "CRMAccountID           5\n",
      "SellingCurrency        5\n",
      "BuyingCurrency        15\n",
      "SellingAmount         73\n",
      "BuyingAmount          82\n",
      "ClientRate            62\n",
      "BaseCurrency           2\n",
      "BaseSellingAmount     79\n",
      "BaseBuyingAmount      81\n",
      "NetProfit             65\n",
      "FinalProfit           65\n",
      "Margin                31\n",
      "dtype: int64\n"
     ]
    }
   ],
   "source": [
    "print (\"Rows     : \" ,NGOPC_SF_ALL_PE_CONTACT_TITAN_M_REQF.shape[0])\n",
    "print (\"Columns  : \" ,NGOPC_SF_ALL_PE_CONTACT_TITAN_M_REQF.shape[1])\n",
    "print (\"\\nFeatures : \\n\" ,NGOPC_SF_ALL_PE_CONTACT_TITAN_M_REQF.columns.tolist())\n",
    "print (\"\\nMissing values :  \", NGOPC_SF_ALL_PE_CONTACT_TITAN_M_REQF.isnull().any())\n",
    "print (\"\\nUnique values :  \\n\",NGOPC_SF_ALL_PE_CONTACT_TITAN_M_REQF.nunique())"
   ]
  },
  {
   "cell_type": "markdown",
   "metadata": {},
   "source": [
    "### Categorical features"
   ]
  },
  {
   "cell_type": "code",
   "execution_count": 20,
   "metadata": {},
   "outputs": [
    {
     "data": {
      "text/plain": [
       "['aza', 'IS_Converted', 'cust_type', 'org_code', 'CRMAccountID']"
      ]
     },
     "execution_count": 20,
     "metadata": {},
     "output_type": "execute_result"
    }
   ],
   "source": [
    "categorical_features=[feature for feature in NGOPC_SF_ALL_PE_CONTACT_TITAN_M_REQF.columns if NGOPC_SF_ALL_PE_CONTACT_TITAN_M_REQF[feature].dtypes=='O']\n",
    "categorical_features"
   ]
  },
  {
   "cell_type": "code",
   "execution_count": 32,
   "metadata": {},
   "outputs": [
    {
     "data": {
      "text/plain": [
       "3.5      24409350\n",
       "3.83     10848600\n",
       "1.75      7553984\n",
       "0         6465994\n",
       "3.84      5424300\n",
       "3.53      2712150\n",
       "3.87      2712150\n",
       "16.65     2712150\n",
       "16.56     2712150\n",
       "16.76     2712150\n",
       "99.15     2712150\n",
       "3.85      2712150\n",
       "16.88     2712150\n",
       "3.86      2712150\n",
       "4.35      2712150\n",
       "3.52      2712150\n",
       "1.74      1777408\n",
       "1.76      1777408\n",
       "1.81       888704\n",
       "1          645780\n",
       "1.72       444352\n",
       "1.73       444352\n",
       "1.69       444352\n",
       "1.77       444352\n",
       "1.01       387684\n",
       "0.97       258096\n",
       "0.99       258096\n",
       "1.04       258096\n",
       "1.06       129048\n",
       "0.98       129048\n",
       "1.02       129048\n",
       "Name: Margin, dtype: int64"
      ]
     },
     "execution_count": 32,
     "metadata": {},
     "output_type": "execute_result"
    }
   ],
   "source": [
    "NGOPC_SF_ALL_PE_CONTACT_TITAN_M_REQF.Margin.value_counts()"
   ]
  },
  {
   "cell_type": "code",
   "execution_count": 27,
   "metadata": {},
   "outputs": [
    {
     "name": "stdout",
     "output_type": "stream",
     "text": [
      "The feature is aza and number of categories are 12\n",
      "The feature is IS_Converted and number of categories are 2\n",
      "The feature is cust_type and number of categories are 2\n",
      "The feature is org_code and number of categories are 2\n",
      "The feature is CRMAccountID and number of categories are 5\n"
     ]
    }
   ],
   "source": [
    "for feature in categorical_features:\n",
    "    print('The feature is {} and number of categories are {}'.format(feature,len(NGOPC_SF_ALL_PE_CONTACT_TITAN_M_REQF[feature].unique())))"
   ]
  },
  {
   "cell_type": "code",
   "execution_count": 94,
   "metadata": {},
   "outputs": [
    {
     "data": {
      "text/plain": [
       "London                56983668\n",
       "Kladno                 9535716\n",
       "Semily                 2721656\n",
       "Braintree              1742148\n",
       "Jablonec nad Nisou     1360828\n",
       "Chelmsford              580716\n",
       "Lenzerwische            580716\n",
       "Witham                  580716\n",
       "Singapore                59520\n",
       "Dorking                   3600\n",
       "Westcott                   900\n",
       "Ripley                     900\n",
       "Name: aza, dtype: int64"
      ]
     },
     "execution_count": 94,
     "metadata": {},
     "output_type": "execute_result"
    }
   ],
   "source": [
    "NGOPC_SF_ALL_PE_CONTACT_TITAN_REQF_master.aza.value_counts()"
   ]
  },
  {
   "cell_type": "code",
   "execution_count": 15,
   "metadata": {},
   "outputs": [],
   "source": [
    "#### Count frequency encoding to handle categorical values\n",
    "aza_fre_map = NGOPC_SF_ALL_PE_CONTACT_TITAN_M_REQF.aza.value_counts().to_dict()\n",
    "NGOPC_SF_ALL_PE_CONTACT_TITAN_M_REQF_master = NGOPC_SF_ALL_PE_CONTACT_TITAN_M_REQF.copy()\n",
    "NGOPC_SF_ALL_PE_CONTACT_TITAN_M_REQF.aza = NGOPC_SF_ALL_PE_CONTACT_TITAN_M_REQF.aza.map(aza_fre_map)"
   ]
  },
  {
   "cell_type": "code",
   "execution_count": 16,
   "metadata": {},
   "outputs": [],
   "source": [
    "# Label Encoding to handle categorical value\n",
    "IS_CONVERTED_MAP = {'Yes': 1,\n",
    "                   'No': 0}"
   ]
  },
  {
   "cell_type": "code",
   "execution_count": 17,
   "metadata": {},
   "outputs": [],
   "source": [
    "NGOPC_SF_ALL_PE_CONTACT_TITAN_M_REQF['IS_Converted_Ordinal'] = NGOPC_SF_ALL_PE_CONTACT_TITAN_M_REQF.IS_Converted.map(IS_CONVERTED_MAP)"
   ]
  },
  {
   "cell_type": "code",
   "execution_count": 48,
   "metadata": {},
   "outputs": [
    {
     "data": {
      "text/plain": [
       "Index(['QuotedRate', 'PercentageMarkup', 'TimeSpent_seconds',\n",
       "       'TimeSpent_minutes', 'FrequencyOfVisit', 'aza', 'IS_Converted',\n",
       "       'cust_type', 'org_code', 'CRMAccountID', 'SellingCurrency',\n",
       "       'BuyingCurrency', 'SellingAmount', 'BuyingAmount', 'ClientRate',\n",
       "       'BaseCurrency', 'BaseSellingAmount', 'BaseBuyingAmount', 'NetProfit',\n",
       "       'FinalProfit', 'Margin', 'IS_Converted_Ordinal'],\n",
       "      dtype='object')"
      ]
     },
     "execution_count": 48,
     "metadata": {},
     "output_type": "execute_result"
    }
   ],
   "source": [
    "NGOPC_SF_ALL_PE_CONTACT_TITAN_M_REQF.columns"
   ]
  },
  {
   "cell_type": "code",
   "execution_count": 18,
   "metadata": {},
   "outputs": [
    {
     "name": "stdout",
     "output_type": "stream",
     "text": [
      "Number of numerical variables:  18\n"
     ]
    }
   ],
   "source": [
    "# list of numerical variables\n",
    "numerical_features = [feature for feature in NGOPC_SF_ALL_PE_CONTACT_TITAN_M_REQF.columns if NGOPC_SF_ALL_PE_CONTACT_TITAN_M_REQF[feature].dtypes != 'O']\n",
    "\n",
    "print('Number of numerical variables: ', len(numerical_features))\n",
    "\n",
    "# visualise the numerical variables\n",
    "#NGOPC_SF_ALL_PE_CONTACT_TITAN_REQF[numerical_features].head()"
   ]
  },
  {
   "cell_type": "code",
   "execution_count": 19,
   "metadata": {},
   "outputs": [
    {
     "data": {
      "text/html": [
       "<div>\n",
       "<style scoped>\n",
       "    .dataframe tbody tr th:only-of-type {\n",
       "        vertical-align: middle;\n",
       "    }\n",
       "\n",
       "    .dataframe tbody tr th {\n",
       "        vertical-align: top;\n",
       "    }\n",
       "\n",
       "    .dataframe thead th {\n",
       "        text-align: right;\n",
       "    }\n",
       "</style>\n",
       "<table border=\"1\" class=\"dataframe\">\n",
       "  <thead>\n",
       "    <tr style=\"text-align: right;\">\n",
       "      <th></th>\n",
       "      <th>QuotedRate</th>\n",
       "      <th>PercentageMarkup</th>\n",
       "      <th>TimeSpent_seconds</th>\n",
       "      <th>TimeSpent_minutes</th>\n",
       "      <th>FrequencyOfVisit</th>\n",
       "      <th>aza</th>\n",
       "      <th>SellingCurrency</th>\n",
       "      <th>BuyingCurrency</th>\n",
       "      <th>SellingAmount</th>\n",
       "      <th>BuyingAmount</th>\n",
       "      <th>ClientRate</th>\n",
       "      <th>BaseCurrency</th>\n",
       "      <th>BaseSellingAmount</th>\n",
       "      <th>BaseBuyingAmount</th>\n",
       "      <th>NetProfit</th>\n",
       "      <th>FinalProfit</th>\n",
       "      <th>Margin</th>\n",
       "      <th>IS_Converted_Ordinal</th>\n",
       "    </tr>\n",
       "  </thead>\n",
       "  <tbody>\n",
       "    <tr>\n",
       "      <th>0</th>\n",
       "      <td>NaN</td>\n",
       "      <td>NaN</td>\n",
       "      <td>971</td>\n",
       "      <td>16</td>\n",
       "      <td>3396</td>\n",
       "      <td>1161432</td>\n",
       "      <td>16</td>\n",
       "      <td>48</td>\n",
       "      <td>33128.85</td>\n",
       "      <td>44773.64</td>\n",
       "      <td>1.3515</td>\n",
       "      <td>16</td>\n",
       "      <td>33128.85</td>\n",
       "      <td>32793.07</td>\n",
       "      <td>335.78</td>\n",
       "      <td>335.78</td>\n",
       "      <td>1.01</td>\n",
       "      <td>0</td>\n",
       "    </tr>\n",
       "    <tr>\n",
       "      <th>1</th>\n",
       "      <td>NaN</td>\n",
       "      <td>NaN</td>\n",
       "      <td>971</td>\n",
       "      <td>16</td>\n",
       "      <td>3396</td>\n",
       "      <td>1161432</td>\n",
       "      <td>16</td>\n",
       "      <td>14</td>\n",
       "      <td>3770.31</td>\n",
       "      <td>4340.38</td>\n",
       "      <td>1.1512</td>\n",
       "      <td>16</td>\n",
       "      <td>3770.31</td>\n",
       "      <td>3733.76</td>\n",
       "      <td>36.55</td>\n",
       "      <td>36.55</td>\n",
       "      <td>0.97</td>\n",
       "      <td>0</td>\n",
       "    </tr>\n",
       "    <tr>\n",
       "      <th>2</th>\n",
       "      <td>NaN</td>\n",
       "      <td>NaN</td>\n",
       "      <td>971</td>\n",
       "      <td>16</td>\n",
       "      <td>3396</td>\n",
       "      <td>1161432</td>\n",
       "      <td>16</td>\n",
       "      <td>14</td>\n",
       "      <td>2877.51</td>\n",
       "      <td>3312.59</td>\n",
       "      <td>1.1512</td>\n",
       "      <td>16</td>\n",
       "      <td>2877.51</td>\n",
       "      <td>2848.66</td>\n",
       "      <td>28.85</td>\n",
       "      <td>28.85</td>\n",
       "      <td>1.00</td>\n",
       "      <td>0</td>\n",
       "    </tr>\n",
       "    <tr>\n",
       "      <th>3</th>\n",
       "      <td>NaN</td>\n",
       "      <td>NaN</td>\n",
       "      <td>971</td>\n",
       "      <td>16</td>\n",
       "      <td>3396</td>\n",
       "      <td>1161432</td>\n",
       "      <td>16</td>\n",
       "      <td>14</td>\n",
       "      <td>4723.84</td>\n",
       "      <td>5438.08</td>\n",
       "      <td>1.1512</td>\n",
       "      <td>16</td>\n",
       "      <td>4723.84</td>\n",
       "      <td>4677.60</td>\n",
       "      <td>46.24</td>\n",
       "      <td>46.24</td>\n",
       "      <td>0.98</td>\n",
       "      <td>0</td>\n",
       "    </tr>\n",
       "    <tr>\n",
       "      <th>4</th>\n",
       "      <td>NaN</td>\n",
       "      <td>NaN</td>\n",
       "      <td>971</td>\n",
       "      <td>16</td>\n",
       "      <td>3396</td>\n",
       "      <td>1161432</td>\n",
       "      <td>16</td>\n",
       "      <td>14</td>\n",
       "      <td>3464.11</td>\n",
       "      <td>3987.88</td>\n",
       "      <td>1.1512</td>\n",
       "      <td>16</td>\n",
       "      <td>3464.11</td>\n",
       "      <td>3430.41</td>\n",
       "      <td>33.70</td>\n",
       "      <td>33.70</td>\n",
       "      <td>0.97</td>\n",
       "      <td>0</td>\n",
       "    </tr>\n",
       "  </tbody>\n",
       "</table>\n",
       "</div>"
      ],
      "text/plain": [
       "   QuotedRate  PercentageMarkup  TimeSpent_seconds  TimeSpent_minutes  \\\n",
       "0         NaN               NaN                971                 16   \n",
       "1         NaN               NaN                971                 16   \n",
       "2         NaN               NaN                971                 16   \n",
       "3         NaN               NaN                971                 16   \n",
       "4         NaN               NaN                971                 16   \n",
       "\n",
       "   FrequencyOfVisit      aza  SellingCurrency  BuyingCurrency  SellingAmount  \\\n",
       "0              3396  1161432               16              48       33128.85   \n",
       "1              3396  1161432               16              14        3770.31   \n",
       "2              3396  1161432               16              14        2877.51   \n",
       "3              3396  1161432               16              14        4723.84   \n",
       "4              3396  1161432               16              14        3464.11   \n",
       "\n",
       "   BuyingAmount  ClientRate  BaseCurrency  BaseSellingAmount  \\\n",
       "0      44773.64      1.3515            16           33128.85   \n",
       "1       4340.38      1.1512            16            3770.31   \n",
       "2       3312.59      1.1512            16            2877.51   \n",
       "3       5438.08      1.1512            16            4723.84   \n",
       "4       3987.88      1.1512            16            3464.11   \n",
       "\n",
       "   BaseBuyingAmount  NetProfit  FinalProfit  Margin  IS_Converted_Ordinal  \n",
       "0          32793.07     335.78       335.78    1.01                     0  \n",
       "1           3733.76      36.55        36.55    0.97                     0  \n",
       "2           2848.66      28.85        28.85    1.00                     0  \n",
       "3           4677.60      46.24        46.24    0.98                     0  \n",
       "4           3430.41      33.70        33.70    0.97                     0  "
      ]
     },
     "execution_count": 19,
     "metadata": {},
     "output_type": "execute_result"
    }
   ],
   "source": [
    "NGOPC_SF_ALL_PE_CONTACT_TITAN_M_REQF_Num = NGOPC_SF_ALL_PE_CONTACT_TITAN_M_REQF[numerical_features]\n",
    "NGOPC_SF_ALL_PE_CONTACT_TITAN_M_REQF_Num.head()"
   ]
  },
  {
   "cell_type": "code",
   "execution_count": 26,
   "metadata": {},
   "outputs": [
    {
     "data": {
      "text/plain": [
       "(92951702, 18)"
      ]
     },
     "execution_count": 26,
     "metadata": {},
     "output_type": "execute_result"
    }
   ],
   "source": [
    "NGOPC_SF_ALL_PE_CONTACT_TITAN_M_REQF_Num.shape"
   ]
  },
  {
   "cell_type": "code",
   "execution_count": 20,
   "metadata": {},
   "outputs": [],
   "source": [
    "## Drop dataframe due to RAM memory crunch\n",
    "\n",
    "NGOPC_SF_ALL_PE_CONTACT_TITAN_M_REQF.drop(NGOPC_SF_ALL_PE_CONTACT_TITAN_M_REQF.index, inplace =True)\n"
   ]
  },
  {
   "cell_type": "code",
   "execution_count": 35,
   "metadata": {},
   "outputs": [
    {
     "name": "stdout",
     "output_type": "stream",
     "text": [
      "QuotedRate 0.2122  % missing values\n",
      "PercentageMarkup 0.2122  % missing values\n"
     ]
    }
   ],
   "source": [
    "## Here we will check the percentage of nan values present in each feature\n",
    "## 1 -step make the list of features which has missing values\n",
    "features_with_na=[features for features in NGOPC_SF_ALL_PE_CONTACT_TITAN_M_REQF_Num.columns if NGOPC_SF_ALL_PE_CONTACT_TITAN_M_REQF_Num[features].isnull().sum()>1]\n",
    "## 2- step print the feature name and the percentage of missing values\n",
    "\n",
    "for feature in features_with_na:\n",
    "    print(feature, np.round(NGOPC_SF_ALL_PE_CONTACT_TITAN_M_REQF_Num[feature].isnull().mean(), 4),  ' % missing values')"
   ]
  },
  {
   "cell_type": "code",
   "execution_count": 21,
   "metadata": {},
   "outputs": [],
   "source": [
    "# Replacing the NULL Values with Mode\n",
    "QuotedRate_Freq = NGOPC_SF_ALL_PE_CONTACT_TITAN_M_REQF_Num['QuotedRate'].mode()[0]\n",
    "PercentageMarkup_Freq = NGOPC_SF_ALL_PE_CONTACT_TITAN_M_REQF_Num['PercentageMarkup'].mode()[0]"
   ]
  },
  {
   "cell_type": "code",
   "execution_count": 22,
   "metadata": {},
   "outputs": [],
   "source": [
    "NGOPC_SF_ALL_PE_CONTACT_TITAN_M_REQF_Num['QuotedRate_Var'] = np.where(NGOPC_SF_ALL_PE_CONTACT_TITAN_M_REQF_Num['QuotedRate'].isnull(),1,0)\n",
    "NGOPC_SF_ALL_PE_CONTACT_TITAN_M_REQF_Num['PercentageMarkup_Var'] = np.where(NGOPC_SF_ALL_PE_CONTACT_TITAN_M_REQF_Num['PercentageMarkup'].isnull(),1,0)"
   ]
  },
  {
   "cell_type": "code",
   "execution_count": 30,
   "metadata": {},
   "outputs": [
    {
     "data": {
      "text/plain": [
       "(92951702, 20)"
      ]
     },
     "execution_count": 30,
     "metadata": {},
     "output_type": "execute_result"
    }
   ],
   "source": [
    "NGOPC_SF_ALL_PE_CONTACT_TITAN_M_REQF_Num.shape"
   ]
  },
  {
   "cell_type": "code",
   "execution_count": 43,
   "metadata": {},
   "outputs": [
    {
     "data": {
      "text/plain": [
       "1.8612"
      ]
     },
     "execution_count": 43,
     "metadata": {},
     "output_type": "execute_result"
    }
   ],
   "source": [
    "QuotedRate_Freq"
   ]
  },
  {
   "cell_type": "code",
   "execution_count": 23,
   "metadata": {},
   "outputs": [],
   "source": [
    "NGOPC_SF_ALL_PE_CONTACT_TITAN_M_REQF_Num['QuotedRate'].fillna(QuotedRate_Freq, inplace=True)\n",
    "NGOPC_SF_ALL_PE_CONTACT_TITAN_M_REQF_Num['PercentageMarkup'].fillna(PercentageMarkup_Freq, inplace=True)"
   ]
  },
  {
   "cell_type": "markdown",
   "metadata": {},
   "source": [
    "###  Mean Normalization"
   ]
  },
  {
   "cell_type": "code",
   "execution_count": 24,
   "metadata": {},
   "outputs": [
    {
     "data": {
      "text/html": [
       "<div>\n",
       "<style scoped>\n",
       "    .dataframe tbody tr th:only-of-type {\n",
       "        vertical-align: middle;\n",
       "    }\n",
       "\n",
       "    .dataframe tbody tr th {\n",
       "        vertical-align: top;\n",
       "    }\n",
       "\n",
       "    .dataframe thead th {\n",
       "        text-align: right;\n",
       "    }\n",
       "</style>\n",
       "<table border=\"1\" class=\"dataframe\">\n",
       "  <thead>\n",
       "    <tr style=\"text-align: right;\">\n",
       "      <th></th>\n",
       "      <th>QuotedRate</th>\n",
       "      <th>PercentageMarkup</th>\n",
       "      <th>TimeSpent_seconds</th>\n",
       "      <th>TimeSpent_minutes</th>\n",
       "      <th>FrequencyOfVisit</th>\n",
       "      <th>aza</th>\n",
       "      <th>SellingCurrency</th>\n",
       "      <th>BuyingCurrency</th>\n",
       "      <th>SellingAmount</th>\n",
       "      <th>BuyingAmount</th>\n",
       "      <th>ClientRate</th>\n",
       "      <th>BaseCurrency</th>\n",
       "      <th>BaseSellingAmount</th>\n",
       "      <th>BaseBuyingAmount</th>\n",
       "      <th>NetProfit</th>\n",
       "      <th>FinalProfit</th>\n",
       "      <th>Margin</th>\n",
       "      <th>IS_Converted_Ordinal</th>\n",
       "      <th>QuotedRate_Var</th>\n",
       "      <th>PercentageMarkup_Var</th>\n",
       "    </tr>\n",
       "  </thead>\n",
       "  <tbody>\n",
       "    <tr>\n",
       "      <th>0</th>\n",
       "      <td>1.0</td>\n",
       "      <td>0.04</td>\n",
       "      <td>0.125081</td>\n",
       "      <td>0.124031</td>\n",
       "      <td>0.262804</td>\n",
       "      <td>0.014564</td>\n",
       "      <td>0.058824</td>\n",
       "      <td>0.979167</td>\n",
       "      <td>0.205500</td>\n",
       "      <td>0.161605</td>\n",
       "      <td>0.004135</td>\n",
       "      <td>1.0</td>\n",
       "      <td>0.205512</td>\n",
       "      <td>0.205509</td>\n",
       "      <td>0.211027</td>\n",
       "      <td>0.211027</td>\n",
       "      <td>0.010187</td>\n",
       "      <td>0.0</td>\n",
       "      <td>1.0</td>\n",
       "      <td>1.0</td>\n",
       "    </tr>\n",
       "    <tr>\n",
       "      <th>1</th>\n",
       "      <td>1.0</td>\n",
       "      <td>0.04</td>\n",
       "      <td>0.125081</td>\n",
       "      <td>0.124031</td>\n",
       "      <td>0.262804</td>\n",
       "      <td>0.014564</td>\n",
       "      <td>0.058824</td>\n",
       "      <td>0.270833</td>\n",
       "      <td>0.023316</td>\n",
       "      <td>0.015631</td>\n",
       "      <td>0.003446</td>\n",
       "      <td>1.0</td>\n",
       "      <td>0.023331</td>\n",
       "      <td>0.023398</td>\n",
       "      <td>0.022971</td>\n",
       "      <td>0.022971</td>\n",
       "      <td>0.009783</td>\n",
       "      <td>0.0</td>\n",
       "      <td>1.0</td>\n",
       "      <td>1.0</td>\n",
       "    </tr>\n",
       "    <tr>\n",
       "      <th>2</th>\n",
       "      <td>1.0</td>\n",
       "      <td>0.04</td>\n",
       "      <td>0.125081</td>\n",
       "      <td>0.124031</td>\n",
       "      <td>0.262804</td>\n",
       "      <td>0.014564</td>\n",
       "      <td>0.058824</td>\n",
       "      <td>0.270833</td>\n",
       "      <td>0.017776</td>\n",
       "      <td>0.011921</td>\n",
       "      <td>0.003446</td>\n",
       "      <td>1.0</td>\n",
       "      <td>0.017790</td>\n",
       "      <td>0.017851</td>\n",
       "      <td>0.018131</td>\n",
       "      <td>0.018131</td>\n",
       "      <td>0.010086</td>\n",
       "      <td>0.0</td>\n",
       "      <td>1.0</td>\n",
       "      <td>1.0</td>\n",
       "    </tr>\n",
       "    <tr>\n",
       "      <th>3</th>\n",
       "      <td>1.0</td>\n",
       "      <td>0.04</td>\n",
       "      <td>0.125081</td>\n",
       "      <td>0.124031</td>\n",
       "      <td>0.262804</td>\n",
       "      <td>0.014564</td>\n",
       "      <td>0.058824</td>\n",
       "      <td>0.270833</td>\n",
       "      <td>0.029233</td>\n",
       "      <td>0.019594</td>\n",
       "      <td>0.003446</td>\n",
       "      <td>1.0</td>\n",
       "      <td>0.029248</td>\n",
       "      <td>0.029313</td>\n",
       "      <td>0.029060</td>\n",
       "      <td>0.029060</td>\n",
       "      <td>0.009884</td>\n",
       "      <td>0.0</td>\n",
       "      <td>1.0</td>\n",
       "      <td>1.0</td>\n",
       "    </tr>\n",
       "    <tr>\n",
       "      <th>4</th>\n",
       "      <td>1.0</td>\n",
       "      <td>0.04</td>\n",
       "      <td>0.125081</td>\n",
       "      <td>0.124031</td>\n",
       "      <td>0.262804</td>\n",
       "      <td>0.014564</td>\n",
       "      <td>0.058824</td>\n",
       "      <td>0.270833</td>\n",
       "      <td>0.021416</td>\n",
       "      <td>0.014359</td>\n",
       "      <td>0.003446</td>\n",
       "      <td>1.0</td>\n",
       "      <td>0.021431</td>\n",
       "      <td>0.021497</td>\n",
       "      <td>0.021179</td>\n",
       "      <td>0.021179</td>\n",
       "      <td>0.009783</td>\n",
       "      <td>0.0</td>\n",
       "      <td>1.0</td>\n",
       "      <td>1.0</td>\n",
       "    </tr>\n",
       "  </tbody>\n",
       "</table>\n",
       "</div>"
      ],
      "text/plain": [
       "   QuotedRate  PercentageMarkup  TimeSpent_seconds  TimeSpent_minutes  \\\n",
       "0         1.0              0.04           0.125081           0.124031   \n",
       "1         1.0              0.04           0.125081           0.124031   \n",
       "2         1.0              0.04           0.125081           0.124031   \n",
       "3         1.0              0.04           0.125081           0.124031   \n",
       "4         1.0              0.04           0.125081           0.124031   \n",
       "\n",
       "   FrequencyOfVisit       aza  SellingCurrency  BuyingCurrency  SellingAmount  \\\n",
       "0          0.262804  0.014564         0.058824        0.979167       0.205500   \n",
       "1          0.262804  0.014564         0.058824        0.270833       0.023316   \n",
       "2          0.262804  0.014564         0.058824        0.270833       0.017776   \n",
       "3          0.262804  0.014564         0.058824        0.270833       0.029233   \n",
       "4          0.262804  0.014564         0.058824        0.270833       0.021416   \n",
       "\n",
       "   BuyingAmount  ClientRate  BaseCurrency  BaseSellingAmount  \\\n",
       "0      0.161605    0.004135           1.0           0.205512   \n",
       "1      0.015631    0.003446           1.0           0.023331   \n",
       "2      0.011921    0.003446           1.0           0.017790   \n",
       "3      0.019594    0.003446           1.0           0.029248   \n",
       "4      0.014359    0.003446           1.0           0.021431   \n",
       "\n",
       "   BaseBuyingAmount  NetProfit  FinalProfit    Margin  IS_Converted_Ordinal  \\\n",
       "0          0.205509   0.211027     0.211027  0.010187                   0.0   \n",
       "1          0.023398   0.022971     0.022971  0.009783                   0.0   \n",
       "2          0.017851   0.018131     0.018131  0.010086                   0.0   \n",
       "3          0.029313   0.029060     0.029060  0.009884                   0.0   \n",
       "4          0.021497   0.021179     0.021179  0.009783                   0.0   \n",
       "\n",
       "   QuotedRate_Var  PercentageMarkup_Var  \n",
       "0             1.0                   1.0  \n",
       "1             1.0                   1.0  \n",
       "2             1.0                   1.0  \n",
       "3             1.0                   1.0  \n",
       "4             1.0                   1.0  "
      ]
     },
     "execution_count": 24,
     "metadata": {},
     "output_type": "execute_result"
    }
   ],
   "source": [
    "scaler = MinMaxScaler()\n",
    "\n",
    "NGOPC_SF_ALL_PE_CONTACT_TITAN_M_REQF_Num_scaled = pd.DataFrame(scaler.fit_transform(NGOPC_SF_ALL_PE_CONTACT_TITAN_M_REQF_Num), index = NGOPC_SF_ALL_PE_CONTACT_TITAN_M_REQF_Num.index, columns = NGOPC_SF_ALL_PE_CONTACT_TITAN_M_REQF_Num.columns)\n",
    "NGOPC_SF_ALL_PE_CONTACT_TITAN_M_REQF_Num_scaled.head()"
   ]
  },
  {
   "cell_type": "code",
   "execution_count": 25,
   "metadata": {},
   "outputs": [],
   "source": [
    "## Drop dataframe due to RAM memory crunch\n",
    "\n",
    "NGOPC_SF_ALL_PE_CONTACT_TITAN_M_REQF_Num.drop(NGOPC_SF_ALL_PE_CONTACT_TITAN_M_REQF_Num.index, inplace =True)"
   ]
  },
  {
   "cell_type": "markdown",
   "metadata": {},
   "source": [
    "### Principle Component Analysis"
   ]
  },
  {
   "cell_type": "code",
   "execution_count": 50,
   "metadata": {},
   "outputs": [
    {
     "name": "stdout",
     "output_type": "stream",
     "text": [
      "Variation explained by each principal component\n"
     ]
    },
    {
     "data": {
      "text/plain": [
       "[0.6557469837576382,\n",
       " 0.1253637177436167,\n",
       " 0.044562151215341086,\n",
       " 0.04170871710858061,\n",
       " 0.03340697747451503,\n",
       " 0.022286314863404478,\n",
       " 0.020646229931737398,\n",
       " 0.01639762694434734,\n",
       " 0.015157701768792891,\n",
       " 0.009212236879274539,\n",
       " 0.006663529630177993,\n",
       " 0.0052678473057934765,\n",
       " 0.0035300735328226483,\n",
       " 3.879894906183201e-05,\n",
       " 8.823467387267166e-06,\n",
       " 1.73395080760543e-06,\n",
       " 5.354767008016909e-07,\n",
       " 2.5147808082472034e-31,\n",
       " 3.061532881693475e-33,\n",
       " 1.1793467192135486e-40]"
      ]
     },
     "execution_count": 50,
     "metadata": {},
     "output_type": "execute_result"
    }
   ],
   "source": [
    "# Checking the variance explained by each principal component\n",
    "\n",
    "from sklearn.decomposition import PCA\n",
    "pca = PCA(n_components = None)\n",
    "NGOPC_SF_ALL_PE_CONTACT_TITAN_M_REQF_Num_scaled_pca = pca.fit_transform(NGOPC_SF_ALL_PE_CONTACT_TITAN_M_REQF_Num_scaled)\n",
    "#X_test1 = pca.transform(X_test)\n",
    "explained_variance = pca.explained_variance_ratio_\n",
    "print(\"Variation explained by each principal component\")\n",
    "list(explained_variance)"
   ]
  },
  {
   "cell_type": "code",
   "execution_count": 51,
   "metadata": {},
   "outputs": [
    {
     "data": {
      "text/plain": [
       "Text(0, 0.5, 'cumulative explained variance')"
      ]
     },
     "execution_count": 51,
     "metadata": {},
     "output_type": "execute_result"
    },
    {
     "data": {
      "image/png": "[encoded data removed]",
      "text/plain": [
       "<Figure size 432x288 with 1 Axes>"
      ]
     },
     "metadata": {},
     "output_type": "display_data"
    }
   ],
   "source": [
    "## Selecting the Compoments of PCA vasis the Variance via Scree Plot\n",
    "\n",
    "plt.plot(np.cumsum(explained_variance))\n",
    "plt.xlabel('number of components')\n",
    "plt.ylabel('cumulative explained variance')\n",
    "#NGOPC_SF_ALL_PE_CONTACT_TITAN_M_REQF_Num_scaled_pca"
   ]
  },
  {
   "cell_type": "code",
   "execution_count": 26,
   "metadata": {},
   "outputs": [
    {
     "name": "stdout",
     "output_type": "stream",
     "text": [
      "Variation explained by each principal component\n"
     ]
    },
    {
     "data": {
      "text/plain": [
       "[0.6557469837576454,\n",
       " 0.12536371774359492,\n",
       " 0.044562151215341746,\n",
       " 0.04170871710858117,\n",
       " 0.033406977474516264,\n",
       " 0.022286314863404256]"
      ]
     },
     "execution_count": 26,
     "metadata": {},
     "output_type": "execute_result"
    }
   ],
   "source": [
    "#Analysis: We shall choose the top 6 principal components.\n",
    "#The top 6 principal components explain 96 % variance in the dataset. Beyond the top 6, the marginial gain in variance for adding each principal componenet is significantly reduced.\n",
    "# Principal component analysis to take the 6 top components\n",
    "\n",
    "i = 6\n",
    "from sklearn.decomposition import PCA\n",
    "pca = PCA(n_components = i)\n",
    "NGOPC_SF_ALL_PE_CONTACT_TITAN_M_REQF_Num_scaled_pca = pca.fit_transform(NGOPC_SF_ALL_PE_CONTACT_TITAN_M_REQF_Num_scaled)\n",
    "#X_test = pca.transform(X_test)\n",
    "explained_variance = pca.explained_variance_ratio_\n",
    "print(\"Variation explained by each principal component\")\n",
    "list(explained_variance)"
   ]
  },
  {
   "cell_type": "code",
   "execution_count": 27,
   "metadata": {},
   "outputs": [],
   "source": [
    "## Drop dataframe due to RAM memory crunch\n",
    "\n",
    "NGOPC_SF_ALL_PE_CONTACT_TITAN_M_REQF_Num_scaled.drop(NGOPC_SF_ALL_PE_CONTACT_TITAN_M_REQF_Num_scaled.index, inplace =True)"
   ]
  },
  {
   "cell_type": "markdown",
   "metadata": {},
   "source": [
    "### Customer Segmentation"
   ]
  },
  {
   "cell_type": "code",
   "execution_count": 37,
   "metadata": {},
   "outputs": [
    {
     "data": {
      "image/png": "[encoded data removed]",
      "text/plain": [
       "<Figure size 432x288 with 1 Axes>"
      ]
     },
     "metadata": {},
     "output_type": "display_data"
    }
   ],
   "source": [
    "# Elbow method used for customer segmentation based on the top 3 principal componenets\n",
    "from sklearn.cluster import KMeans\n",
    "wcss = []\n",
    "for i in range(1, 11):\n",
    "    kmeans = KMeans(n_clusters = i, init = 'k-means++', random_state = 42)\n",
    "    kmeans.fit(NGOPC_SF_ALL_PE_CONTACT_TITAN_M_REQF_Num_scaled_pca)\n",
    "    wcss.append(kmeans.inertia_)\n",
    "plt.plot(range(1, 11), wcss)\n",
    "plt.title('The Elbow Method')\n",
    "plt.xlabel('Number of clusters')\n",
    "plt.ylabel('WCSS')\n",
    "plt.show()"
   ]
  },
  {
   "cell_type": "code",
   "execution_count": 28,
   "metadata": {},
   "outputs": [
    {
     "data": {
      "text/plain": [
       "[<matplotlib.lines.Line2D at 0x7fc96f3f33c8>]"
      ]
     },
     "execution_count": 28,
     "metadata": {},
     "output_type": "execute_result"
    },
    {
     "data": {
      "image/png": "[encoded data removed]",
      "text/plain": [
       "<Figure size 432x288 with 1 Axes>"
      ]
     },
     "metadata": {},
     "output_type": "display_data"
    }
   ],
   "source": [
    "#Performing K-mean Clustering \n",
    "kmeans = KMeans(n_clusters = 2, init = 'k-means++', random_state = 42)\n",
    "y_kmeans = kmeans.fit_predict(NGOPC_SF_ALL_PE_CONTACT_TITAN_M_REQF_Num_scaled_pca)\n",
    "plt.plot(y_kmeans, 'g^')\n",
    "plt.show()"
   ]
  },
  {
   "cell_type": "code",
   "execution_count": 46,
   "metadata": {},
   "outputs": [
    {
     "data": {
      "image/png": "[encoded data removed]",
      "text/plain": [
       "<Figure size 432x288 with 1 Axes>"
      ]
     },
     "metadata": {},
     "output_type": "display_data"
    }
   ],
   "source": [
    "# Visualising the clusters\n",
    "plt.scatter(NGOPC_SF_ALL_PE_CONTACT_TITAN_M_REQF_Num_scaled_pca[y_kmeans == 0, 0], NGOPC_SF_ALL_PE_CONTACT_TITAN_M_REQF_Num_scaled_pca[y_kmeans == 0, 1], s = 100, c = 'red', label = 'Segment 1')\n",
    "plt.scatter(NGOPC_SF_ALL_PE_CONTACT_TITAN_M_REQF_Num_scaled_pca[y_kmeans == 1, 0], NGOPC_SF_ALL_PE_CONTACT_TITAN_M_REQF_Num_scaled_pca[y_kmeans == 1, 1], s = 100, c = 'blue', label = 'Segment 2')\n",
    "#plt.scatter(NGOPC_SF_ALL_PE_CONTACT_TITAN_M_REQF_Num_scaled_pca[y_kmeans == 2, 0], NGOPC_SF_ALL_PE_CONTACT_TITAN_M_REQF_Num_scaled_pca[y_kmeans == 2, 1], s = 100, c = 'green', label = 'Segment 3')\n",
    "#plt.scatter(NGOPC_SF_ALL_PE_CONTACT_TITAN_M_REQF_Num_scaled_pca[y_kmeans == 3, 0], NGOPC_SF_ALL_PE_CONTACT_TITAN_M_REQF_Num_scaled_pca[y_kmeans == 3, 1], s = 100, c = 'purple', label = 'Segment 4')\n",
    "#plt.scatter(kmeans.cluster_centers_[:, 0], kmeans.cluster_centers_[:, 1], s = 200, c = 'yellow', label = 'Centroids')\n",
    "plt.title('Customer segments')\n",
    "plt.legend()\n",
    "plt.show()"
   ]
  },
  {
   "cell_type": "code",
   "execution_count": 29,
   "metadata": {},
   "outputs": [
    {
     "data": {
      "text/plain": [
       "array([[-0.0375968 ],\n",
       "       [-0.02714098],\n",
       "       [-0.02705477],\n",
       "       ...,\n",
       "       [-0.01991245],\n",
       "       [-0.01913294],\n",
       "       [-0.01994291]])"
      ]
     },
     "execution_count": 29,
     "metadata": {},
     "output_type": "execute_result"
    }
   ],
   "source": [
    "## Drop dataframe due to RAM memory crunch\n",
    "\n",
    "np.delete(NGOPC_SF_ALL_PE_CONTACT_TITAN_M_REQF_Num_scaled_pca, np.s_[0:5], axis=1 )"
   ]
  },
  {
   "cell_type": "code",
   "execution_count": 31,
   "metadata": {},
   "outputs": [
    {
     "data": {
      "text/plain": [
       "array([[ 1.26930143, -0.04682972,  1.22130776,  0.17744856,  0.11748611,\n",
       "        -0.0375968 ],\n",
       "       [ 1.13495798, -0.06699127,  0.89768825,  0.65833558,  0.11876499,\n",
       "        -0.02714098],\n",
       "       [ 1.13452297, -0.06701542,  0.89660678,  0.6575241 ,  0.11902222,\n",
       "        -0.02705477],\n",
       "       ...,\n",
       "       [ 0.66685719, -0.12887371,  0.94785955,  0.60916432,  0.35122868,\n",
       "        -0.01991245],\n",
       "       [ 0.65726329, -0.13011095,  0.92128919,  0.63722252,  0.35270912,\n",
       "        -0.01913294],\n",
       "       [ 0.66699706, -0.12886684,  0.94822174,  0.60946193,  0.35114016,\n",
       "        -0.01994291]])"
      ]
     },
     "execution_count": 31,
     "metadata": {},
     "output_type": "execute_result"
    }
   ],
   "source": [
    "NGOPC_SF_ALL_PE_CONTACT_TITAN_M_REQF_Num_scaled_pca"
   ]
  },
  {
   "cell_type": "code",
   "execution_count": 32,
   "metadata": {},
   "outputs": [
    {
     "data": {
      "text/html": [
       "<div>\n",
       "<style scoped>\n",
       "    .dataframe tbody tr th:only-of-type {\n",
       "        vertical-align: middle;\n",
       "    }\n",
       "\n",
       "    .dataframe tbody tr th {\n",
       "        vertical-align: top;\n",
       "    }\n",
       "\n",
       "    .dataframe thead th {\n",
       "        text-align: right;\n",
       "    }\n",
       "</style>\n",
       "<table border=\"1\" class=\"dataframe\">\n",
       "  <thead>\n",
       "    <tr style=\"text-align: right;\">\n",
       "      <th></th>\n",
       "      <th>QuotedRate</th>\n",
       "      <th>PercentageMarkup</th>\n",
       "      <th>TimeSpent_seconds</th>\n",
       "      <th>TimeSpent_minutes</th>\n",
       "      <th>FrequencyOfVisit</th>\n",
       "      <th>aza</th>\n",
       "      <th>IS_Converted</th>\n",
       "      <th>cust_type</th>\n",
       "      <th>org_code</th>\n",
       "      <th>CRMAccountID</th>\n",
       "      <th>SellingCurrency</th>\n",
       "      <th>BuyingCurrency</th>\n",
       "      <th>SellingAmount</th>\n",
       "      <th>BuyingAmount</th>\n",
       "      <th>ClientRate</th>\n",
       "      <th>BaseCurrency</th>\n",
       "      <th>BaseSellingAmount</th>\n",
       "      <th>BaseBuyingAmount</th>\n",
       "      <th>NetProfit</th>\n",
       "      <th>FinalProfit</th>\n",
       "      <th>Margin</th>\n",
       "      <th>Cluster</th>\n",
       "    </tr>\n",
       "  </thead>\n",
       "  <tbody>\n",
       "    <tr>\n",
       "      <th>0</th>\n",
       "      <td>NaN</td>\n",
       "      <td>NaN</td>\n",
       "      <td>971</td>\n",
       "      <td>16</td>\n",
       "      <td>3396</td>\n",
       "      <td>Braintree</td>\n",
       "      <td>No</td>\n",
       "      <td>NaN</td>\n",
       "      <td>NaN</td>\n",
       "      <td>0010O00001qfkuvQAA</td>\n",
       "      <td>16</td>\n",
       "      <td>48</td>\n",
       "      <td>33128.85</td>\n",
       "      <td>44773.64</td>\n",
       "      <td>1.3515</td>\n",
       "      <td>16</td>\n",
       "      <td>33128.85</td>\n",
       "      <td>32793.07</td>\n",
       "      <td>335.78</td>\n",
       "      <td>335.78</td>\n",
       "      <td>1.01</td>\n",
       "      <td>1</td>\n",
       "    </tr>\n",
       "    <tr>\n",
       "      <th>1</th>\n",
       "      <td>NaN</td>\n",
       "      <td>NaN</td>\n",
       "      <td>971</td>\n",
       "      <td>16</td>\n",
       "      <td>3396</td>\n",
       "      <td>Braintree</td>\n",
       "      <td>No</td>\n",
       "      <td>NaN</td>\n",
       "      <td>NaN</td>\n",
       "      <td>0010O00001qfkuvQAA</td>\n",
       "      <td>16</td>\n",
       "      <td>14</td>\n",
       "      <td>3770.31</td>\n",
       "      <td>4340.38</td>\n",
       "      <td>1.1512</td>\n",
       "      <td>16</td>\n",
       "      <td>3770.31</td>\n",
       "      <td>3733.76</td>\n",
       "      <td>36.55</td>\n",
       "      <td>36.55</td>\n",
       "      <td>0.97</td>\n",
       "      <td>1</td>\n",
       "    </tr>\n",
       "    <tr>\n",
       "      <th>2</th>\n",
       "      <td>NaN</td>\n",
       "      <td>NaN</td>\n",
       "      <td>971</td>\n",
       "      <td>16</td>\n",
       "      <td>3396</td>\n",
       "      <td>Braintree</td>\n",
       "      <td>No</td>\n",
       "      <td>NaN</td>\n",
       "      <td>NaN</td>\n",
       "      <td>0010O00001qfkuvQAA</td>\n",
       "      <td>16</td>\n",
       "      <td>14</td>\n",
       "      <td>2877.51</td>\n",
       "      <td>3312.59</td>\n",
       "      <td>1.1512</td>\n",
       "      <td>16</td>\n",
       "      <td>2877.51</td>\n",
       "      <td>2848.66</td>\n",
       "      <td>28.85</td>\n",
       "      <td>28.85</td>\n",
       "      <td>1.00</td>\n",
       "      <td>1</td>\n",
       "    </tr>\n",
       "    <tr>\n",
       "      <th>3</th>\n",
       "      <td>NaN</td>\n",
       "      <td>NaN</td>\n",
       "      <td>971</td>\n",
       "      <td>16</td>\n",
       "      <td>3396</td>\n",
       "      <td>Braintree</td>\n",
       "      <td>No</td>\n",
       "      <td>NaN</td>\n",
       "      <td>NaN</td>\n",
       "      <td>0010O00001qfkuvQAA</td>\n",
       "      <td>16</td>\n",
       "      <td>14</td>\n",
       "      <td>4723.84</td>\n",
       "      <td>5438.08</td>\n",
       "      <td>1.1512</td>\n",
       "      <td>16</td>\n",
       "      <td>4723.84</td>\n",
       "      <td>4677.60</td>\n",
       "      <td>46.24</td>\n",
       "      <td>46.24</td>\n",
       "      <td>0.98</td>\n",
       "      <td>1</td>\n",
       "    </tr>\n",
       "    <tr>\n",
       "      <th>4</th>\n",
       "      <td>NaN</td>\n",
       "      <td>NaN</td>\n",
       "      <td>971</td>\n",
       "      <td>16</td>\n",
       "      <td>3396</td>\n",
       "      <td>Braintree</td>\n",
       "      <td>No</td>\n",
       "      <td>NaN</td>\n",
       "      <td>NaN</td>\n",
       "      <td>0010O00001qfkuvQAA</td>\n",
       "      <td>16</td>\n",
       "      <td>14</td>\n",
       "      <td>3464.11</td>\n",
       "      <td>3987.88</td>\n",
       "      <td>1.1512</td>\n",
       "      <td>16</td>\n",
       "      <td>3464.11</td>\n",
       "      <td>3430.41</td>\n",
       "      <td>33.70</td>\n",
       "      <td>33.70</td>\n",
       "      <td>0.97</td>\n",
       "      <td>1</td>\n",
       "    </tr>\n",
       "    <tr>\n",
       "      <th>5</th>\n",
       "      <td>NaN</td>\n",
       "      <td>NaN</td>\n",
       "      <td>971</td>\n",
       "      <td>16</td>\n",
       "      <td>3396</td>\n",
       "      <td>Braintree</td>\n",
       "      <td>No</td>\n",
       "      <td>NaN</td>\n",
       "      <td>NaN</td>\n",
       "      <td>0010O00001qfkuvQAA</td>\n",
       "      <td>16</td>\n",
       "      <td>48</td>\n",
       "      <td>42172.87</td>\n",
       "      <td>56996.64</td>\n",
       "      <td>1.3515</td>\n",
       "      <td>16</td>\n",
       "      <td>42172.87</td>\n",
       "      <td>41752.16</td>\n",
       "      <td>420.71</td>\n",
       "      <td>420.71</td>\n",
       "      <td>1.00</td>\n",
       "      <td>1</td>\n",
       "    </tr>\n",
       "    <tr>\n",
       "      <th>6</th>\n",
       "      <td>NaN</td>\n",
       "      <td>NaN</td>\n",
       "      <td>971</td>\n",
       "      <td>16</td>\n",
       "      <td>3396</td>\n",
       "      <td>Braintree</td>\n",
       "      <td>No</td>\n",
       "      <td>NaN</td>\n",
       "      <td>NaN</td>\n",
       "      <td>0010O00001qfkuvQAA</td>\n",
       "      <td>16</td>\n",
       "      <td>8</td>\n",
       "      <td>161161.00</td>\n",
       "      <td>201000.00</td>\n",
       "      <td>1.2472</td>\n",
       "      <td>16</td>\n",
       "      <td>161161.00</td>\n",
       "      <td>159569.83</td>\n",
       "      <td>1591.17</td>\n",
       "      <td>1591.17</td>\n",
       "      <td>0.99</td>\n",
       "      <td>1</td>\n",
       "    </tr>\n",
       "    <tr>\n",
       "      <th>7</th>\n",
       "      <td>NaN</td>\n",
       "      <td>NaN</td>\n",
       "      <td>971</td>\n",
       "      <td>16</td>\n",
       "      <td>3396</td>\n",
       "      <td>Braintree</td>\n",
       "      <td>No</td>\n",
       "      <td>NaN</td>\n",
       "      <td>NaN</td>\n",
       "      <td>0010O00001qfkuvQAA</td>\n",
       "      <td>16</td>\n",
       "      <td>16</td>\n",
       "      <td>29.33</td>\n",
       "      <td>29.33</td>\n",
       "      <td>1.0000</td>\n",
       "      <td>16</td>\n",
       "      <td>29.33</td>\n",
       "      <td>29.33</td>\n",
       "      <td>0.00</td>\n",
       "      <td>0.00</td>\n",
       "      <td>0.00</td>\n",
       "      <td>1</td>\n",
       "    </tr>\n",
       "    <tr>\n",
       "      <th>8</th>\n",
       "      <td>NaN</td>\n",
       "      <td>NaN</td>\n",
       "      <td>971</td>\n",
       "      <td>16</td>\n",
       "      <td>3396</td>\n",
       "      <td>Braintree</td>\n",
       "      <td>No</td>\n",
       "      <td>NaN</td>\n",
       "      <td>NaN</td>\n",
       "      <td>0010O00001qfkuvQAA</td>\n",
       "      <td>16</td>\n",
       "      <td>14</td>\n",
       "      <td>2824.03</td>\n",
       "      <td>3312.59</td>\n",
       "      <td>1.1730</td>\n",
       "      <td>16</td>\n",
       "      <td>2824.03</td>\n",
       "      <td>2794.65</td>\n",
       "      <td>29.38</td>\n",
       "      <td>29.38</td>\n",
       "      <td>1.04</td>\n",
       "      <td>1</td>\n",
       "    </tr>\n",
       "    <tr>\n",
       "      <th>9</th>\n",
       "      <td>NaN</td>\n",
       "      <td>NaN</td>\n",
       "      <td>971</td>\n",
       "      <td>16</td>\n",
       "      <td>3396</td>\n",
       "      <td>Braintree</td>\n",
       "      <td>No</td>\n",
       "      <td>NaN</td>\n",
       "      <td>NaN</td>\n",
       "      <td>0010O00001qfkuvQAA</td>\n",
       "      <td>16</td>\n",
       "      <td>14</td>\n",
       "      <td>826.14</td>\n",
       "      <td>969.06</td>\n",
       "      <td>1.1730</td>\n",
       "      <td>16</td>\n",
       "      <td>826.14</td>\n",
       "      <td>817.40</td>\n",
       "      <td>8.74</td>\n",
       "      <td>8.74</td>\n",
       "      <td>1.06</td>\n",
       "      <td>1</td>\n",
       "    </tr>\n",
       "    <tr>\n",
       "      <th>10</th>\n",
       "      <td>NaN</td>\n",
       "      <td>NaN</td>\n",
       "      <td>971</td>\n",
       "      <td>16</td>\n",
       "      <td>3396</td>\n",
       "      <td>Braintree</td>\n",
       "      <td>No</td>\n",
       "      <td>NaN</td>\n",
       "      <td>NaN</td>\n",
       "      <td>0010O00001qfkuvQAA</td>\n",
       "      <td>16</td>\n",
       "      <td>14</td>\n",
       "      <td>3646.98</td>\n",
       "      <td>4280.46</td>\n",
       "      <td>1.1737</td>\n",
       "      <td>16</td>\n",
       "      <td>3646.98</td>\n",
       "      <td>3610.55</td>\n",
       "      <td>36.43</td>\n",
       "      <td>36.43</td>\n",
       "      <td>1.00</td>\n",
       "      <td>1</td>\n",
       "    </tr>\n",
       "    <tr>\n",
       "      <th>11</th>\n",
       "      <td>NaN</td>\n",
       "      <td>NaN</td>\n",
       "      <td>971</td>\n",
       "      <td>16</td>\n",
       "      <td>3396</td>\n",
       "      <td>Braintree</td>\n",
       "      <td>No</td>\n",
       "      <td>NaN</td>\n",
       "      <td>NaN</td>\n",
       "      <td>0010O00001qfkuvQAA</td>\n",
       "      <td>16</td>\n",
       "      <td>14</td>\n",
       "      <td>3700.24</td>\n",
       "      <td>4340.38</td>\n",
       "      <td>1.1730</td>\n",
       "      <td>16</td>\n",
       "      <td>3700.24</td>\n",
       "      <td>3661.75</td>\n",
       "      <td>38.49</td>\n",
       "      <td>38.49</td>\n",
       "      <td>1.04</td>\n",
       "      <td>1</td>\n",
       "    </tr>\n",
       "    <tr>\n",
       "      <th>12</th>\n",
       "      <td>NaN</td>\n",
       "      <td>NaN</td>\n",
       "      <td>971</td>\n",
       "      <td>16</td>\n",
       "      <td>3396</td>\n",
       "      <td>Braintree</td>\n",
       "      <td>No</td>\n",
       "      <td>NaN</td>\n",
       "      <td>NaN</td>\n",
       "      <td>0010O00001qfkuvQAA</td>\n",
       "      <td>16</td>\n",
       "      <td>14</td>\n",
       "      <td>238.56</td>\n",
       "      <td>280.00</td>\n",
       "      <td>1.1737</td>\n",
       "      <td>16</td>\n",
       "      <td>238.56</td>\n",
       "      <td>236.21</td>\n",
       "      <td>2.35</td>\n",
       "      <td>2.35</td>\n",
       "      <td>0.99</td>\n",
       "      <td>1</td>\n",
       "    </tr>\n",
       "    <tr>\n",
       "      <th>13</th>\n",
       "      <td>NaN</td>\n",
       "      <td>NaN</td>\n",
       "      <td>971</td>\n",
       "      <td>16</td>\n",
       "      <td>3396</td>\n",
       "      <td>Braintree</td>\n",
       "      <td>No</td>\n",
       "      <td>NaN</td>\n",
       "      <td>NaN</td>\n",
       "      <td>0010O00001qfkuvQAA</td>\n",
       "      <td>16</td>\n",
       "      <td>48</td>\n",
       "      <td>24925.76</td>\n",
       "      <td>34061.05</td>\n",
       "      <td>1.3665</td>\n",
       "      <td>16</td>\n",
       "      <td>24925.76</td>\n",
       "      <td>24674.08</td>\n",
       "      <td>251.68</td>\n",
       "      <td>251.68</td>\n",
       "      <td>1.01</td>\n",
       "      <td>1</td>\n",
       "    </tr>\n",
       "    <tr>\n",
       "      <th>14</th>\n",
       "      <td>NaN</td>\n",
       "      <td>NaN</td>\n",
       "      <td>971</td>\n",
       "      <td>16</td>\n",
       "      <td>3396</td>\n",
       "      <td>Braintree</td>\n",
       "      <td>No</td>\n",
       "      <td>NaN</td>\n",
       "      <td>NaN</td>\n",
       "      <td>0010O00001qfkuvQAA</td>\n",
       "      <td>16</td>\n",
       "      <td>48</td>\n",
       "      <td>2086.08</td>\n",
       "      <td>2850.63</td>\n",
       "      <td>1.3665</td>\n",
       "      <td>16</td>\n",
       "      <td>2086.08</td>\n",
       "      <td>2064.97</td>\n",
       "      <td>21.11</td>\n",
       "      <td>21.11</td>\n",
       "      <td>1.01</td>\n",
       "      <td>1</td>\n",
       "    </tr>\n",
       "    <tr>\n",
       "      <th>15</th>\n",
       "      <td>NaN</td>\n",
       "      <td>NaN</td>\n",
       "      <td>971</td>\n",
       "      <td>16</td>\n",
       "      <td>3396</td>\n",
       "      <td>Braintree</td>\n",
       "      <td>No</td>\n",
       "      <td>NaN</td>\n",
       "      <td>NaN</td>\n",
       "      <td>0010O00001qfkuvQAA</td>\n",
       "      <td>16</td>\n",
       "      <td>48</td>\n",
       "      <td>92.21</td>\n",
       "      <td>126.00</td>\n",
       "      <td>1.3665</td>\n",
       "      <td>16</td>\n",
       "      <td>92.21</td>\n",
       "      <td>91.27</td>\n",
       "      <td>0.94</td>\n",
       "      <td>0.94</td>\n",
       "      <td>1.02</td>\n",
       "      <td>1</td>\n",
       "    </tr>\n",
       "    <tr>\n",
       "      <th>16</th>\n",
       "      <td>NaN</td>\n",
       "      <td>NaN</td>\n",
       "      <td>971</td>\n",
       "      <td>16</td>\n",
       "      <td>3396</td>\n",
       "      <td>Braintree</td>\n",
       "      <td>No</td>\n",
       "      <td>NaN</td>\n",
       "      <td>NaN</td>\n",
       "      <td>0010O00001qfkuvQAA</td>\n",
       "      <td>16</td>\n",
       "      <td>14</td>\n",
       "      <td>15335.85</td>\n",
       "      <td>17900.00</td>\n",
       "      <td>1.1672</td>\n",
       "      <td>16</td>\n",
       "      <td>15335.85</td>\n",
       "      <td>15182.15</td>\n",
       "      <td>153.70</td>\n",
       "      <td>153.70</td>\n",
       "      <td>1.00</td>\n",
       "      <td>1</td>\n",
       "    </tr>\n",
       "    <tr>\n",
       "      <th>17</th>\n",
       "      <td>NaN</td>\n",
       "      <td>NaN</td>\n",
       "      <td>971</td>\n",
       "      <td>16</td>\n",
       "      <td>3396</td>\n",
       "      <td>Braintree</td>\n",
       "      <td>No</td>\n",
       "      <td>NaN</td>\n",
       "      <td>NaN</td>\n",
       "      <td>0010O00001qfkuvQAA</td>\n",
       "      <td>16</td>\n",
       "      <td>48</td>\n",
       "      <td>13061.46</td>\n",
       "      <td>17614.68</td>\n",
       "      <td>1.3486</td>\n",
       "      <td>16</td>\n",
       "      <td>13061.46</td>\n",
       "      <td>12930.95</td>\n",
       "      <td>130.51</td>\n",
       "      <td>130.51</td>\n",
       "      <td>1.00</td>\n",
       "      <td>1</td>\n",
       "    </tr>\n",
       "    <tr>\n",
       "      <th>18</th>\n",
       "      <td>NaN</td>\n",
       "      <td>NaN</td>\n",
       "      <td>971</td>\n",
       "      <td>16</td>\n",
       "      <td>3396</td>\n",
       "      <td>Braintree</td>\n",
       "      <td>No</td>\n",
       "      <td>NaN</td>\n",
       "      <td>NaN</td>\n",
       "      <td>0010O00001qfkuvQAA</td>\n",
       "      <td>16</td>\n",
       "      <td>48</td>\n",
       "      <td>33128.85</td>\n",
       "      <td>44773.64</td>\n",
       "      <td>1.3515</td>\n",
       "      <td>16</td>\n",
       "      <td>33128.85</td>\n",
       "      <td>32793.07</td>\n",
       "      <td>335.78</td>\n",
       "      <td>335.78</td>\n",
       "      <td>1.01</td>\n",
       "      <td>1</td>\n",
       "    </tr>\n",
       "    <tr>\n",
       "      <th>19</th>\n",
       "      <td>NaN</td>\n",
       "      <td>NaN</td>\n",
       "      <td>971</td>\n",
       "      <td>16</td>\n",
       "      <td>3396</td>\n",
       "      <td>Braintree</td>\n",
       "      <td>No</td>\n",
       "      <td>NaN</td>\n",
       "      <td>NaN</td>\n",
       "      <td>0010O00001qfkuvQAA</td>\n",
       "      <td>16</td>\n",
       "      <td>14</td>\n",
       "      <td>3770.31</td>\n",
       "      <td>4340.38</td>\n",
       "      <td>1.1512</td>\n",
       "      <td>16</td>\n",
       "      <td>3770.31</td>\n",
       "      <td>3733.76</td>\n",
       "      <td>36.55</td>\n",
       "      <td>36.55</td>\n",
       "      <td>0.97</td>\n",
       "      <td>1</td>\n",
       "    </tr>\n",
       "    <tr>\n",
       "      <th>20</th>\n",
       "      <td>NaN</td>\n",
       "      <td>NaN</td>\n",
       "      <td>971</td>\n",
       "      <td>16</td>\n",
       "      <td>3396</td>\n",
       "      <td>Braintree</td>\n",
       "      <td>No</td>\n",
       "      <td>NaN</td>\n",
       "      <td>NaN</td>\n",
       "      <td>0010O00001qfkuvQAA</td>\n",
       "      <td>16</td>\n",
       "      <td>14</td>\n",
       "      <td>2877.51</td>\n",
       "      <td>3312.59</td>\n",
       "      <td>1.1512</td>\n",
       "      <td>16</td>\n",
       "      <td>2877.51</td>\n",
       "      <td>2848.66</td>\n",
       "      <td>28.85</td>\n",
       "      <td>28.85</td>\n",
       "      <td>1.00</td>\n",
       "      <td>1</td>\n",
       "    </tr>\n",
       "    <tr>\n",
       "      <th>21</th>\n",
       "      <td>NaN</td>\n",
       "      <td>NaN</td>\n",
       "      <td>971</td>\n",
       "      <td>16</td>\n",
       "      <td>3396</td>\n",
       "      <td>Braintree</td>\n",
       "      <td>No</td>\n",
       "      <td>NaN</td>\n",
       "      <td>NaN</td>\n",
       "      <td>0010O00001qfkuvQAA</td>\n",
       "      <td>16</td>\n",
       "      <td>14</td>\n",
       "      <td>4723.84</td>\n",
       "      <td>5438.08</td>\n",
       "      <td>1.1512</td>\n",
       "      <td>16</td>\n",
       "      <td>4723.84</td>\n",
       "      <td>4677.60</td>\n",
       "      <td>46.24</td>\n",
       "      <td>46.24</td>\n",
       "      <td>0.98</td>\n",
       "      <td>1</td>\n",
       "    </tr>\n",
       "    <tr>\n",
       "      <th>22</th>\n",
       "      <td>NaN</td>\n",
       "      <td>NaN</td>\n",
       "      <td>971</td>\n",
       "      <td>16</td>\n",
       "      <td>3396</td>\n",
       "      <td>Braintree</td>\n",
       "      <td>No</td>\n",
       "      <td>NaN</td>\n",
       "      <td>NaN</td>\n",
       "      <td>0010O00001qfkuvQAA</td>\n",
       "      <td>16</td>\n",
       "      <td>14</td>\n",
       "      <td>3464.11</td>\n",
       "      <td>3987.88</td>\n",
       "      <td>1.1512</td>\n",
       "      <td>16</td>\n",
       "      <td>3464.11</td>\n",
       "      <td>3430.41</td>\n",
       "      <td>33.70</td>\n",
       "      <td>33.70</td>\n",
       "      <td>0.97</td>\n",
       "      <td>1</td>\n",
       "    </tr>\n",
       "    <tr>\n",
       "      <th>23</th>\n",
       "      <td>NaN</td>\n",
       "      <td>NaN</td>\n",
       "      <td>971</td>\n",
       "      <td>16</td>\n",
       "      <td>3396</td>\n",
       "      <td>Braintree</td>\n",
       "      <td>No</td>\n",
       "      <td>NaN</td>\n",
       "      <td>NaN</td>\n",
       "      <td>0010O00001qfkuvQAA</td>\n",
       "      <td>16</td>\n",
       "      <td>48</td>\n",
       "      <td>42172.87</td>\n",
       "      <td>56996.64</td>\n",
       "      <td>1.3515</td>\n",
       "      <td>16</td>\n",
       "      <td>42172.87</td>\n",
       "      <td>41752.16</td>\n",
       "      <td>420.71</td>\n",
       "      <td>420.71</td>\n",
       "      <td>1.00</td>\n",
       "      <td>1</td>\n",
       "    </tr>\n",
       "    <tr>\n",
       "      <th>24</th>\n",
       "      <td>NaN</td>\n",
       "      <td>NaN</td>\n",
       "      <td>971</td>\n",
       "      <td>16</td>\n",
       "      <td>3396</td>\n",
       "      <td>Braintree</td>\n",
       "      <td>No</td>\n",
       "      <td>NaN</td>\n",
       "      <td>NaN</td>\n",
       "      <td>0010O00001qfkuvQAA</td>\n",
       "      <td>16</td>\n",
       "      <td>8</td>\n",
       "      <td>161161.00</td>\n",
       "      <td>201000.00</td>\n",
       "      <td>1.2472</td>\n",
       "      <td>16</td>\n",
       "      <td>161161.00</td>\n",
       "      <td>159569.83</td>\n",
       "      <td>1591.17</td>\n",
       "      <td>1591.17</td>\n",
       "      <td>0.99</td>\n",
       "      <td>1</td>\n",
       "    </tr>\n",
       "    <tr>\n",
       "      <th>25</th>\n",
       "      <td>NaN</td>\n",
       "      <td>NaN</td>\n",
       "      <td>971</td>\n",
       "      <td>16</td>\n",
       "      <td>3396</td>\n",
       "      <td>Braintree</td>\n",
       "      <td>No</td>\n",
       "      <td>NaN</td>\n",
       "      <td>NaN</td>\n",
       "      <td>0010O00001qfkuvQAA</td>\n",
       "      <td>16</td>\n",
       "      <td>16</td>\n",
       "      <td>29.33</td>\n",
       "      <td>29.33</td>\n",
       "      <td>1.0000</td>\n",
       "      <td>16</td>\n",
       "      <td>29.33</td>\n",
       "      <td>29.33</td>\n",
       "      <td>0.00</td>\n",
       "      <td>0.00</td>\n",
       "      <td>0.00</td>\n",
       "      <td>1</td>\n",
       "    </tr>\n",
       "    <tr>\n",
       "      <th>26</th>\n",
       "      <td>NaN</td>\n",
       "      <td>NaN</td>\n",
       "      <td>971</td>\n",
       "      <td>16</td>\n",
       "      <td>3396</td>\n",
       "      <td>Braintree</td>\n",
       "      <td>No</td>\n",
       "      <td>NaN</td>\n",
       "      <td>NaN</td>\n",
       "      <td>0010O00001qfkuvQAA</td>\n",
       "      <td>16</td>\n",
       "      <td>14</td>\n",
       "      <td>2824.03</td>\n",
       "      <td>3312.59</td>\n",
       "      <td>1.1730</td>\n",
       "      <td>16</td>\n",
       "      <td>2824.03</td>\n",
       "      <td>2794.65</td>\n",
       "      <td>29.38</td>\n",
       "      <td>29.38</td>\n",
       "      <td>1.04</td>\n",
       "      <td>1</td>\n",
       "    </tr>\n",
       "    <tr>\n",
       "      <th>27</th>\n",
       "      <td>NaN</td>\n",
       "      <td>NaN</td>\n",
       "      <td>971</td>\n",
       "      <td>16</td>\n",
       "      <td>3396</td>\n",
       "      <td>Braintree</td>\n",
       "      <td>No</td>\n",
       "      <td>NaN</td>\n",
       "      <td>NaN</td>\n",
       "      <td>0010O00001qfkuvQAA</td>\n",
       "      <td>16</td>\n",
       "      <td>14</td>\n",
       "      <td>826.14</td>\n",
       "      <td>969.06</td>\n",
       "      <td>1.1730</td>\n",
       "      <td>16</td>\n",
       "      <td>826.14</td>\n",
       "      <td>817.40</td>\n",
       "      <td>8.74</td>\n",
       "      <td>8.74</td>\n",
       "      <td>1.06</td>\n",
       "      <td>1</td>\n",
       "    </tr>\n",
       "    <tr>\n",
       "      <th>28</th>\n",
       "      <td>NaN</td>\n",
       "      <td>NaN</td>\n",
       "      <td>971</td>\n",
       "      <td>16</td>\n",
       "      <td>3396</td>\n",
       "      <td>Braintree</td>\n",
       "      <td>No</td>\n",
       "      <td>NaN</td>\n",
       "      <td>NaN</td>\n",
       "      <td>0010O00001qfkuvQAA</td>\n",
       "      <td>16</td>\n",
       "      <td>14</td>\n",
       "      <td>3646.98</td>\n",
       "      <td>4280.46</td>\n",
       "      <td>1.1737</td>\n",
       "      <td>16</td>\n",
       "      <td>3646.98</td>\n",
       "      <td>3610.55</td>\n",
       "      <td>36.43</td>\n",
       "      <td>36.43</td>\n",
       "      <td>1.00</td>\n",
       "      <td>1</td>\n",
       "    </tr>\n",
       "    <tr>\n",
       "      <th>29</th>\n",
       "      <td>NaN</td>\n",
       "      <td>NaN</td>\n",
       "      <td>971</td>\n",
       "      <td>16</td>\n",
       "      <td>3396</td>\n",
       "      <td>Braintree</td>\n",
       "      <td>No</td>\n",
       "      <td>NaN</td>\n",
       "      <td>NaN</td>\n",
       "      <td>0010O00001qfkuvQAA</td>\n",
       "      <td>16</td>\n",
       "      <td>14</td>\n",
       "      <td>3700.24</td>\n",
       "      <td>4340.38</td>\n",
       "      <td>1.1730</td>\n",
       "      <td>16</td>\n",
       "      <td>3700.24</td>\n",
       "      <td>3661.75</td>\n",
       "      <td>38.49</td>\n",
       "      <td>38.49</td>\n",
       "      <td>1.04</td>\n",
       "      <td>1</td>\n",
       "    </tr>\n",
       "    <tr>\n",
       "      <th>30</th>\n",
       "      <td>NaN</td>\n",
       "      <td>NaN</td>\n",
       "      <td>971</td>\n",
       "      <td>16</td>\n",
       "      <td>3396</td>\n",
       "      <td>Braintree</td>\n",
       "      <td>No</td>\n",
       "      <td>NaN</td>\n",
       "      <td>NaN</td>\n",
       "      <td>0010O00001qfkuvQAA</td>\n",
       "      <td>16</td>\n",
       "      <td>14</td>\n",
       "      <td>238.56</td>\n",
       "      <td>280.00</td>\n",
       "      <td>1.1737</td>\n",
       "      <td>16</td>\n",
       "      <td>238.56</td>\n",
       "      <td>236.21</td>\n",
       "      <td>2.35</td>\n",
       "      <td>2.35</td>\n",
       "      <td>0.99</td>\n",
       "      <td>1</td>\n",
       "    </tr>\n",
       "    <tr>\n",
       "      <th>31</th>\n",
       "      <td>NaN</td>\n",
       "      <td>NaN</td>\n",
       "      <td>971</td>\n",
       "      <td>16</td>\n",
       "      <td>3396</td>\n",
       "      <td>Braintree</td>\n",
       "      <td>No</td>\n",
       "      <td>NaN</td>\n",
       "      <td>NaN</td>\n",
       "      <td>0010O00001qfkuvQAA</td>\n",
       "      <td>16</td>\n",
       "      <td>48</td>\n",
       "      <td>24925.76</td>\n",
       "      <td>34061.05</td>\n",
       "      <td>1.3665</td>\n",
       "      <td>16</td>\n",
       "      <td>24925.76</td>\n",
       "      <td>24674.08</td>\n",
       "      <td>251.68</td>\n",
       "      <td>251.68</td>\n",
       "      <td>1.01</td>\n",
       "      <td>1</td>\n",
       "    </tr>\n",
       "    <tr>\n",
       "      <th>32</th>\n",
       "      <td>NaN</td>\n",
       "      <td>NaN</td>\n",
       "      <td>971</td>\n",
       "      <td>16</td>\n",
       "      <td>3396</td>\n",
       "      <td>Braintree</td>\n",
       "      <td>No</td>\n",
       "      <td>NaN</td>\n",
       "      <td>NaN</td>\n",
       "      <td>0010O00001qfkuvQAA</td>\n",
       "      <td>16</td>\n",
       "      <td>48</td>\n",
       "      <td>2086.08</td>\n",
       "      <td>2850.63</td>\n",
       "      <td>1.3665</td>\n",
       "      <td>16</td>\n",
       "      <td>2086.08</td>\n",
       "      <td>2064.97</td>\n",
       "      <td>21.11</td>\n",
       "      <td>21.11</td>\n",
       "      <td>1.01</td>\n",
       "      <td>1</td>\n",
       "    </tr>\n",
       "    <tr>\n",
       "      <th>33</th>\n",
       "      <td>NaN</td>\n",
       "      <td>NaN</td>\n",
       "      <td>971</td>\n",
       "      <td>16</td>\n",
       "      <td>3396</td>\n",
       "      <td>Braintree</td>\n",
       "      <td>No</td>\n",
       "      <td>NaN</td>\n",
       "      <td>NaN</td>\n",
       "      <td>0010O00001qfkuvQAA</td>\n",
       "      <td>16</td>\n",
       "      <td>48</td>\n",
       "      <td>92.21</td>\n",
       "      <td>126.00</td>\n",
       "      <td>1.3665</td>\n",
       "      <td>16</td>\n",
       "      <td>92.21</td>\n",
       "      <td>91.27</td>\n",
       "      <td>0.94</td>\n",
       "      <td>0.94</td>\n",
       "      <td>1.02</td>\n",
       "      <td>1</td>\n",
       "    </tr>\n",
       "    <tr>\n",
       "      <th>34</th>\n",
       "      <td>NaN</td>\n",
       "      <td>NaN</td>\n",
       "      <td>971</td>\n",
       "      <td>16</td>\n",
       "      <td>3396</td>\n",
       "      <td>Braintree</td>\n",
       "      <td>No</td>\n",
       "      <td>NaN</td>\n",
       "      <td>NaN</td>\n",
       "      <td>0010O00001qfkuvQAA</td>\n",
       "      <td>16</td>\n",
       "      <td>14</td>\n",
       "      <td>15335.85</td>\n",
       "      <td>17900.00</td>\n",
       "      <td>1.1672</td>\n",
       "      <td>16</td>\n",
       "      <td>15335.85</td>\n",
       "      <td>15182.15</td>\n",
       "      <td>153.70</td>\n",
       "      <td>153.70</td>\n",
       "      <td>1.00</td>\n",
       "      <td>1</td>\n",
       "    </tr>\n",
       "    <tr>\n",
       "      <th>35</th>\n",
       "      <td>NaN</td>\n",
       "      <td>NaN</td>\n",
       "      <td>971</td>\n",
       "      <td>16</td>\n",
       "      <td>3396</td>\n",
       "      <td>Braintree</td>\n",
       "      <td>No</td>\n",
       "      <td>NaN</td>\n",
       "      <td>NaN</td>\n",
       "      <td>0010O00001qfkuvQAA</td>\n",
       "      <td>16</td>\n",
       "      <td>48</td>\n",
       "      <td>13061.46</td>\n",
       "      <td>17614.68</td>\n",
       "      <td>1.3486</td>\n",
       "      <td>16</td>\n",
       "      <td>13061.46</td>\n",
       "      <td>12930.95</td>\n",
       "      <td>130.51</td>\n",
       "      <td>130.51</td>\n",
       "      <td>1.00</td>\n",
       "      <td>1</td>\n",
       "    </tr>\n",
       "    <tr>\n",
       "      <th>36</th>\n",
       "      <td>NaN</td>\n",
       "      <td>NaN</td>\n",
       "      <td>971</td>\n",
       "      <td>16</td>\n",
       "      <td>3396</td>\n",
       "      <td>Chelmsford</td>\n",
       "      <td>No</td>\n",
       "      <td>NaN</td>\n",
       "      <td>NaN</td>\n",
       "      <td>0010O00001qfkuvQAA</td>\n",
       "      <td>16</td>\n",
       "      <td>48</td>\n",
       "      <td>33128.85</td>\n",
       "      <td>44773.64</td>\n",
       "      <td>1.3515</td>\n",
       "      <td>16</td>\n",
       "      <td>33128.85</td>\n",
       "      <td>32793.07</td>\n",
       "      <td>335.78</td>\n",
       "      <td>335.78</td>\n",
       "      <td>1.01</td>\n",
       "      <td>1</td>\n",
       "    </tr>\n",
       "    <tr>\n",
       "      <th>37</th>\n",
       "      <td>NaN</td>\n",
       "      <td>NaN</td>\n",
       "      <td>971</td>\n",
       "      <td>16</td>\n",
       "      <td>3396</td>\n",
       "      <td>Chelmsford</td>\n",
       "      <td>No</td>\n",
       "      <td>NaN</td>\n",
       "      <td>NaN</td>\n",
       "      <td>0010O00001qfkuvQAA</td>\n",
       "      <td>16</td>\n",
       "      <td>14</td>\n",
       "      <td>3770.31</td>\n",
       "      <td>4340.38</td>\n",
       "      <td>1.1512</td>\n",
       "      <td>16</td>\n",
       "      <td>3770.31</td>\n",
       "      <td>3733.76</td>\n",
       "      <td>36.55</td>\n",
       "      <td>36.55</td>\n",
       "      <td>0.97</td>\n",
       "      <td>1</td>\n",
       "    </tr>\n",
       "    <tr>\n",
       "      <th>38</th>\n",
       "      <td>NaN</td>\n",
       "      <td>NaN</td>\n",
       "      <td>971</td>\n",
       "      <td>16</td>\n",
       "      <td>3396</td>\n",
       "      <td>Chelmsford</td>\n",
       "      <td>No</td>\n",
       "      <td>NaN</td>\n",
       "      <td>NaN</td>\n",
       "      <td>0010O00001qfkuvQAA</td>\n",
       "      <td>16</td>\n",
       "      <td>14</td>\n",
       "      <td>2877.51</td>\n",
       "      <td>3312.59</td>\n",
       "      <td>1.1512</td>\n",
       "      <td>16</td>\n",
       "      <td>2877.51</td>\n",
       "      <td>2848.66</td>\n",
       "      <td>28.85</td>\n",
       "      <td>28.85</td>\n",
       "      <td>1.00</td>\n",
       "      <td>1</td>\n",
       "    </tr>\n",
       "    <tr>\n",
       "      <th>39</th>\n",
       "      <td>NaN</td>\n",
       "      <td>NaN</td>\n",
       "      <td>971</td>\n",
       "      <td>16</td>\n",
       "      <td>3396</td>\n",
       "      <td>Chelmsford</td>\n",
       "      <td>No</td>\n",
       "      <td>NaN</td>\n",
       "      <td>NaN</td>\n",
       "      <td>0010O00001qfkuvQAA</td>\n",
       "      <td>16</td>\n",
       "      <td>14</td>\n",
       "      <td>4723.84</td>\n",
       "      <td>5438.08</td>\n",
       "      <td>1.1512</td>\n",
       "      <td>16</td>\n",
       "      <td>4723.84</td>\n",
       "      <td>4677.60</td>\n",
       "      <td>46.24</td>\n",
       "      <td>46.24</td>\n",
       "      <td>0.98</td>\n",
       "      <td>1</td>\n",
       "    </tr>\n",
       "    <tr>\n",
       "      <th>40</th>\n",
       "      <td>NaN</td>\n",
       "      <td>NaN</td>\n",
       "      <td>971</td>\n",
       "      <td>16</td>\n",
       "      <td>3396</td>\n",
       "      <td>Chelmsford</td>\n",
       "      <td>No</td>\n",
       "      <td>NaN</td>\n",
       "      <td>NaN</td>\n",
       "      <td>0010O00001qfkuvQAA</td>\n",
       "      <td>16</td>\n",
       "      <td>14</td>\n",
       "      <td>3464.11</td>\n",
       "      <td>3987.88</td>\n",
       "      <td>1.1512</td>\n",
       "      <td>16</td>\n",
       "      <td>3464.11</td>\n",
       "      <td>3430.41</td>\n",
       "      <td>33.70</td>\n",
       "      <td>33.70</td>\n",
       "      <td>0.97</td>\n",
       "      <td>1</td>\n",
       "    </tr>\n",
       "    <tr>\n",
       "      <th>41</th>\n",
       "      <td>NaN</td>\n",
       "      <td>NaN</td>\n",
       "      <td>971</td>\n",
       "      <td>16</td>\n",
       "      <td>3396</td>\n",
       "      <td>Chelmsford</td>\n",
       "      <td>No</td>\n",
       "      <td>NaN</td>\n",
       "      <td>NaN</td>\n",
       "      <td>0010O00001qfkuvQAA</td>\n",
       "      <td>16</td>\n",
       "      <td>48</td>\n",
       "      <td>42172.87</td>\n",
       "      <td>56996.64</td>\n",
       "      <td>1.3515</td>\n",
       "      <td>16</td>\n",
       "      <td>42172.87</td>\n",
       "      <td>41752.16</td>\n",
       "      <td>420.71</td>\n",
       "      <td>420.71</td>\n",
       "      <td>1.00</td>\n",
       "      <td>1</td>\n",
       "    </tr>\n",
       "    <tr>\n",
       "      <th>42</th>\n",
       "      <td>NaN</td>\n",
       "      <td>NaN</td>\n",
       "      <td>971</td>\n",
       "      <td>16</td>\n",
       "      <td>3396</td>\n",
       "      <td>Chelmsford</td>\n",
       "      <td>No</td>\n",
       "      <td>NaN</td>\n",
       "      <td>NaN</td>\n",
       "      <td>0010O00001qfkuvQAA</td>\n",
       "      <td>16</td>\n",
       "      <td>8</td>\n",
       "      <td>161161.00</td>\n",
       "      <td>201000.00</td>\n",
       "      <td>1.2472</td>\n",
       "      <td>16</td>\n",
       "      <td>161161.00</td>\n",
       "      <td>159569.83</td>\n",
       "      <td>1591.17</td>\n",
       "      <td>1591.17</td>\n",
       "      <td>0.99</td>\n",
       "      <td>1</td>\n",
       "    </tr>\n",
       "    <tr>\n",
       "      <th>43</th>\n",
       "      <td>NaN</td>\n",
       "      <td>NaN</td>\n",
       "      <td>971</td>\n",
       "      <td>16</td>\n",
       "      <td>3396</td>\n",
       "      <td>Chelmsford</td>\n",
       "      <td>No</td>\n",
       "      <td>NaN</td>\n",
       "      <td>NaN</td>\n",
       "      <td>0010O00001qfkuvQAA</td>\n",
       "      <td>16</td>\n",
       "      <td>16</td>\n",
       "      <td>29.33</td>\n",
       "      <td>29.33</td>\n",
       "      <td>1.0000</td>\n",
       "      <td>16</td>\n",
       "      <td>29.33</td>\n",
       "      <td>29.33</td>\n",
       "      <td>0.00</td>\n",
       "      <td>0.00</td>\n",
       "      <td>0.00</td>\n",
       "      <td>1</td>\n",
       "    </tr>\n",
       "    <tr>\n",
       "      <th>44</th>\n",
       "      <td>NaN</td>\n",
       "      <td>NaN</td>\n",
       "      <td>971</td>\n",
       "      <td>16</td>\n",
       "      <td>3396</td>\n",
       "      <td>Chelmsford</td>\n",
       "      <td>No</td>\n",
       "      <td>NaN</td>\n",
       "      <td>NaN</td>\n",
       "      <td>0010O00001qfkuvQAA</td>\n",
       "      <td>16</td>\n",
       "      <td>14</td>\n",
       "      <td>2824.03</td>\n",
       "      <td>3312.59</td>\n",
       "      <td>1.1730</td>\n",
       "      <td>16</td>\n",
       "      <td>2824.03</td>\n",
       "      <td>2794.65</td>\n",
       "      <td>29.38</td>\n",
       "      <td>29.38</td>\n",
       "      <td>1.04</td>\n",
       "      <td>1</td>\n",
       "    </tr>\n",
       "    <tr>\n",
       "      <th>45</th>\n",
       "      <td>NaN</td>\n",
       "      <td>NaN</td>\n",
       "      <td>971</td>\n",
       "      <td>16</td>\n",
       "      <td>3396</td>\n",
       "      <td>Chelmsford</td>\n",
       "      <td>No</td>\n",
       "      <td>NaN</td>\n",
       "      <td>NaN</td>\n",
       "      <td>0010O00001qfkuvQAA</td>\n",
       "      <td>16</td>\n",
       "      <td>14</td>\n",
       "      <td>826.14</td>\n",
       "      <td>969.06</td>\n",
       "      <td>1.1730</td>\n",
       "      <td>16</td>\n",
       "      <td>826.14</td>\n",
       "      <td>817.40</td>\n",
       "      <td>8.74</td>\n",
       "      <td>8.74</td>\n",
       "      <td>1.06</td>\n",
       "      <td>1</td>\n",
       "    </tr>\n",
       "    <tr>\n",
       "      <th>46</th>\n",
       "      <td>NaN</td>\n",
       "      <td>NaN</td>\n",
       "      <td>971</td>\n",
       "      <td>16</td>\n",
       "      <td>3396</td>\n",
       "      <td>Chelmsford</td>\n",
       "      <td>No</td>\n",
       "      <td>NaN</td>\n",
       "      <td>NaN</td>\n",
       "      <td>0010O00001qfkuvQAA</td>\n",
       "      <td>16</td>\n",
       "      <td>14</td>\n",
       "      <td>3646.98</td>\n",
       "      <td>4280.46</td>\n",
       "      <td>1.1737</td>\n",
       "      <td>16</td>\n",
       "      <td>3646.98</td>\n",
       "      <td>3610.55</td>\n",
       "      <td>36.43</td>\n",
       "      <td>36.43</td>\n",
       "      <td>1.00</td>\n",
       "      <td>1</td>\n",
       "    </tr>\n",
       "    <tr>\n",
       "      <th>47</th>\n",
       "      <td>NaN</td>\n",
       "      <td>NaN</td>\n",
       "      <td>971</td>\n",
       "      <td>16</td>\n",
       "      <td>3396</td>\n",
       "      <td>Chelmsford</td>\n",
       "      <td>No</td>\n",
       "      <td>NaN</td>\n",
       "      <td>NaN</td>\n",
       "      <td>0010O00001qfkuvQAA</td>\n",
       "      <td>16</td>\n",
       "      <td>14</td>\n",
       "      <td>3700.24</td>\n",
       "      <td>4340.38</td>\n",
       "      <td>1.1730</td>\n",
       "      <td>16</td>\n",
       "      <td>3700.24</td>\n",
       "      <td>3661.75</td>\n",
       "      <td>38.49</td>\n",
       "      <td>38.49</td>\n",
       "      <td>1.04</td>\n",
       "      <td>1</td>\n",
       "    </tr>\n",
       "    <tr>\n",
       "      <th>48</th>\n",
       "      <td>NaN</td>\n",
       "      <td>NaN</td>\n",
       "      <td>971</td>\n",
       "      <td>16</td>\n",
       "      <td>3396</td>\n",
       "      <td>Chelmsford</td>\n",
       "      <td>No</td>\n",
       "      <td>NaN</td>\n",
       "      <td>NaN</td>\n",
       "      <td>0010O00001qfkuvQAA</td>\n",
       "      <td>16</td>\n",
       "      <td>14</td>\n",
       "      <td>238.56</td>\n",
       "      <td>280.00</td>\n",
       "      <td>1.1737</td>\n",
       "      <td>16</td>\n",
       "      <td>238.56</td>\n",
       "      <td>236.21</td>\n",
       "      <td>2.35</td>\n",
       "      <td>2.35</td>\n",
       "      <td>0.99</td>\n",
       "      <td>1</td>\n",
       "    </tr>\n",
       "    <tr>\n",
       "      <th>49</th>\n",
       "      <td>NaN</td>\n",
       "      <td>NaN</td>\n",
       "      <td>971</td>\n",
       "      <td>16</td>\n",
       "      <td>3396</td>\n",
       "      <td>Chelmsford</td>\n",
       "      <td>No</td>\n",
       "      <td>NaN</td>\n",
       "      <td>NaN</td>\n",
       "      <td>0010O00001qfkuvQAA</td>\n",
       "      <td>16</td>\n",
       "      <td>48</td>\n",
       "      <td>24925.76</td>\n",
       "      <td>34061.05</td>\n",
       "      <td>1.3665</td>\n",
       "      <td>16</td>\n",
       "      <td>24925.76</td>\n",
       "      <td>24674.08</td>\n",
       "      <td>251.68</td>\n",
       "      <td>251.68</td>\n",
       "      <td>1.01</td>\n",
       "      <td>1</td>\n",
       "    </tr>\n",
       "  </tbody>\n",
       "</table>\n",
       "</div>"
      ],
      "text/plain": [
       "    QuotedRate  PercentageMarkup  TimeSpent_seconds  TimeSpent_minutes  \\\n",
       "0          NaN               NaN                971                 16   \n",
       "1          NaN               NaN                971                 16   \n",
       "2          NaN               NaN                971                 16   \n",
       "3          NaN               NaN                971                 16   \n",
       "4          NaN               NaN                971                 16   \n",
       "5          NaN               NaN                971                 16   \n",
       "6          NaN               NaN                971                 16   \n",
       "7          NaN               NaN                971                 16   \n",
       "8          NaN               NaN                971                 16   \n",
       "9          NaN               NaN                971                 16   \n",
       "10         NaN               NaN                971                 16   \n",
       "11         NaN               NaN                971                 16   \n",
       "12         NaN               NaN                971                 16   \n",
       "13         NaN               NaN                971                 16   \n",
       "14         NaN               NaN                971                 16   \n",
       "15         NaN               NaN                971                 16   \n",
       "16         NaN               NaN                971                 16   \n",
       "17         NaN               NaN                971                 16   \n",
       "18         NaN               NaN                971                 16   \n",
       "19         NaN               NaN                971                 16   \n",
       "20         NaN               NaN                971                 16   \n",
       "21         NaN               NaN                971                 16   \n",
       "22         NaN               NaN                971                 16   \n",
       "23         NaN               NaN                971                 16   \n",
       "24         NaN               NaN                971                 16   \n",
       "25         NaN               NaN                971                 16   \n",
       "26         NaN               NaN                971                 16   \n",
       "27         NaN               NaN                971                 16   \n",
       "28         NaN               NaN                971                 16   \n",
       "29         NaN               NaN                971                 16   \n",
       "30         NaN               NaN                971                 16   \n",
       "31         NaN               NaN                971                 16   \n",
       "32         NaN               NaN                971                 16   \n",
       "33         NaN               NaN                971                 16   \n",
       "34         NaN               NaN                971                 16   \n",
       "35         NaN               NaN                971                 16   \n",
       "36         NaN               NaN                971                 16   \n",
       "37         NaN               NaN                971                 16   \n",
       "38         NaN               NaN                971                 16   \n",
       "39         NaN               NaN                971                 16   \n",
       "40         NaN               NaN                971                 16   \n",
       "41         NaN               NaN                971                 16   \n",
       "42         NaN               NaN                971                 16   \n",
       "43         NaN               NaN                971                 16   \n",
       "44         NaN               NaN                971                 16   \n",
       "45         NaN               NaN                971                 16   \n",
       "46         NaN               NaN                971                 16   \n",
       "47         NaN               NaN                971                 16   \n",
       "48         NaN               NaN                971                 16   \n",
       "49         NaN               NaN                971                 16   \n",
       "\n",
       "    FrequencyOfVisit         aza IS_Converted cust_type org_code  \\\n",
       "0               3396   Braintree           No       NaN      NaN   \n",
       "1               3396   Braintree           No       NaN      NaN   \n",
       "2               3396   Braintree           No       NaN      NaN   \n",
       "3               3396   Braintree           No       NaN      NaN   \n",
       "4               3396   Braintree           No       NaN      NaN   \n",
       "5               3396   Braintree           No       NaN      NaN   \n",
       "6               3396   Braintree           No       NaN      NaN   \n",
       "7               3396   Braintree           No       NaN      NaN   \n",
       "8               3396   Braintree           No       NaN      NaN   \n",
       "9               3396   Braintree           No       NaN      NaN   \n",
       "10              3396   Braintree           No       NaN      NaN   \n",
       "11              3396   Braintree           No       NaN      NaN   \n",
       "12              3396   Braintree           No       NaN      NaN   \n",
       "13              3396   Braintree           No       NaN      NaN   \n",
       "14              3396   Braintree           No       NaN      NaN   \n",
       "15              3396   Braintree           No       NaN      NaN   \n",
       "16              3396   Braintree           No       NaN      NaN   \n",
       "17              3396   Braintree           No       NaN      NaN   \n",
       "18              3396   Braintree           No       NaN      NaN   \n",
       "19              3396   Braintree           No       NaN      NaN   \n",
       "20              3396   Braintree           No       NaN      NaN   \n",
       "21              3396   Braintree           No       NaN      NaN   \n",
       "22              3396   Braintree           No       NaN      NaN   \n",
       "23              3396   Braintree           No       NaN      NaN   \n",
       "24              3396   Braintree           No       NaN      NaN   \n",
       "25              3396   Braintree           No       NaN      NaN   \n",
       "26              3396   Braintree           No       NaN      NaN   \n",
       "27              3396   Braintree           No       NaN      NaN   \n",
       "28              3396   Braintree           No       NaN      NaN   \n",
       "29              3396   Braintree           No       NaN      NaN   \n",
       "30              3396   Braintree           No       NaN      NaN   \n",
       "31              3396   Braintree           No       NaN      NaN   \n",
       "32              3396   Braintree           No       NaN      NaN   \n",
       "33              3396   Braintree           No       NaN      NaN   \n",
       "34              3396   Braintree           No       NaN      NaN   \n",
       "35              3396   Braintree           No       NaN      NaN   \n",
       "36              3396  Chelmsford           No       NaN      NaN   \n",
       "37              3396  Chelmsford           No       NaN      NaN   \n",
       "38              3396  Chelmsford           No       NaN      NaN   \n",
       "39              3396  Chelmsford           No       NaN      NaN   \n",
       "40              3396  Chelmsford           No       NaN      NaN   \n",
       "41              3396  Chelmsford           No       NaN      NaN   \n",
       "42              3396  Chelmsford           No       NaN      NaN   \n",
       "43              3396  Chelmsford           No       NaN      NaN   \n",
       "44              3396  Chelmsford           No       NaN      NaN   \n",
       "45              3396  Chelmsford           No       NaN      NaN   \n",
       "46              3396  Chelmsford           No       NaN      NaN   \n",
       "47              3396  Chelmsford           No       NaN      NaN   \n",
       "48              3396  Chelmsford           No       NaN      NaN   \n",
       "49              3396  Chelmsford           No       NaN      NaN   \n",
       "\n",
       "          CRMAccountID  SellingCurrency  BuyingCurrency  SellingAmount  \\\n",
       "0   0010O00001qfkuvQAA               16              48       33128.85   \n",
       "1   0010O00001qfkuvQAA               16              14        3770.31   \n",
       "2   0010O00001qfkuvQAA               16              14        2877.51   \n",
       "3   0010O00001qfkuvQAA               16              14        4723.84   \n",
       "4   0010O00001qfkuvQAA               16              14        3464.11   \n",
       "5   0010O00001qfkuvQAA               16              48       42172.87   \n",
       "6   0010O00001qfkuvQAA               16               8      161161.00   \n",
       "7   0010O00001qfkuvQAA               16              16          29.33   \n",
       "8   0010O00001qfkuvQAA               16              14        2824.03   \n",
       "9   0010O00001qfkuvQAA               16              14         826.14   \n",
       "10  0010O00001qfkuvQAA               16              14        3646.98   \n",
       "11  0010O00001qfkuvQAA               16              14        3700.24   \n",
       "12  0010O00001qfkuvQAA               16              14         238.56   \n",
       "13  0010O00001qfkuvQAA               16              48       24925.76   \n",
       "14  0010O00001qfkuvQAA               16              48        2086.08   \n",
       "15  0010O00001qfkuvQAA               16              48          92.21   \n",
       "16  0010O00001qfkuvQAA               16              14       15335.85   \n",
       "17  0010O00001qfkuvQAA               16              48       13061.46   \n",
       "18  0010O00001qfkuvQAA               16              48       33128.85   \n",
       "19  0010O00001qfkuvQAA               16              14        3770.31   \n",
       "20  0010O00001qfkuvQAA               16              14        2877.51   \n",
       "21  0010O00001qfkuvQAA               16              14        4723.84   \n",
       "22  0010O00001qfkuvQAA               16              14        3464.11   \n",
       "23  0010O00001qfkuvQAA               16              48       42172.87   \n",
       "24  0010O00001qfkuvQAA               16               8      161161.00   \n",
       "25  0010O00001qfkuvQAA               16              16          29.33   \n",
       "26  0010O00001qfkuvQAA               16              14        2824.03   \n",
       "27  0010O00001qfkuvQAA               16              14         826.14   \n",
       "28  0010O00001qfkuvQAA               16              14        3646.98   \n",
       "29  0010O00001qfkuvQAA               16              14        3700.24   \n",
       "30  0010O00001qfkuvQAA               16              14         238.56   \n",
       "31  0010O00001qfkuvQAA               16              48       24925.76   \n",
       "32  0010O00001qfkuvQAA               16              48        2086.08   \n",
       "33  0010O00001qfkuvQAA               16              48          92.21   \n",
       "34  0010O00001qfkuvQAA               16              14       15335.85   \n",
       "35  0010O00001qfkuvQAA               16              48       13061.46   \n",
       "36  0010O00001qfkuvQAA               16              48       33128.85   \n",
       "37  0010O00001qfkuvQAA               16              14        3770.31   \n",
       "38  0010O00001qfkuvQAA               16              14        2877.51   \n",
       "39  0010O00001qfkuvQAA               16              14        4723.84   \n",
       "40  0010O00001qfkuvQAA               16              14        3464.11   \n",
       "41  0010O00001qfkuvQAA               16              48       42172.87   \n",
       "42  0010O00001qfkuvQAA               16               8      161161.00   \n",
       "43  0010O00001qfkuvQAA               16              16          29.33   \n",
       "44  0010O00001qfkuvQAA               16              14        2824.03   \n",
       "45  0010O00001qfkuvQAA               16              14         826.14   \n",
       "46  0010O00001qfkuvQAA               16              14        3646.98   \n",
       "47  0010O00001qfkuvQAA               16              14        3700.24   \n",
       "48  0010O00001qfkuvQAA               16              14         238.56   \n",
       "49  0010O00001qfkuvQAA               16              48       24925.76   \n",
       "\n",
       "    BuyingAmount  ClientRate  BaseCurrency  BaseSellingAmount  \\\n",
       "0       44773.64      1.3515            16           33128.85   \n",
       "1        4340.38      1.1512            16            3770.31   \n",
       "2        3312.59      1.1512            16            2877.51   \n",
       "3        5438.08      1.1512            16            4723.84   \n",
       "4        3987.88      1.1512            16            3464.11   \n",
       "5       56996.64      1.3515            16           42172.87   \n",
       "6      201000.00      1.2472            16          161161.00   \n",
       "7          29.33      1.0000            16              29.33   \n",
       "8        3312.59      1.1730            16            2824.03   \n",
       "9         969.06      1.1730            16             826.14   \n",
       "10       4280.46      1.1737            16            3646.98   \n",
       "11       4340.38      1.1730            16            3700.24   \n",
       "12        280.00      1.1737            16             238.56   \n",
       "13      34061.05      1.3665            16           24925.76   \n",
       "14       2850.63      1.3665            16            2086.08   \n",
       "15        126.00      1.3665            16              92.21   \n",
       "16      17900.00      1.1672            16           15335.85   \n",
       "17      17614.68      1.3486            16           13061.46   \n",
       "18      44773.64      1.3515            16           33128.85   \n",
       "19       4340.38      1.1512            16            3770.31   \n",
       "20       3312.59      1.1512            16            2877.51   \n",
       "21       5438.08      1.1512            16            4723.84   \n",
       "22       3987.88      1.1512            16            3464.11   \n",
       "23      56996.64      1.3515            16           42172.87   \n",
       "24     201000.00      1.2472            16          161161.00   \n",
       "25         29.33      1.0000            16              29.33   \n",
       "26       3312.59      1.1730            16            2824.03   \n",
       "27        969.06      1.1730            16             826.14   \n",
       "28       4280.46      1.1737            16            3646.98   \n",
       "29       4340.38      1.1730            16            3700.24   \n",
       "30        280.00      1.1737            16             238.56   \n",
       "31      34061.05      1.3665            16           24925.76   \n",
       "32       2850.63      1.3665            16            2086.08   \n",
       "33        126.00      1.3665            16              92.21   \n",
       "34      17900.00      1.1672            16           15335.85   \n",
       "35      17614.68      1.3486            16           13061.46   \n",
       "36      44773.64      1.3515            16           33128.85   \n",
       "37       4340.38      1.1512            16            3770.31   \n",
       "38       3312.59      1.1512            16            2877.51   \n",
       "39       5438.08      1.1512            16            4723.84   \n",
       "40       3987.88      1.1512            16            3464.11   \n",
       "41      56996.64      1.3515            16           42172.87   \n",
       "42     201000.00      1.2472            16          161161.00   \n",
       "43         29.33      1.0000            16              29.33   \n",
       "44       3312.59      1.1730            16            2824.03   \n",
       "45        969.06      1.1730            16             826.14   \n",
       "46       4280.46      1.1737            16            3646.98   \n",
       "47       4340.38      1.1730            16            3700.24   \n",
       "48        280.00      1.1737            16             238.56   \n",
       "49      34061.05      1.3665            16           24925.76   \n",
       "\n",
       "    BaseBuyingAmount  NetProfit  FinalProfit  Margin  Cluster  \n",
       "0           32793.07     335.78       335.78    1.01        1  \n",
       "1            3733.76      36.55        36.55    0.97        1  \n",
       "2            2848.66      28.85        28.85    1.00        1  \n",
       "3            4677.60      46.24        46.24    0.98        1  \n",
       "4            3430.41      33.70        33.70    0.97        1  \n",
       "5           41752.16     420.71       420.71    1.00        1  \n",
       "6          159569.83    1591.17      1591.17    0.99        1  \n",
       "7              29.33       0.00         0.00    0.00        1  \n",
       "8            2794.65      29.38        29.38    1.04        1  \n",
       "9             817.40       8.74         8.74    1.06        1  \n",
       "10           3610.55      36.43        36.43    1.00        1  \n",
       "11           3661.75      38.49        38.49    1.04        1  \n",
       "12            236.21       2.35         2.35    0.99        1  \n",
       "13          24674.08     251.68       251.68    1.01        1  \n",
       "14           2064.97      21.11        21.11    1.01        1  \n",
       "15             91.27       0.94         0.94    1.02        1  \n",
       "16          15182.15     153.70       153.70    1.00        1  \n",
       "17          12930.95     130.51       130.51    1.00        1  \n",
       "18          32793.07     335.78       335.78    1.01        1  \n",
       "19           3733.76      36.55        36.55    0.97        1  \n",
       "20           2848.66      28.85        28.85    1.00        1  \n",
       "21           4677.60      46.24        46.24    0.98        1  \n",
       "22           3430.41      33.70        33.70    0.97        1  \n",
       "23          41752.16     420.71       420.71    1.00        1  \n",
       "24         159569.83    1591.17      1591.17    0.99        1  \n",
       "25             29.33       0.00         0.00    0.00        1  \n",
       "26           2794.65      29.38        29.38    1.04        1  \n",
       "27            817.40       8.74         8.74    1.06        1  \n",
       "28           3610.55      36.43        36.43    1.00        1  \n",
       "29           3661.75      38.49        38.49    1.04        1  \n",
       "30            236.21       2.35         2.35    0.99        1  \n",
       "31          24674.08     251.68       251.68    1.01        1  \n",
       "32           2064.97      21.11        21.11    1.01        1  \n",
       "33             91.27       0.94         0.94    1.02        1  \n",
       "34          15182.15     153.70       153.70    1.00        1  \n",
       "35          12930.95     130.51       130.51    1.00        1  \n",
       "36          32793.07     335.78       335.78    1.01        1  \n",
       "37           3733.76      36.55        36.55    0.97        1  \n",
       "38           2848.66      28.85        28.85    1.00        1  \n",
       "39           4677.60      46.24        46.24    0.98        1  \n",
       "40           3430.41      33.70        33.70    0.97        1  \n",
       "41          41752.16     420.71       420.71    1.00        1  \n",
       "42         159569.83    1591.17      1591.17    0.99        1  \n",
       "43             29.33       0.00         0.00    0.00        1  \n",
       "44           2794.65      29.38        29.38    1.04        1  \n",
       "45            817.40       8.74         8.74    1.06        1  \n",
       "46           3610.55      36.43        36.43    1.00        1  \n",
       "47           3661.75      38.49        38.49    1.04        1  \n",
       "48            236.21       2.35         2.35    0.99        1  \n",
       "49          24674.08     251.68       251.68    1.01        1  "
      ]
     },
     "execution_count": 32,
     "metadata": {},
     "output_type": "execute_result"
    }
   ],
   "source": [
    "# Find the Clusters for obervations given in Dataset\n",
    "NGOPC_SF_ALL_PE_CONTACT_TITAN_M_REQF_master['Cluster'] = y_kmeans\n",
    "NGOPC_SF_ALL_PE_CONTACT_TITAN_M_REQF_master.head(50)"
   ]
  },
  {
   "cell_type": "markdown",
   "metadata": {},
   "source": [
    "### Analysis of Clusters"
   ]
  },
  {
   "cell_type": "code",
   "execution_count": 33,
   "metadata": {},
   "outputs": [],
   "source": [
    "## Filtering Data basis the  Customer Segments\n",
    "# 1st Cluster\n",
    "mask = NGOPC_SF_ALL_PE_CONTACT_TITAN_M_REQF_master[\"Cluster\"] == 0\n",
    "Customer_segments_1 = NGOPC_SF_ALL_PE_CONTACT_TITAN_M_REQF_master[mask]\n",
    "\n",
    "# 2nd Cluster\n",
    "mask = NGOPC_SF_ALL_PE_CONTACT_TITAN_M_REQF_master[\"Cluster\"] == 1\n",
    "Customer_segments_2 = NGOPC_SF_ALL_PE_CONTACT_TITAN_M_REQF_master[mask]\n"
   ]
  },
  {
   "cell_type": "markdown",
   "metadata": {},
   "source": [
    "# Customer Segment Features"
   ]
  },
  {
   "cell_type": "code",
   "execution_count": 74,
   "metadata": {},
   "outputs": [
    {
     "name": "stdout",
     "output_type": "stream",
     "text": [
      "aza\n",
      "London    73228050\n",
      "dtype: int64\n",
      "aza\n",
      "Kladno                7591676\n",
      "London                6498648\n",
      "Semily                2166216\n",
      "Braintree             1161432\n",
      "Jablonec nad Nisou    1083108\n",
      "Witham                 387144\n",
      "Lenzerwische           387144\n",
      "Chelmsford             387144\n",
      "Singapore               59520\n",
      "Dorking                  1080\n",
      "Westcott                  270\n",
      "Ripley                    270\n",
      "dtype: int64\n"
     ]
    }
   ],
   "source": [
    "# City\n",
    "\n",
    "print(Customer_segments_1.groupby([\"aza\"]).size().sort_values(ascending=False))\n",
    "print(Customer_segments_2.groupby([\"aza\"]).size().sort_values(ascending=False))"
   ]
  },
  {
   "cell_type": "code",
   "execution_count": 78,
   "metadata": {},
   "outputs": [
    {
     "data": {
      "text/plain": [
       "<AxesSubplot:title={'center':'City_2'}>"
      ]
     },
     "execution_count": 78,
     "metadata": {},
     "output_type": "execute_result"
    },
    {
     "data": {
      "image/png": "[encoded data removed]",
      "text/plain": [
       "<Figure size 432x288 with 2 Axes>"
      ]
     },
     "metadata": {},
     "output_type": "display_data"
    }
   ],
   "source": [
    "plt.subplot(431)\n",
    "plt.title('City_1')\n",
    "Output = None\n",
    "Customer_segments_1[\"aza\"].value_counts().plot(kind = \"bar\", x ='aza')\n",
    "#CS1AZA.nlargest(5).plot(kind = \"bar\"\n",
    "                        \n",
    "plt.subplot(432)\n",
    "plt.title('City_2')\n",
    "Output = None\n",
    "Customer_segments_2[\"aza\"].value_counts().plot(kind = \"bar\", x ='aza')"
   ]
  },
  {
   "cell_type": "code",
   "execution_count": 69,
   "metadata": {},
   "outputs": [
    {
     "data": {
      "text/html": [
       "<div>\n",
       "<style scoped>\n",
       "    .dataframe tbody tr th:only-of-type {\n",
       "        vertical-align: middle;\n",
       "    }\n",
       "\n",
       "    .dataframe tbody tr th {\n",
       "        vertical-align: top;\n",
       "    }\n",
       "\n",
       "    .dataframe thead th {\n",
       "        text-align: right;\n",
       "    }\n",
       "</style>\n",
       "<table border=\"1\" class=\"dataframe\">\n",
       "  <thead>\n",
       "    <tr style=\"text-align: right;\">\n",
       "      <th></th>\n",
       "      <th>QuotedRate</th>\n",
       "      <th>PercentageMarkup</th>\n",
       "      <th>TimeSpent_seconds</th>\n",
       "      <th>TimeSpent_minutes</th>\n",
       "      <th>FrequencyOfVisit</th>\n",
       "      <th>aza</th>\n",
       "      <th>IS_Converted</th>\n",
       "      <th>cust_type</th>\n",
       "      <th>org_code</th>\n",
       "      <th>CRMAccountID</th>\n",
       "      <th>SellingCurrency</th>\n",
       "      <th>BuyingCurrency</th>\n",
       "      <th>SellingAmount</th>\n",
       "      <th>BuyingAmount</th>\n",
       "      <th>ClientRate</th>\n",
       "      <th>BaseCurrency</th>\n",
       "      <th>BaseSellingAmount</th>\n",
       "      <th>BaseBuyingAmount</th>\n",
       "      <th>NetProfit</th>\n",
       "      <th>FinalProfit</th>\n",
       "      <th>Margin</th>\n",
       "      <th>Cluster</th>\n",
       "    </tr>\n",
       "  </thead>\n",
       "  <tbody>\n",
       "    <tr>\n",
       "      <th>0</th>\n",
       "      <td>NaN</td>\n",
       "      <td>NaN</td>\n",
       "      <td>971</td>\n",
       "      <td>16</td>\n",
       "      <td>3396</td>\n",
       "      <td>Braintree</td>\n",
       "      <td>No</td>\n",
       "      <td>NaN</td>\n",
       "      <td>NaN</td>\n",
       "      <td>0010O00001qfkuvQAA</td>\n",
       "      <td>16</td>\n",
       "      <td>48</td>\n",
       "      <td>33128.85</td>\n",
       "      <td>44773.64</td>\n",
       "      <td>1.3515</td>\n",
       "      <td>16</td>\n",
       "      <td>33128.85</td>\n",
       "      <td>32793.07</td>\n",
       "      <td>335.78</td>\n",
       "      <td>335.78</td>\n",
       "      <td>1.01</td>\n",
       "      <td>1</td>\n",
       "    </tr>\n",
       "    <tr>\n",
       "      <th>1</th>\n",
       "      <td>NaN</td>\n",
       "      <td>NaN</td>\n",
       "      <td>971</td>\n",
       "      <td>16</td>\n",
       "      <td>3396</td>\n",
       "      <td>Braintree</td>\n",
       "      <td>No</td>\n",
       "      <td>NaN</td>\n",
       "      <td>NaN</td>\n",
       "      <td>0010O00001qfkuvQAA</td>\n",
       "      <td>16</td>\n",
       "      <td>14</td>\n",
       "      <td>3770.31</td>\n",
       "      <td>4340.38</td>\n",
       "      <td>1.1512</td>\n",
       "      <td>16</td>\n",
       "      <td>3770.31</td>\n",
       "      <td>3733.76</td>\n",
       "      <td>36.55</td>\n",
       "      <td>36.55</td>\n",
       "      <td>0.97</td>\n",
       "      <td>1</td>\n",
       "    </tr>\n",
       "    <tr>\n",
       "      <th>2</th>\n",
       "      <td>NaN</td>\n",
       "      <td>NaN</td>\n",
       "      <td>971</td>\n",
       "      <td>16</td>\n",
       "      <td>3396</td>\n",
       "      <td>Braintree</td>\n",
       "      <td>No</td>\n",
       "      <td>NaN</td>\n",
       "      <td>NaN</td>\n",
       "      <td>0010O00001qfkuvQAA</td>\n",
       "      <td>16</td>\n",
       "      <td>14</td>\n",
       "      <td>2877.51</td>\n",
       "      <td>3312.59</td>\n",
       "      <td>1.1512</td>\n",
       "      <td>16</td>\n",
       "      <td>2877.51</td>\n",
       "      <td>2848.66</td>\n",
       "      <td>28.85</td>\n",
       "      <td>28.85</td>\n",
       "      <td>1.00</td>\n",
       "      <td>1</td>\n",
       "    </tr>\n",
       "    <tr>\n",
       "      <th>3</th>\n",
       "      <td>NaN</td>\n",
       "      <td>NaN</td>\n",
       "      <td>971</td>\n",
       "      <td>16</td>\n",
       "      <td>3396</td>\n",
       "      <td>Braintree</td>\n",
       "      <td>No</td>\n",
       "      <td>NaN</td>\n",
       "      <td>NaN</td>\n",
       "      <td>0010O00001qfkuvQAA</td>\n",
       "      <td>16</td>\n",
       "      <td>14</td>\n",
       "      <td>4723.84</td>\n",
       "      <td>5438.08</td>\n",
       "      <td>1.1512</td>\n",
       "      <td>16</td>\n",
       "      <td>4723.84</td>\n",
       "      <td>4677.60</td>\n",
       "      <td>46.24</td>\n",
       "      <td>46.24</td>\n",
       "      <td>0.98</td>\n",
       "      <td>1</td>\n",
       "    </tr>\n",
       "    <tr>\n",
       "      <th>4</th>\n",
       "      <td>NaN</td>\n",
       "      <td>NaN</td>\n",
       "      <td>971</td>\n",
       "      <td>16</td>\n",
       "      <td>3396</td>\n",
       "      <td>Braintree</td>\n",
       "      <td>No</td>\n",
       "      <td>NaN</td>\n",
       "      <td>NaN</td>\n",
       "      <td>0010O00001qfkuvQAA</td>\n",
       "      <td>16</td>\n",
       "      <td>14</td>\n",
       "      <td>3464.11</td>\n",
       "      <td>3987.88</td>\n",
       "      <td>1.1512</td>\n",
       "      <td>16</td>\n",
       "      <td>3464.11</td>\n",
       "      <td>3430.41</td>\n",
       "      <td>33.70</td>\n",
       "      <td>33.70</td>\n",
       "      <td>0.97</td>\n",
       "      <td>1</td>\n",
       "    </tr>\n",
       "  </tbody>\n",
       "</table>\n",
       "</div>"
      ],
      "text/plain": [
       "   QuotedRate  PercentageMarkup  TimeSpent_seconds  TimeSpent_minutes  \\\n",
       "0         NaN               NaN                971                 16   \n",
       "1         NaN               NaN                971                 16   \n",
       "2         NaN               NaN                971                 16   \n",
       "3         NaN               NaN                971                 16   \n",
       "4         NaN               NaN                971                 16   \n",
       "\n",
       "   FrequencyOfVisit        aza IS_Converted cust_type org_code  \\\n",
       "0              3396  Braintree           No       NaN      NaN   \n",
       "1              3396  Braintree           No       NaN      NaN   \n",
       "2              3396  Braintree           No       NaN      NaN   \n",
       "3              3396  Braintree           No       NaN      NaN   \n",
       "4              3396  Braintree           No       NaN      NaN   \n",
       "\n",
       "         CRMAccountID  SellingCurrency  BuyingCurrency  SellingAmount  \\\n",
       "0  0010O00001qfkuvQAA               16              48       33128.85   \n",
       "1  0010O00001qfkuvQAA               16              14        3770.31   \n",
       "2  0010O00001qfkuvQAA               16              14        2877.51   \n",
       "3  0010O00001qfkuvQAA               16              14        4723.84   \n",
       "4  0010O00001qfkuvQAA               16              14        3464.11   \n",
       "\n",
       "   BuyingAmount  ClientRate  BaseCurrency  BaseSellingAmount  \\\n",
       "0      44773.64      1.3515            16           33128.85   \n",
       "1       4340.38      1.1512            16            3770.31   \n",
       "2       3312.59      1.1512            16            2877.51   \n",
       "3       5438.08      1.1512            16            4723.84   \n",
       "4       3987.88      1.1512            16            3464.11   \n",
       "\n",
       "   BaseBuyingAmount  NetProfit  FinalProfit  Margin  Cluster  \n",
       "0          32793.07     335.78       335.78    1.01        1  \n",
       "1           3733.76      36.55        36.55    0.97        1  \n",
       "2           2848.66      28.85        28.85    1.00        1  \n",
       "3           4677.60      46.24        46.24    0.98        1  \n",
       "4           3430.41      33.70        33.70    0.97        1  "
      ]
     },
     "execution_count": 69,
     "metadata": {},
     "output_type": "execute_result"
    }
   ],
   "source": [
    "NGOPC_SF_ALL_PE_CONTACT_TITAN_M_REQF_master.head()"
   ]
  },
  {
   "cell_type": "code",
   "execution_count": 70,
   "metadata": {},
   "outputs": [
    {
     "data": {
      "text/plain": [
       "(92951702, 22)"
      ]
     },
     "execution_count": 70,
     "metadata": {},
     "output_type": "execute_result"
    }
   ],
   "source": [
    "NGOPC_SF_ALL_PE_CONTACT_TITAN_M_REQF_master.shape"
   ]
  },
  {
   "cell_type": "code",
   "execution_count": 71,
   "metadata": {},
   "outputs": [],
   "source": [
    "#NGOPC_SF_ALL_PE_CONTACT_TITAN_M_REQF_master.to_csv('NGOPC_SF_ALL_PE_CONTACT_TITAN_M_REQF_master.csv')"
   ]
  },
  {
   "cell_type": "code",
   "execution_count": 36,
   "metadata": {},
   "outputs": [
    {
     "name": "stdout",
     "output_type": "stream",
     "text": [
      "BuyingCurrency\n",
      "14    27121500\n",
      "2     27121500\n",
      "22    13560750\n",
      "16     5424300\n",
      "dtype: int64\n",
      "BuyingCurrency\n",
      "14    4401484\n",
      "48    3954192\n",
      "49    1777408\n",
      "39    1777408\n",
      "36    1333056\n",
      "2     1333056\n",
      "43     888704\n",
      "31     888704\n",
      "10     888704\n",
      "1      888704\n",
      "16     574480\n",
      "34     444352\n",
      "20     444352\n",
      "8      129048\n",
      "dtype: int64\n"
     ]
    }
   ],
   "source": [
    "# Buying Currency\n",
    "\n",
    "print(Customer_segments_1.groupby([\"BuyingCurrency\"]).size().sort_values(ascending=False))\n",
    "print(Customer_segments_2.groupby([\"BuyingCurrency\"]).size().sort_values(ascending=False))"
   ]
  },
  {
   "cell_type": "code",
   "execution_count": 37,
   "metadata": {},
   "outputs": [
    {
     "data": {
      "text/plain": [
       "<AxesSubplot:>"
      ]
     },
     "execution_count": 37,
     "metadata": {},
     "output_type": "execute_result"
    },
    {
     "data": {
      "text/plain": [
       "Text(0.5, 1.0, 'BC_1')"
      ]
     },
     "execution_count": 37,
     "metadata": {},
     "output_type": "execute_result"
    },
    {
     "data": {
      "text/plain": [
       "<AxesSubplot:title={'center':'BC_1'}, ylabel='Frequency'>"
      ]
     },
     "execution_count": 37,
     "metadata": {},
     "output_type": "execute_result"
    },
    {
     "data": {
      "text/plain": [
       "<AxesSubplot:>"
      ]
     },
     "execution_count": 37,
     "metadata": {},
     "output_type": "execute_result"
    },
    {
     "data": {
      "text/plain": [
       "Text(0.5, 1.0, 'BC_2')"
      ]
     },
     "execution_count": 37,
     "metadata": {},
     "output_type": "execute_result"
    },
    {
     "data": {
      "text/plain": [
       "<AxesSubplot:title={'center':'BC_2'}, ylabel='Frequency'>"
      ]
     },
     "execution_count": 37,
     "metadata": {},
     "output_type": "execute_result"
    },
    {
     "data": {
      "image/png": "[encoded data removed]",
      "text/plain": [
       "<Figure size 432x288 with 2 Axes>"
      ]
     },
     "metadata": {},
     "output_type": "display_data"
    }
   ],
   "source": [
    "# Buying Currency\n",
    "plt.subplot(221)\n",
    "plt.title('BC_1')\n",
    "#Output = None\n",
    "Customer_segments_1[\"BuyingCurrency\"].plot(kind = \"hist\", bins = 25)\n",
    "\n",
    "plt.subplot(222)\n",
    "plt.title('BC_2')\n",
    "#Output = None\n",
    "Customer_segments_2[\"BuyingCurrency\"].plot(kind = \"hist\", bins = 25)"
   ]
  },
  {
   "cell_type": "code",
   "execution_count": 38,
   "metadata": {},
   "outputs": [
    {
     "name": "stdout",
     "output_type": "stream",
     "text": [
      "SellingCurrency\n",
      "16    67803750\n",
      "42     2712150\n",
      "14     2712150\n",
      "dtype: int64\n",
      "SellingCurrency\n",
      "48    16954816\n",
      "16     2322864\n",
      "39      444352\n",
      "14        1620\n",
      "dtype: int64\n"
     ]
    }
   ],
   "source": [
    "# Selling Currency\n",
    "\n",
    "print(Customer_segments_1.groupby([\"SellingCurrency\"]).size().sort_values(ascending=False))\n",
    "print(Customer_segments_2.groupby([\"SellingCurrency\"]).size().sort_values(ascending=False))"
   ]
  },
  {
   "cell_type": "code",
   "execution_count": 39,
   "metadata": {},
   "outputs": [
    {
     "data": {
      "text/plain": [
       "<AxesSubplot:>"
      ]
     },
     "execution_count": 39,
     "metadata": {},
     "output_type": "execute_result"
    },
    {
     "data": {
      "text/plain": [
       "Text(0.5, 1.0, 'BC_1')"
      ]
     },
     "execution_count": 39,
     "metadata": {},
     "output_type": "execute_result"
    },
    {
     "data": {
      "text/plain": [
       "<AxesSubplot:title={'center':'BC_1'}, ylabel='Frequency'>"
      ]
     },
     "execution_count": 39,
     "metadata": {},
     "output_type": "execute_result"
    },
    {
     "data": {
      "text/plain": [
       "<AxesSubplot:>"
      ]
     },
     "execution_count": 39,
     "metadata": {},
     "output_type": "execute_result"
    },
    {
     "data": {
      "text/plain": [
       "Text(0.5, 1.0, 'BC_2')"
      ]
     },
     "execution_count": 39,
     "metadata": {},
     "output_type": "execute_result"
    },
    {
     "data": {
      "text/plain": [
       "<AxesSubplot:title={'center':'BC_2'}, ylabel='Frequency'>"
      ]
     },
     "execution_count": 39,
     "metadata": {},
     "output_type": "execute_result"
    },
    {
     "data": {
      "image/png": "[encoded data removed]",
      "text/plain": [
       "<Figure size 432x288 with 2 Axes>"
      ]
     },
     "metadata": {},
     "output_type": "display_data"
    }
   ],
   "source": [
    "# Selling Currency\n",
    "plt.subplot(221)\n",
    "plt.title('BC_1')\n",
    "#Output = None\n",
    "Customer_segments_1[\"SellingCurrency\"].plot(kind = \"hist\", bins = 25)\n",
    "\n",
    "plt.subplot(222)\n",
    "plt.title('BC_2')\n",
    "#Output = None\n",
    "Customer_segments_2[\"SellingCurrency\"].plot(kind = \"hist\", bins = 25)"
   ]
  },
  {
   "cell_type": "code",
   "execution_count": 41,
   "metadata": {},
   "outputs": [
    {
     "name": "stdout",
     "output_type": "stream",
     "text": [
      "BaseSellingAmount\n",
      "30.00     37970100\n",
      "200.00     2712150\n",
      "104.00     2712150\n",
      "103.00     2712150\n",
      "102.00     2712150\n",
      "101.00     2712150\n",
      "82.44      2712150\n",
      "35.00      2712150\n",
      "32.00      2712150\n",
      "25.56      2712150\n",
      "25.00      2712150\n",
      "15.00      2712150\n",
      "13.00      2712150\n",
      "10.57      2712150\n",
      "dtype: int64\n",
      "BaseSellingAmount\n",
      "3098.16      444352\n",
      "1108.33      444352\n",
      "250.90       444352\n",
      "2842.08      444352\n",
      "99.13        444352\n",
      "188.04       444352\n",
      "2601.04      444352\n",
      "2486.46      444352\n",
      "1809.67      444352\n",
      "1793.33      444352\n",
      "1725.91      444352\n",
      "1565.61      444352\n",
      "1059.14      444352\n",
      "3176.54      444352\n",
      "965.91       444352\n",
      "943.50       444352\n",
      "593.09       444352\n",
      "478.35       444352\n",
      "431.48       444352\n",
      "429.93       444352\n",
      "427.09       444352\n",
      "374.06       444352\n",
      "326.37       444352\n",
      "319.16       444352\n",
      "3146.71      444352\n",
      "293.97       444352\n",
      "4797.56      444352\n",
      "6336.78      444352\n",
      "5493.86      444352\n",
      "5253.08      444352\n",
      "4681.28      444352\n",
      "6607.21      444352\n",
      "4434.10      444352\n",
      "3855.22      444352\n",
      "6807.61      444352\n",
      "6991.22      444352\n",
      "8465.59      444352\n",
      "3656.37      444352\n",
      "85.85        444352\n",
      "13061.46     129048\n",
      "15335.85     129048\n",
      "826.14       129048\n",
      "29.33        129048\n",
      "24925.76     129048\n",
      "33128.85     129048\n",
      "3464.11      129048\n",
      "92.21        129048\n",
      "4723.84      129048\n",
      "2086.08      129048\n",
      "238.56       129048\n",
      "3770.31      129048\n",
      "2824.03      129048\n",
      "42172.87     129048\n",
      "3700.24      129048\n",
      "2877.51      129048\n",
      "3646.98      129048\n",
      "161161.00    129048\n",
      "2827.53       13888\n",
      "2816.89       13888\n",
      "2817.15       13888\n",
      "2827.97       13888\n",
      "3524.62       13888\n",
      "6063.98         540\n",
      "6346.20         540\n",
      "12.44           540\n",
      "dtype: int64\n"
     ]
    }
   ],
   "source": [
    "# Base Selling Amount\n",
    "\n",
    "print(Customer_segments_1.groupby([\"BaseSellingAmount\"]).size().sort_values(ascending=False))\n",
    "print(Customer_segments_2.groupby([\"BaseSellingAmount\"]).size().sort_values(ascending=False))"
   ]
  },
  {
   "cell_type": "code",
   "execution_count": 42,
   "metadata": {},
   "outputs": [
    {
     "data": {
      "text/plain": [
       "<AxesSubplot:>"
      ]
     },
     "execution_count": 42,
     "metadata": {},
     "output_type": "execute_result"
    },
    {
     "data": {
      "text/plain": [
       "Text(0.5, 1.0, 'BS_1')"
      ]
     },
     "execution_count": 42,
     "metadata": {},
     "output_type": "execute_result"
    },
    {
     "data": {
      "text/plain": [
       "<AxesSubplot:title={'center':'BS_1'}, ylabel='Frequency'>"
      ]
     },
     "execution_count": 42,
     "metadata": {},
     "output_type": "execute_result"
    },
    {
     "data": {
      "text/plain": [
       "<AxesSubplot:>"
      ]
     },
     "execution_count": 42,
     "metadata": {},
     "output_type": "execute_result"
    },
    {
     "data": {
      "text/plain": [
       "Text(0.5, 1.0, 'BS_2')"
      ]
     },
     "execution_count": 42,
     "metadata": {},
     "output_type": "execute_result"
    },
    {
     "data": {
      "text/plain": [
       "<AxesSubplot:title={'center':'BS_2'}, ylabel='Frequency'>"
      ]
     },
     "execution_count": 42,
     "metadata": {},
     "output_type": "execute_result"
    },
    {
     "data": {
      "image/png": "[encoded data removed]",
      "text/plain": [
       "<Figure size 432x288 with 2 Axes>"
      ]
     },
     "metadata": {},
     "output_type": "display_data"
    }
   ],
   "source": [
    "# Base Selling Amount\n",
    "plt.subplot(421)\n",
    "plt.title('BS_1')\n",
    "#Output = None\n",
    "Customer_segments_1[\"BaseSellingAmount\"].plot(kind = \"hist\", bins = 25)\n",
    "\n",
    "plt.subplot(422)\n",
    "plt.title('BS_2')\n",
    "#Output = None\n",
    "Customer_segments_2[\"BaseSellingAmount\"].plot(kind = \"hist\", bins = 25)"
   ]
  },
  {
   "cell_type": "code",
   "execution_count": 53,
   "metadata": {},
   "outputs": [
    {
     "name": "stdout",
     "output_type": "stream",
     "text": [
      "BaseBuyingAmount\n",
      "28.95     24409350\n",
      "28.85     10848600\n",
      "192.32     2712150\n",
      "86.78      2712150\n",
      "85.85      2712150\n",
      "84.90      2712150\n",
      "83.95      2712150\n",
      "79.27      2712150\n",
      "33.65      2712150\n",
      "30.77      2712150\n",
      "28.94      2712150\n",
      "25.00      2712150\n",
      "24.66      2712150\n",
      "14.42      2712150\n",
      "10.11      2712150\n",
      "0.11       2712150\n",
      "dtype: int64\n",
      "BaseBuyingAmount\n",
      "3042.09      444352\n",
      "1088.78      444352\n",
      "250.90       444352\n",
      "97.39        444352\n",
      "184.75       444352\n",
      "2792.51      444352\n",
      "2555.41      444352\n",
      "2442.95      444352\n",
      "1809.67      444352\n",
      "1762.22      444352\n",
      "1695.61      444352\n",
      "1565.61      444352\n",
      "1040.65      444352\n",
      "3120.81      444352\n",
      "948.46       444352\n",
      "943.50       444352\n",
      "582.86       444352\n",
      "470.05       444352\n",
      "423.96       444352\n",
      "422.41       444352\n",
      "419.61       444352\n",
      "367.45       444352\n",
      "326.37       444352\n",
      "313.55       444352\n",
      "3091.49      444352\n",
      "288.82       444352\n",
      "4713.60      444352\n",
      "3787.70      444352\n",
      "5397.67      444352\n",
      "5164.24      444352\n",
      "6336.78      444352\n",
      "4599.35      444352\n",
      "6491.50      444352\n",
      "4434.10      444352\n",
      "6688.39      444352\n",
      "6991.22      444352\n",
      "8317.19      444352\n",
      "3592.89      444352\n",
      "84.35        444352\n",
      "29.33        129048\n",
      "12930.95     129048\n",
      "15182.15     129048\n",
      "817.40       129048\n",
      "24674.08     129048\n",
      "32793.07     129048\n",
      "3430.41      129048\n",
      "91.27        129048\n",
      "4677.60      129048\n",
      "2064.97      129048\n",
      "3733.76      129048\n",
      "2794.65      129048\n",
      "236.21       129048\n",
      "41752.16     129048\n",
      "3661.75      129048\n",
      "3610.55      129048\n",
      "2848.66      129048\n",
      "159569.83    129048\n",
      "2817.15       13888\n",
      "2816.89       13888\n",
      "2827.53       13888\n",
      "2827.97       13888\n",
      "3524.62       13888\n",
      "6002.97         540\n",
      "6282.86         540\n",
      "12.44           540\n",
      "dtype: int64\n"
     ]
    }
   ],
   "source": [
    "# Base buying Amount\n",
    "\n",
    "print(Customer_segments_1.groupby([\"BaseBuyingAmount\"]).size().sort_values(ascending=False))\n",
    "print(Customer_segments_2.groupby([\"BaseBuyingAmount\"]).size().sort_values(ascending=False))"
   ]
  },
  {
   "cell_type": "code",
   "execution_count": 54,
   "metadata": {},
   "outputs": [
    {
     "data": {
      "text/plain": [
       "<AxesSubplot:>"
      ]
     },
     "execution_count": 54,
     "metadata": {},
     "output_type": "execute_result"
    },
    {
     "data": {
      "text/plain": [
       "Text(0.5, 1.0, 'BB_1')"
      ]
     },
     "execution_count": 54,
     "metadata": {},
     "output_type": "execute_result"
    },
    {
     "data": {
      "text/plain": [
       "<AxesSubplot:title={'center':'BB_1'}, ylabel='Frequency'>"
      ]
     },
     "execution_count": 54,
     "metadata": {},
     "output_type": "execute_result"
    },
    {
     "data": {
      "text/plain": [
       "<AxesSubplot:>"
      ]
     },
     "execution_count": 54,
     "metadata": {},
     "output_type": "execute_result"
    },
    {
     "data": {
      "text/plain": [
       "Text(0.5, 1.0, 'BB_2')"
      ]
     },
     "execution_count": 54,
     "metadata": {},
     "output_type": "execute_result"
    },
    {
     "data": {
      "text/plain": [
       "<AxesSubplot:title={'center':'BB_2'}, ylabel='Frequency'>"
      ]
     },
     "execution_count": 54,
     "metadata": {},
     "output_type": "execute_result"
    },
    {
     "data": {
      "image/png": "[encoded data removed]",
      "text/plain": [
       "<Figure size 432x288 with 2 Axes>"
      ]
     },
     "metadata": {},
     "output_type": "display_data"
    }
   ],
   "source": [
    "# Base Selling Amount\n",
    "plt.subplot(421)\n",
    "plt.title('BB_1')\n",
    "#Output = None\n",
    "Customer_segments_1[\"BaseBuyingAmount\"].plot(kind = \"hist\", bins = 25)\n",
    "\n",
    "plt.subplot(422)\n",
    "plt.title('BB_2')\n",
    "#Output = None\n",
    "Customer_segments_2[\"BaseBuyingAmount\"].plot(kind = \"hist\", bins = 25)"
   ]
  },
  {
   "cell_type": "code",
   "execution_count": 55,
   "metadata": {},
   "outputs": [
    {
     "name": "stdout",
     "output_type": "stream",
     "text": [
      "Margin\n",
      "3.50     24409350\n",
      "3.83     10848600\n",
      "3.84      5424300\n",
      "99.15     2712150\n",
      "16.88     2712150\n",
      "16.76     2712150\n",
      "16.65     2712150\n",
      "16.56     2712150\n",
      "4.35      2712150\n",
      "3.87      2712150\n",
      "3.86      2712150\n",
      "3.85      2712150\n",
      "3.53      2712150\n",
      "3.52      2712150\n",
      "0.00      2712150\n",
      "dtype: int64\n",
      "Margin\n",
      "1.75    7553984\n",
      "0.00    3753844\n",
      "1.74    1777408\n",
      "1.76    1777408\n",
      "1.81     888704\n",
      "1.00     645780\n",
      "1.73     444352\n",
      "1.72     444352\n",
      "1.69     444352\n",
      "1.77     444352\n",
      "1.01     387684\n",
      "1.04     258096\n",
      "0.99     258096\n",
      "0.97     258096\n",
      "1.02     129048\n",
      "0.98     129048\n",
      "1.06     129048\n",
      "dtype: int64\n"
     ]
    }
   ],
   "source": [
    "# Margin\n",
    "\n",
    "print(Customer_segments_1.groupby([\"Margin\"]).size().sort_values(ascending=False))\n",
    "print(Customer_segments_2.groupby([\"Margin\"]).size().sort_values(ascending=False))"
   ]
  },
  {
   "cell_type": "code",
   "execution_count": 56,
   "metadata": {},
   "outputs": [
    {
     "data": {
      "text/plain": [
       "<AxesSubplot:>"
      ]
     },
     "execution_count": 56,
     "metadata": {},
     "output_type": "execute_result"
    },
    {
     "data": {
      "text/plain": [
       "Text(0.5, 1.0, 'Margin_1')"
      ]
     },
     "execution_count": 56,
     "metadata": {},
     "output_type": "execute_result"
    },
    {
     "data": {
      "text/plain": [
       "<AxesSubplot:title={'center':'Margin_1'}, ylabel='Frequency'>"
      ]
     },
     "execution_count": 56,
     "metadata": {},
     "output_type": "execute_result"
    },
    {
     "data": {
      "text/plain": [
       "<AxesSubplot:>"
      ]
     },
     "execution_count": 56,
     "metadata": {},
     "output_type": "execute_result"
    },
    {
     "data": {
      "text/plain": [
       "Text(0.5, 1.0, 'Margin_2')"
      ]
     },
     "execution_count": 56,
     "metadata": {},
     "output_type": "execute_result"
    },
    {
     "data": {
      "text/plain": [
       "<AxesSubplot:title={'center':'Margin_2'}, ylabel='Frequency'>"
      ]
     },
     "execution_count": 56,
     "metadata": {},
     "output_type": "execute_result"
    },
    {
     "data": {
      "image/png": "[encoded data removed]",
      "text/plain": [
       "<Figure size 432x288 with 2 Axes>"
      ]
     },
     "metadata": {},
     "output_type": "display_data"
    }
   ],
   "source": [
    "# Margin\n",
    "plt.subplot(421)\n",
    "plt.title('Margin_1')\n",
    "#Output = None\n",
    "Customer_segments_1[\"Margin\"].plot(kind = \"hist\", bins = 25)\n",
    "\n",
    "plt.subplot(422)\n",
    "plt.title('Margin_2')\n",
    "#Output = None\n",
    "Customer_segments_2[\"Margin\"].plot(kind = \"hist\", bins = 25)"
   ]
  },
  {
   "cell_type": "code",
   "execution_count": 59,
   "metadata": {},
   "outputs": [
    {
     "name": "stdout",
     "output_type": "stream",
     "text": [
      "NetProfit\n",
      "1.05     24409350\n",
      "1.15     10848600\n",
      "17.22     2712150\n",
      "17.15     2712150\n",
      "17.10     2712150\n",
      "17.05     2712150\n",
      "12.89     2712150\n",
      "7.68      2712150\n",
      "3.17      2712150\n",
      "1.35      2712150\n",
      "1.23      2712150\n",
      "1.06      2712150\n",
      "0.90      2712150\n",
      "0.58      2712150\n",
      "0.46      2712150\n",
      "0.00      2712150\n",
      "dtype: int64\n",
      "NetProfit\n",
      "0.00       3753844\n",
      "7.52        888704\n",
      "18.49       444352\n",
      "17.45       444352\n",
      "10.23       444352\n",
      "30.30       444352\n",
      "31.11       444352\n",
      "8.30        444352\n",
      "7.48        444352\n",
      "6.61        444352\n",
      "43.51       444352\n",
      "45.63       444352\n",
      "5.61        444352\n",
      "49.57       444352\n",
      "55.22       444352\n",
      "55.73       444352\n",
      "56.07       444352\n",
      "5.15        444352\n",
      "96.19       444352\n",
      "1.50        444352\n",
      "1.74        444352\n",
      "148.40      444352\n",
      "119.22      444352\n",
      "3.29        444352\n",
      "115.71      444352\n",
      "88.84       444352\n",
      "83.96       444352\n",
      "81.93       444352\n",
      "67.52       444352\n",
      "63.48       444352\n",
      "19.55       444352\n",
      "2.35        129048\n",
      "8.74        129048\n",
      "0.94        129048\n",
      "1591.17     129048\n",
      "21.11       129048\n",
      "28.85       129048\n",
      "29.38       129048\n",
      "33.70       129048\n",
      "36.43       129048\n",
      "420.71      129048\n",
      "38.49       129048\n",
      "46.24       129048\n",
      "130.51      129048\n",
      "153.70      129048\n",
      "251.68      129048\n",
      "335.78      129048\n",
      "36.55       129048\n",
      "61.01          540\n",
      "63.34          540\n",
      "dtype: int64\n"
     ]
    }
   ],
   "source": [
    "# NetProfit\n",
    "\n",
    "print(Customer_segments_1.groupby([\"NetProfit\"]).size().sort_values(ascending=False))\n",
    "print(Customer_segments_2.groupby([\"NetProfit\"]).size().sort_values(ascending=False))"
   ]
  },
  {
   "cell_type": "code",
   "execution_count": 60,
   "metadata": {},
   "outputs": [
    {
     "data": {
      "text/plain": [
       "<AxesSubplot:>"
      ]
     },
     "execution_count": 60,
     "metadata": {},
     "output_type": "execute_result"
    },
    {
     "data": {
      "text/plain": [
       "Text(0.5, 1.0, 'NP_1')"
      ]
     },
     "execution_count": 60,
     "metadata": {},
     "output_type": "execute_result"
    },
    {
     "data": {
      "text/plain": [
       "<AxesSubplot:title={'center':'NP_1'}, ylabel='Frequency'>"
      ]
     },
     "execution_count": 60,
     "metadata": {},
     "output_type": "execute_result"
    },
    {
     "data": {
      "text/plain": [
       "<AxesSubplot:>"
      ]
     },
     "execution_count": 60,
     "metadata": {},
     "output_type": "execute_result"
    },
    {
     "data": {
      "text/plain": [
       "Text(0.5, 1.0, 'NF_2')"
      ]
     },
     "execution_count": 60,
     "metadata": {},
     "output_type": "execute_result"
    },
    {
     "data": {
      "text/plain": [
       "<AxesSubplot:title={'center':'NF_2'}, ylabel='Frequency'>"
      ]
     },
     "execution_count": 60,
     "metadata": {},
     "output_type": "execute_result"
    },
    {
     "data": {
      "image/png": "[encoded data removed]",
      "text/plain": [
       "<Figure size 432x288 with 2 Axes>"
      ]
     },
     "metadata": {},
     "output_type": "display_data"
    }
   ],
   "source": [
    "# Margin\n",
    "plt.subplot(421)\n",
    "plt.title('NP_1')\n",
    "#Output = None\n",
    "Customer_segments_1[\"NetProfit\"].plot(kind = \"hist\", bins = 25)\n",
    "\n",
    "plt.subplot(422)\n",
    "plt.title('NF_2')\n",
    "#Output = None\n",
    "Customer_segments_2[\"NetProfit\"].plot(kind = \"hist\", bins = 25)"
   ]
  },
  {
   "cell_type": "code",
   "execution_count": null,
   "metadata": {},
   "outputs": [],
   "source": []
  },
  {
   "cell_type": "markdown",
   "metadata": {},
   "source": [
    "## Applying 80/20 Rule (Pareto principle)\n"
   ]
  },
  {
   "cell_type": "markdown",
   "metadata": {},
   "source": [
    "### Top 20% of customers driving 80% of TimeSpent\n"
   ]
  },
  {
   "cell_type": "code",
   "execution_count": 34,
   "metadata": {},
   "outputs": [
    {
     "name": "stdout",
     "output_type": "stream",
     "text": [
      "Unique customers:\n"
     ]
    },
    {
     "data": {
      "text/plain": [
       "5"
      ]
     },
     "execution_count": 34,
     "metadata": {},
     "output_type": "execute_result"
    },
    {
     "data": {
      "text/plain": [
       "<AxesSubplot:xlabel='CRMAccountID'>"
      ]
     },
     "execution_count": 34,
     "metadata": {},
     "output_type": "execute_result"
    },
    {
     "data": {
      "image/png": "[encoded data removed]",
      "text/plain": [
       "<Figure size 432x288 with 1 Axes>"
      ]
     },
     "metadata": {},
     "output_type": "display_data"
    }
   ],
   "source": [
    "# Customer ID\n",
    "\n",
    "print(\"Unique customers:\")\n",
    "NGOPC_SF_ALL_PE_CONTACT_TITAN_M_REQF_master[\"CRMAccountID\"].nunique()\n",
    "\n",
    "NGOPC_SF_ALL_PE_CONTACT_TITAN_M_REQF_master.groupby(\"CRMAccountID\").agg({\"NetProfit\": \"sum\"}).sort_values(\"NetProfit\", ascending = False).head(20).plot(kind = \"bar\")\n",
    "                                \n",
    "plt.show()"
   ]
  },
  {
   "cell_type": "code",
   "execution_count": 35,
   "metadata": {},
   "outputs": [
    {
     "name": "stdout",
     "output_type": "stream",
     "text": [
      "# of customers in top 25% customer: 1 out of 5\n",
      "Total Profit resulting from the top customer: 46 %\n"
     ]
    }
   ],
   "source": [
    "# Identifying the top 20 % customer segments driving 80 % NetProfit\n",
    "\n",
    "h = NGOPC_SF_ALL_PE_CONTACT_TITAN_M_REQF_master[\"CRMAccountID\"].nunique()\n",
    "i = round(0.25*h)\n",
    "print(\"# of customers in top 25% customer:\", i, \"out of\", h)\n",
    "\n",
    "j = NGOPC_SF_ALL_PE_CONTACT_TITAN_M_REQF_master.groupby(\"CRMAccountID\").agg({\"NetProfit\": \"sum\"}).sort_values(\"NetProfit\", ascending = False).head(i).sum()\n",
    "k = NGOPC_SF_ALL_PE_CONTACT_TITAN_M_REQF_master[\"NetProfit\"].sum()\n",
    "\n",
    "l = j/k*100\n",
    "print(\"Total Profit resulting from the top customer:\", round(list(l)[0]), \"%\")"
   ]
  },
  {
   "cell_type": "markdown",
   "metadata": {},
   "source": [
    "### Top 20% of customers driving 80% of Margin\n"
   ]
  },
  {
   "cell_type": "code",
   "execution_count": 57,
   "metadata": {},
   "outputs": [
    {
     "name": "stdout",
     "output_type": "stream",
     "text": [
      "Unique customers:\n"
     ]
    },
    {
     "data": {
      "text/plain": [
       "5"
      ]
     },
     "execution_count": 57,
     "metadata": {},
     "output_type": "execute_result"
    },
    {
     "data": {
      "text/plain": [
       "<AxesSubplot:xlabel='CRMAccountID'>"
      ]
     },
     "execution_count": 57,
     "metadata": {},
     "output_type": "execute_result"
    },
    {
     "data": {
      "image/png": "[encoded data removed]",
      "text/plain": [
       "<Figure size 432x288 with 1 Axes>"
      ]
     },
     "metadata": {},
     "output_type": "display_data"
    }
   ],
   "source": [
    "\n",
    "print(\"Unique customers:\")\n",
    "NGOPC_SF_ALL_PE_CONTACT_TITAN_M_REQF_master[\"CRMAccountID\"].nunique()\n",
    "\n",
    "NGOPC_SF_ALL_PE_CONTACT_TITAN_M_REQF_master.groupby(\"CRMAccountID\").agg({\"Margin\": \"sum\"}).sort_values(\"Margin\", ascending = False).head(20).plot(kind = \"bar\")\n",
    "                                \n",
    "plt.show()"
   ]
  },
  {
   "cell_type": "code",
   "execution_count": 58,
   "metadata": {},
   "outputs": [
    {
     "name": "stdout",
     "output_type": "stream",
     "text": [
      "# of customers in top 25% customer: 1 out of 5\n",
      "Total Profit resulting from the top customer: 96 %\n"
     ]
    }
   ],
   "source": [
    "# Identifying the top 25 % customer segments driving 80 % Margin\n",
    "\n",
    "h = NGOPC_SF_ALL_PE_CONTACT_TITAN_M_REQF_master[\"CRMAccountID\"].nunique()\n",
    "i = round(0.25*h)\n",
    "print(\"# of customers in top 25% customer:\", i, \"out of\", h)\n",
    "\n",
    "j = NGOPC_SF_ALL_PE_CONTACT_TITAN_M_REQF_master.groupby(\"CRMAccountID\").agg({\"Margin\": \"sum\"}).sort_values(\"Margin\", ascending = False).head(i).sum()\n",
    "k = NGOPC_SF_ALL_PE_CONTACT_TITAN_M_REQF_master[\"Margin\"].sum()\n",
    "\n",
    "l = j/k*100\n",
    "print(\"Total Profit resulting from the top customer:\", round(list(l)[0]), \"%\")"
   ]
  },
  {
   "cell_type": "markdown",
   "metadata": {},
   "source": [
    "### Top 20 % geographic locations driving 80 % of NetProfit"
   ]
  },
  {
   "cell_type": "markdown",
   "metadata": {},
   "source": [
    "#### Top 5 countries by NetProfit"
   ]
  },
  {
   "cell_type": "code",
   "execution_count": 52,
   "metadata": {},
   "outputs": [
    {
     "name": "stdout",
     "output_type": "stream",
     "text": [
      "Top 5 Cities by NetProfit:\n"
     ]
    },
    {
     "data": {
      "text/plain": [
       "<AxesSubplot:xlabel='aza'>"
      ]
     },
     "execution_count": 52,
     "metadata": {},
     "output_type": "execute_result"
    },
    {
     "data": {
      "image/png": "[encoded data removed]",
      "text/plain": [
       "<Figure size 432x288 with 1 Axes>"
      ]
     },
     "metadata": {},
     "output_type": "display_data"
    }
   ],
   "source": [
    "# Segmenting NetProfit by top 5 geographic location\n",
    "\n",
    "print(\"Top 5 Cities by NetProfit:\")\n",
    "NGOPC_SF_ALL_PE_CONTACT_TITAN_M_REQF_master.groupby(\"aza\").agg({\"NetProfit\": \"sum\"}).sort_values(\"NetProfit\", ascending = False).head(5).plot(kind = \"bar\")\n",
    "#dataset2.head(5).plot(kind = \"bar\")"
   ]
  },
  {
   "cell_type": "code",
   "execution_count": 51,
   "metadata": {},
   "outputs": [
    {
     "name": "stdout",
     "output_type": "stream",
     "text": [
      "Bottom 4 cities by NetProfit\n"
     ]
    },
    {
     "data": {
      "text/plain": [
       "<AxesSubplot:xlabel='aza'>"
      ]
     },
     "execution_count": 51,
     "metadata": {},
     "output_type": "execute_result"
    },
    {
     "data": {
      "image/png": "[encoded data removed]",
      "text/plain": [
       "<Figure size 432x288 with 1 Axes>"
      ]
     },
     "metadata": {},
     "output_type": "display_data"
    }
   ],
   "source": [
    "print(\"Bottom 4 cities by NetProfit\")\n",
    "\n",
    "NGOPC_SF_ALL_PE_CONTACT_TITAN_M_REQF_master.groupby(\"aza\").agg({\"NetProfit\": \"sum\"}).sort_values(\"NetProfit\", ascending = True).head(4).plot(kind = \"bar\")"
   ]
  },
  {
   "cell_type": "code",
   "execution_count": 61,
   "metadata": {},
   "outputs": [
    {
     "name": "stdout",
     "output_type": "stream",
     "text": [
      "Gkr-\u001b[1;32mMessage\u001b[0m: \u001b[34m14:53:19.935\u001b[0m: couldn't connect to dbus session bus: Failed to connect to socket /run/user/1001/bus: Connection refused\n",
      "Keyring is skipped due to an exception: org.freedesktop.DBus.Error.NoServer: Failed to connect to socket /run/user/1001/bus: Connection refused\n",
      "absl-py==0.8.1\n",
      "alabaster==0.7.8\n",
      "alembic==0.9.3.dev0\n",
      "amqp==2.6.0\n",
      "appdirs==1.4.3\n",
      "APScheduler==3.6.0\n",
      "apturl==0.5.2\n",
      "asn1crypto==0.24.0\n",
      "astor==0.8.1\n",
      "astroid==2.3.3\n",
      "astropy==4.0\n",
      "astunparse==1.6.3\n",
      "attrs==20.3.0\n",
      "autoviz==0.0.81\n",
      "Babel==2.4.0\n",
      "backcall==0.2.0\n",
      "beautifulsoup4==4.8.2\n",
      "bert==2.2.0\n",
      "bert-for-tf2==0.14.6\n",
      "bert-tensorflow==1.0.1\n",
      "billiard==3.6.3.0\n",
      "bleach==3.1.0\n",
      "blinker==1.4\n",
      "blis==0.4.1\n",
      "Boruta==0.3\n",
      "boto3==1.10.34\n",
      "botocore==1.13.34\n",
      "branca==0.3.1\n",
      "Brlapi==0.6.6\n",
      "bs4==0.0.1\n",
      "cached-property==1.5.1\n",
      "cachetools==3.1.1\n",
      "cassandra-driver==3.21.0\n",
      "catalogue==0.0.8\n",
      "catboost==0.20.2\n",
      "catfish==1.4.4\n",
      "celery==4.4.6\n",
      "certifi==2018.1.18\n",
      "cffi==1.12.3\n",
      "chardet==3.0.4\n",
      "Click==7.0\n",
      "cloudpickle==1.2.2\n",
      "colorama==0.3.7\n",
      "colorlover==0.3.0\n",
      "Command==0.1.0\n",
      "confuse==1.0.0\n",
      "cryptography==2.7\n",
      "cufflinks==0.17.3\n",
      "cupshelpers==1.0\n",
      "cycler==0.10.0\n",
      "cymem==2.0.2\n",
      "dash==2.0.0\n",
      "dash-bootstrap-components==0.9.1\n",
      "dash-colorscales==0.0.4\n",
      "dash-core-components==2.0.0\n",
      "dash-daq==0.5.0\n",
      "dash-html-components==2.0.0\n",
      "dash-renderer==1.8.3\n",
      "dash-table==5.0.0\n",
      "dask==2021.3.0\n",
      "databricks-cli==0.14.2\n",
      "decorator==4.4.2\n",
      "defer==1.0.6\n",
      "defusedxml==0.6.0\n",
      "device-detector==0.9\n",
      "dill==0.3.3\n",
      "distro-info===0.18ubuntu0.18.04.1\n",
      "docker==4.4.4\n",
      "docutils==0.15.2\n",
      "dogpile.cache==0.9.0\n",
      "ds-lime==0.1.1.27\n",
      "dtale==1.59.1\n",
      "duedil==1.0.12\n",
      "en==0.0.1\n",
      "en-core-web-lg==2.2.5\n",
      "en-core-web-sm==2.2.5\n",
      "entrypoints==0.3\n",
      "erlastic==2.0.0\n",
      "et-xmlfile==1.0.1\n",
      "fix-yahoo-finance==0.1.37\n",
      "Flask==1.1.4\n",
      "Flask-Admin==1.5.6\n",
      "Flask-BabelEx==0.9.3\n",
      "Flask-Compress==1.4.0\n",
      "Flask-Cors==3.0.8\n",
      "Flask-Ext==0.1\n",
      "Flask-Gravatar==0.4.2\n",
      "Flask-Login==0.4.1\n",
      "Flask-Mail==0.9.1\n",
      "Flask-Migrate==2.1.1\n",
      "flask-ngrok==0.0.25\n",
      "Flask-Paranoid==0.2.0\n",
      "Flask-Principal==0.4.0\n",
      "Flask-Script==2.0.6\n",
      "Flask-Security==1.7.5\n",
      "Flask-Sitemap==0.3.0\n",
      "Flask-SQLAlchemy==2.4.1\n",
      "Flask-WTF==0.14.2\n",
      "folium==0.10.1\n",
      "funcy==1.15\n",
      "future==0.18.2\n",
      "fuzzywuzzy==0.18.0\n",
      "gast==0.3.3\n",
      "gensim==3.8.3\n",
      "geomet==0.1.2\n",
      "gitdb==4.0.5\n",
      "GitPython==3.1.14\n",
      "google-auth==1.8.2\n",
      "google-auth-oauthlib==0.4.1\n",
      "google-pasta==0.1.8\n",
      "googleads==22.0.0\n",
      "graphviz==0.13.2\n",
      "grpcio==1.25.0\n",
      "gunicorn==20.0.4\n",
      "h5py==2.10.0\n",
      "hpsklearn==0.1.0\n",
      "html5lib==0.999999999\n",
      "htmlmin==0.1.12\n",
      "httplib2==0.9.2\n",
      "hyperopt==0.2.2\n",
      "idna==2.7\n",
      "ImageHash==4.2.0\n",
      "imageio==2.9.0\n",
      "imagesize==0.7.1\n",
      "imbalanced-learn==0.8.0\n",
      "imblearn==0.0\n",
      "importlib-metadata==1.3.0\n",
      "inflection==0.3.1\n",
      "ipykernel==5.5.0\n",
      "ipython==7.16.1\n",
      "ipython-genutils==0.2.0\n",
      "ipywidgets==7.6.3\n",
      "isodate==0.6.0\n",
      "isort==4.3.21\n",
      "itsdangerous==1.1.0\n",
      "jdcal==1.4.1\n",
      "jedi==0.18.0\n",
      "Jinja2==2.11.3\n",
      "jmespath==0.9.4\n",
      "joblib==0.14.1\n",
      "jsonschema==3.0.1\n",
      "jupyter==1.0.0\n",
      "jupyter-client==6.1.12\n",
      "jupyter-console==6.0.0\n",
      "jupyter-core==4.7.1\n",
      "jupyterlab-widgets==1.0.0\n",
      "kaleido==0.1.0\n",
      "Keras==2.3.1\n",
      "Keras-Applications==1.0.8\n",
      "Keras-Preprocessing==1.1.2\n",
      "keras-tuner==1.0.2\n",
      "keyring==10.6.0\n",
      "keyrings.alt==3.0\n",
      "kiwisolver==1.1.0\n",
      "kmodes==0.11.0\n",
      "kombu==4.6.11\n",
      "language-selector==0.1\n",
      "launchpadlib==1.10.6\n",
      "lazr.restfulclient==0.13.5\n",
      "lazr.uri==1.0.3\n",
      "lazy-object-proxy==1.4.3\n",
      "ldap3==2.7\n",
      "lightdm-gtk-greeter-settings==1.2.2\n",
      "lightgbm==3.0.0\n",
      "lime==0.2.0.1\n",
      "llvmlite==0.34.0\n",
      "logilab-common==1.4.1\n",
      "louis==3.5.0\n",
      "lxml==4.4.1\n",
      "lz4==3.1.3\n",
      "macaroonbakery==1.1.3\n",
      "Mako==1.0.7\n",
      "Markdown==3.1.1\n",
      "MarkupSafe==1.1.1\n",
      "matplotlib==3.3.4\n",
      "mccabe==0.6.1\n",
      "menulibre==2.2.0\n",
      "micawber==0.5.1\n",
      "missingno==0.4.2\n",
      "mistune==0.8.4\n",
      "mlflow==1.14.0\n",
      "mlxtend==0.18.0\n",
      "modin==0.8.3\n",
      "more-itertools==5.0.0\n",
      "mugshot==0.4.0\n",
      "multiprocess==0.70.11.1\n",
      "multitasking==0.0.9\n",
      "murmurhash==1.0.2\n",
      "name-tools==0.1.3\n",
      "nbconvert==5.5.0\n",
      "nbformat==4.4.0\n",
      "ndg-httpsclient==0.5.1\n",
      "networkx==2.5\n",
      "nltk==3.4.5\n",
      "nose==1.3.7\n",
      "notebook==5.7.8\n",
      "numba==0.51.2\n",
      "numexpr==2.7.2\n",
      "numpy==1.19.5\n",
      "numpydoc==0.7.0\n",
      "oauth==1.0.1\n",
      "oauthlib==3.1.0\n",
      "olefile==0.45.1\n",
      "onboard==1.4.1\n",
      "openpyxl==3.0.3\n",
      "opt-einsum==3.1.0\n",
      "packaging==20.0\n",
      "pandas==1.1.5\n",
      "pandas-datareader==0.8.1\n",
      "pandas-profiling==2.11.0\n",
      "pandas-visual-analysis==0.0.4\n",
      "pandocfilters==1.4.2\n",
      "paramiko==2.0.0\n",
      "params-flow==0.8.2\n",
      "parso==0.8.1\n",
      "passlib==1.7.1\n",
      "patsy==0.5.1\n",
      "peewee==3.13.1\n",
      "pexpect==4.8.0\n",
      "phik==0.11.1\n",
      "pickleshare==0.7.5\n",
      "Pillow==8.1.2\n",
      "plac==0.9.6\n",
      "plotly==5.3.1\n",
      "pluggy==0.13.1\n",
      "ppscore==1.2.0\n",
      "preshed==3.0.2\n",
      "prometheus-client==0.7.1\n",
      "prometheus-flask-exporter==0.18.1\n",
      "prompt-toolkit==3.0.17\n",
      "protobuf==3.11.1\n",
      "psutil==5.6.7\n",
      "psycopg2==2.8.6\n",
      "ptyprocess==0.7.0\n",
      "py==1.8.1\n",
      "py-bing-search==0.2.6\n",
      "py-params==0.9.7\n",
      "pyaml==20.4.0\n",
      "pyarrow==2.0.0\n",
      "pyasn1==0.4.8\n",
      "pyasn1-modules==0.2.7\n",
      "pycairo==1.16.2\n",
      "pycaret==2.3.0\n",
      "pycodestyle==2.3.1\n",
      "pycparser==2.19\n",
      "pycrypto==2.6.1\n",
      "pycups==1.9.73\n",
      "pycurl==7.43.0.1\n",
      "pydotplus==2.0.2\n",
      "pyflakes==1.6.0\n",
      "Pygments==2.8.1\n",
      "pygobject==3.26.1\n",
      "pyinotify==0.9.6\n",
      "pyLDAvis==3.2.2\n",
      "pylint==2.4.4\n",
      "pymacaroons==0.13.0\n",
      "PyNaCl==1.1.2\n",
      "pynndescent==0.5.2\n",
      "pyod==0.8.7\n",
      "pyodbc==4.0.27\n",
      "pyOpenSSL==19.0.0\n",
      "pyparsing==2.4.2\n",
      "pyRFC3339==1.0\n",
      "pyrsistent==0.15.2\n",
      "pytest==5.3.2\n",
      "pytest-pylint==0.14.1\n",
      "python-apt==1.6.5+ubuntu0.5\n",
      "python-dateutil==2.8.1\n",
      "python-debian==0.1.32\n",
      "python-debianbts==2.7.2\n",
      "python-Levenshtein==0.12.2\n",
      "python-magic==0.4.16\n",
      "pytorch-pretrained-bert==0.6.2\n",
      "pytz==2019.1\n",
      "PyWavelets==1.1.1\n",
      "pyxdg==0.25\n",
      "PyYAML==5.2\n",
      "pyzmq==22.0.3\n",
      "QtAwesome==0.4.4\n",
      "qtconsole==4.5.1\n",
      "QtPy==1.3.1\n",
      "Quandl==3.4.8\n",
      "querystring-parser==1.2.4\n",
      "regex==2019.11.1\n",
      "reportlab==3.4.0\n",
      "requests==2.25.1\n",
      "requests-mock==1.7.0\n",
      "requests-oauthlib==1.3.0\n",
      "requests-toolbelt==0.9.1\n",
      "requests-unixsocket==0.1.5\n",
      "retrying==1.3.3\n",
      "roman==2.0.0\n",
      "rope==0.10.5\n",
      "rsa==4.0\n",
      "s3transfer==0.2.1\n",
      "scikit-image==0.14.0\n",
      "scikit-learn==0.24.2\n",
      "scikit-optimize==0.7.4\n",
      "scikit-plot==0.3.7\n",
      "scikit-surprise==1.1.1\n",
      "scipy==1.5.4\n",
      "screen-resolution-extra==0.0.0\n",
      "seaborn==0.11.1\n",
      "SecretStorage==2.3.1\n",
      "selenium==3.141.0\n",
      "Send2Trash==1.5.0\n",
      "sgt-launcher==0.2.4\n",
      "shap==0.37.0\n",
      "shapash==1.2.0\n",
      "simplegeneric==0.8.1\n",
      "simplejson==3.13.2\n",
      "six==1.15.0\n",
      "skater==1.1.2\n",
      "sklearn==0.0\n",
      "slicer==0.0.3\n",
      "sloq==0.2\n",
      "smart-open==4.2.0\n",
      "smmap==3.0.5\n",
      "soupsieve==1.9.5\n",
      "spacy==2.2.3\n",
      "speaklater==1.3\n",
      "Sphinx==1.6.7\n",
      "spyder==3.2.6\n",
      "SQLAlchemy==1.3.13\n",
      "sqlparse==0.4.1\n",
      "squarify==0.4.3\n",
      "srsly==0.1.0\n",
      "sshtunnel==0.1.4\n",
      "statsmodels==0.12.2\n",
      "strsimpy==0.2.1\n",
      "system-service==0.3\n",
      "systemd-python==234\n",
      "tabulate==0.8.9\n",
      "tangled-up-in-unicode==0.0.6\n",
      "tenacity==8.0.1\n",
      "tensorboard==2.3.0\n",
      "tensorboard-plugin-wit==1.7.0\n",
      "tensorflow==2.3.1\n",
      "tensorflow-estimator==2.3.0\n",
      "tensorflow-gpu==1.15.0\n",
      "tensorflow-hub==0.7.0\n",
      "termcolor==1.1.0\n",
      "terminado==0.8.2\n",
      "terminaltables==3.1.0\n",
      "testpath==0.4.2\n",
      "textblob==0.15.3\n",
      "thinc==7.3.1\n",
      "threadpoolctl==2.1.0\n",
      "tifffile==2020.9.3\n",
      "time-uuid==0.2.0\n",
      "tokenizer==2.0.2\n",
      "toolz==0.11.1\n",
      "torch==1.3.1\n",
      "tornado==6.1\n",
      "tqdm==4.58.0\n",
      "traitlets==4.3.3\n",
      "typed-ast==1.4.0\n",
      "tzlocal==1.5.1\n",
      "ubuntu-drivers-common==0.0.0\n",
      "ufw==0.36\n",
      "umap-learn==0.5.1\n",
      "unattended-upgrades==0.1\n",
      "unicodecsv==0.14.1\n",
      "urllib3==1.24.3\n",
      "usb-creator==0.3.3\n",
      "vine==1.3.0\n",
      "virtualenv==16.4.3\n",
      "visions==0.6.0\n",
      "wadllib==1.3.2\n",
      "wasabi==0.4.2\n",
      "wcwidth==0.2.5\n",
      "webencodings==0.5.1\n",
      "websocket-client==0.57.0\n",
      "Werkzeug==0.16.0\n",
      "widgetsnbextension==3.5.0\n",
      "wordcloud==1.3.1\n",
      "wrapt==1.11.2\n",
      "WTForms==2.2.1\n",
      "xarray==0.16.2\n",
      "xcffib==0.5.1\n",
      "xgboost==1.4.2\n",
      "xkit==0.0.0\n",
      "xlrd==1.2.0\n",
      "XlsxWriter==1.3.3\n",
      "xlwt==1.3.0\n",
      "xmltodict==0.12.0\n",
      "yellowbrick==1.3.post1\n",
      "yfinance==0.1.45\n",
      "zeep==3.4.0\n",
      "zipp==0.6.0\n",
      "zope.interface==4.3.2\n",
      "Note: you may need to restart the kernel to use updated packages.\n"
     ]
    }
   ],
   "source": [
    "pip freeze"
   ]
  },
  {
   "cell_type": "code",
   "execution_count": null,
   "metadata": {},
   "outputs": [],
   "source": []
  },
  {
   "cell_type": "code",
   "execution_count": null,
   "metadata": {},
   "outputs": [],
   "source": []
  }
 ],
 "metadata": {
  "kernelspec": {
   "display_name": "custseg",
   "language": "python",
   "name": "custseg"
  },
  "language_info": {
   "codemirror_mode": {
    "name": "ipython",
    "version": 3
   },
   "file_extension": ".py",
   "mimetype": "text/x-python",
   "name": "python",
   "nbconvert_exporter": "python",
   "pygments_lexer": "ipython3",
   "version": "3.6.9"
  }
 },
 "nbformat": 4,
 "nbformat_minor": 2
}
